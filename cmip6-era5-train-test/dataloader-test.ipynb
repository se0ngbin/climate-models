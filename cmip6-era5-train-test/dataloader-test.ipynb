{
 "cells": [
  {
   "cell_type": "code",
   "execution_count": 1,
   "id": "dc2036c7",
   "metadata": {},
   "outputs": [],
   "source": [
    "from pathlib import Path\n",
    "import torch\n",
    "\n",
    "cmip_path = Path(\"/data0/datasets/weatherbench/data/weatherbench/cmip6/5.625\")   # replace with path\n",
    "era_path = Path(\"/data0/datasets/weatherbench/data/weatherbench/era5/5.625deg\")"
   ]
  },
  {
   "cell_type": "code",
   "execution_count": 2,
   "id": "bf82e368",
   "metadata": {},
   "outputs": [],
   "source": [
    "import xarray as xr\n",
    "\n",
    "import sys\n",
    "sys.path.insert(0, '/home/seongbin/climate-learn/src')"
   ]
  },
  {
   "cell_type": "code",
   "execution_count": 3,
   "id": "d877def9",
   "metadata": {},
   "outputs": [
    {
     "name": "stderr",
     "output_type": "stream",
     "text": [
      "/home/seongbin/climate-learn/src/climate_learn/data/modules/cmip6_module.py:77: SyntaxWarning: \"is\" with a literal. Did you mean \"==\"?\n",
      "  if var is \"geopotential\":\n",
      "/home/seongbin/climate-learn/src/climate_learn/data/modules/cmip6_module.py:84: SyntaxWarning: \"is\" with a literal. Did you mean \"==\"?\n",
      "  if var is \"geopotential\":\n"
     ]
    }
   ],
   "source": [
    "from climate_learn.utils.datetime import Year, Days, Hours\n",
    "from climate_learn.data import DataModule"
   ]
  },
  {
   "cell_type": "code",
   "execution_count": 5,
   "id": "665348aa",
   "metadata": {
    "scrolled": true
   },
   "outputs": [
    {
     "name": "stdout",
     "output_type": "stream",
     "text": [
      "Creating train dataset\n",
      "update\n"
     ]
    },
    {
     "data": {
      "application/json": {
       "ascii": false,
       "bar_format": null,
       "colour": null,
       "elapsed": 0.009883403778076172,
       "initial": 0,
       "n": 0,
       "ncols": null,
       "nrows": 16,
       "postfix": null,
       "prefix": "",
       "rate": null,
       "total": 32,
       "unit": "it",
       "unit_divisor": 1000,
       "unit_scale": false
      },
      "application/vnd.jupyter.widget-view+json": {
       "model_id": "729c0b416d3048ee9616ab816aa2ab6e",
       "version_major": 2,
       "version_minor": 0
      },
      "text/plain": [
       "  0%|          | 0/32 [00:00<?, ?it/s]"
      ]
     },
     "metadata": {},
     "output_type": "display_data"
    },
    {
     "name": "stdout",
     "output_type": "stream",
     "text": [
      "out 280512\n",
      "in 280512\n",
      "Finished inp and out _data\n",
      "True\n",
      "Almost done!\n",
      "Creating val dataset\n",
      "update\n"
     ]
    },
    {
     "data": {
      "application/json": {
       "ascii": false,
       "bar_format": null,
       "colour": null,
       "elapsed": 0.013384819030761719,
       "initial": 0,
       "n": 0,
       "ncols": null,
       "nrows": 16,
       "postfix": null,
       "prefix": "",
       "rate": null,
       "total": 2,
       "unit": "it",
       "unit_divisor": 1000,
       "unit_scale": false
      },
      "application/vnd.jupyter.widget-view+json": {
       "model_id": "09e22dd61d5040a4af9a98e17741a4e8",
       "version_major": 2,
       "version_minor": 0
      },
      "text/plain": [
       "  0%|          | 0/2 [00:00<?, ?it/s]"
      ]
     },
     "metadata": {},
     "output_type": "display_data"
    },
    {
     "name": "stdout",
     "output_type": "stream",
     "text": [
      "out 17544\n",
      "in 17544\n",
      "Finished inp and out _data\n",
      "True\n",
      "Almost done!\n",
      "Creating test dataset\n",
      "update\n"
     ]
    },
    {
     "data": {
      "application/json": {
       "ascii": false,
       "bar_format": null,
       "colour": null,
       "elapsed": 0.01641225814819336,
       "initial": 0,
       "n": 0,
       "ncols": null,
       "nrows": 16,
       "postfix": null,
       "prefix": "",
       "rate": null,
       "total": 2,
       "unit": "it",
       "unit_divisor": 1000,
       "unit_scale": false
      },
      "application/vnd.jupyter.widget-view+json": {
       "model_id": "d34af8c14ca54c99b02f2a07c6257b45",
       "version_major": 2,
       "version_minor": 0
      },
      "text/plain": [
       "  0%|          | 0/2 [00:00<?, ?it/s]"
      ]
     },
     "metadata": {},
     "output_type": "display_data"
    },
    {
     "name": "stdout",
     "output_type": "stream",
     "text": [
      "out 17520\n",
      "in 17520\n",
      "Finished inp and out _data\n",
      "True\n",
      "Almost done!\n"
     ]
    }
   ],
   "source": [
    "era5_data_module = DataModule(\n",
    "    dataset = \"ERA5\",\n",
    "    task = \"forecasting\",\n",
    "    root_dir = era_path,\n",
    "    in_vars = [\"geopotential\"],\n",
    "    out_vars = [\"geopotential_500\"],\n",
    "    train_start_year = Year(1979),\n",
    "    val_start_year = Year(2011),\n",
    "    test_start_year = Year(2013),\n",
    "    end_year = Year(2014),\n",
    "    pred_range = Days(5),\n",
    "    subsample = Hours(6),\n",
    "    batch_size = 128,\n",
    "    num_workers = 16\n",
    ") "
   ]
  },
  {
   "cell_type": "code",
   "execution_count": 4,
   "id": "7033353b",
   "metadata": {
    "scrolled": true
   },
   "outputs": [
    {
     "name": "stdout",
     "output_type": "stream",
     "text": [
      "Creating train dataset\n"
     ]
    },
    {
     "data": {
      "application/json": {
       "ascii": false,
       "bar_format": null,
       "colour": null,
       "elapsed": 0.014069557189941406,
       "initial": 0,
       "n": 0,
       "ncols": null,
       "nrows": 16,
       "postfix": null,
       "prefix": "",
       "rate": null,
       "total": 161,
       "unit": "it",
       "unit_divisor": 1000,
       "unit_scale": false
      },
      "application/vnd.jupyter.widget-view+json": {
       "model_id": "db971cbee7ce4378badc56040b46514d",
       "version_major": 2,
       "version_minor": 0
      },
      "text/plain": [
       "  0%|          | 0/161 [00:00<?, ?it/s]"
      ]
     },
     "metadata": {},
     "output_type": "display_data"
    },
    {
     "name": "stdout",
     "output_type": "stream",
     "text": [
      "in 235039\n",
      "out 235039\n",
      "Creating val dataset\n"
     ]
    },
    {
     "data": {
      "application/json": {
       "ascii": false,
       "bar_format": null,
       "colour": null,
       "elapsed": 0.010613679885864258,
       "initial": 0,
       "n": 0,
       "ncols": null,
       "nrows": 16,
       "postfix": null,
       "prefix": "",
       "rate": null,
       "total": 2,
       "unit": "it",
       "unit_divisor": 1000,
       "unit_scale": false
      },
      "application/vnd.jupyter.widget-view+json": {
       "model_id": "ae7b057fd03946c79248f36107cf28d9",
       "version_major": 2,
       "version_minor": 0
      },
      "text/plain": [
       "  0%|          | 0/2 [00:00<?, ?it/s]"
      ]
     },
     "metadata": {},
     "output_type": "display_data"
    },
    {
     "name": "stdout",
     "output_type": "stream",
     "text": [
      "in 2918\n",
      "out 2918\n",
      "Creating test dataset\n"
     ]
    },
    {
     "data": {
      "application/json": {
       "ascii": false,
       "bar_format": null,
       "colour": null,
       "elapsed": 0.010303974151611328,
       "initial": 0,
       "n": 0,
       "ncols": null,
       "nrows": 16,
       "postfix": null,
       "prefix": "",
       "rate": null,
       "total": 2,
       "unit": "it",
       "unit_divisor": 1000,
       "unit_scale": false
      },
      "application/vnd.jupyter.widget-view+json": {
       "model_id": "444500050dd34815a07a4466011f1c30",
       "version_major": 2,
       "version_minor": 0
      },
      "text/plain": [
       "  0%|          | 0/2 [00:00<?, ?it/s]"
      ]
     },
     "metadata": {},
     "output_type": "display_data"
    },
    {
     "name": "stdout",
     "output_type": "stream",
     "text": [
      "in 2918\n",
      "out 2918\n"
     ]
    }
   ],
   "source": [
    "cmip6_data_module = DataModule(\n",
    "    dataset = \"CMIP6\",\n",
    "    task = \"forecasting\",\n",
    "    root_dir = cmip_path,\n",
    "    in_vars = [\"geopotential\"],\n",
    "    out_vars = [\"geopotential_500\"],\n",
    "    train_start_year = Year(1850),\n",
    "    val_start_year = Year(2011),\n",
    "    test_start_year = Year(2013),\n",
    "    end_year = Year(2014),\n",
    "    pred_range = Days(5),\n",
    "    subsample = Hours(6),\n",
    "    batch_size = 128,\n",
    "    num_workers = 16\n",
    ") "
   ]
  },
  {
   "cell_type": "code",
   "execution_count": 16,
   "id": "a469a15c",
   "metadata": {},
   "outputs": [
    {
     "data": {
      "text/plain": [
       "Normalize(mean=[530730.4], std=[32671.979])"
      ]
     },
     "execution_count": 16,
     "metadata": {},
     "output_type": "execute_result"
    }
   ],
   "source": [
    "cmip6_data_module.train_dataset.out_transform"
   ]
  },
  {
   "cell_type": "code",
   "execution_count": 19,
   "id": "a61a9300",
   "metadata": {},
   "outputs": [],
   "source": [
    "from climate_learn.models import load_model\n",
    "\n",
    "\n",
    "cmip_model_kwargs = {\n",
    "    \"in_channels\": len(cmip6_data_module.hparams.in_vars),\n",
    "    \"out_channels\": len(cmip6_data_module.hparams.out_vars),\n",
    "    \"n_blocks\": 4\n",
    "}\n",
    "\n",
    "optim_kwargs = {\n",
    "    \"lr\": 1e-4,\n",
    "    \"weight_decay\": 1e-5,\n",
    "    \"warmup_epochs\": 1,\n",
    "    \"max_epochs\": 5,\n",
    "}\n",
    "\n",
    "cmip_model_module = load_model(name = \"resnet\", task = \"forecasting\", model_kwargs = cmip_model_kwargs, optim_kwargs = optim_kwargs)"
   ]
  },
  {
   "cell_type": "code",
   "execution_count": 20,
   "id": "c37fc253",
   "metadata": {},
   "outputs": [],
   "source": [
    "from climate_learn.models import set_climatology\n",
    "set_climatology(cmip_model_module, cmip6_data_module)"
   ]
  },
  {
   "cell_type": "code",
   "execution_count": 21,
   "id": "8e004994",
   "metadata": {},
   "outputs": [],
   "source": [
    "from climate_learn.training import Trainer, WandbLogger\n",
    "\n",
    "cmip_trainer = Trainer(\n",
    "    seed = 0,\n",
    "    accelerator = \"gpu\",\n",
    "    precision = 16,\n",
    "    max_epochs = 5,\n",
    "    # logger = WandbLogger(project = \"climate_tutorial\", name = \"forecast-vit\")\n",
    ")"
   ]
  },
  {
   "cell_type": "code",
   "execution_count": 22,
   "id": "28427d13",
   "metadata": {},
   "outputs": [
    {
     "name": "stderr",
     "output_type": "stream",
     "text": [
      "/home/seongbin/miniconda3/envs/climate_pretrain/lib/python3.8/site-packages/pytorch_lightning/callbacks/model_checkpoint.py:611: UserWarning: Checkpoint directory /data0/ckpts/seongbin/cross-train-z500/checkpoints exists and is not empty.\n",
      "  rank_zero_warn(f\"Checkpoint directory {dirpath} exists and is not empty.\")\n"
     ]
    },
    {
     "data": {
      "text/html": [
       "<pre style=\"white-space:pre;overflow-x:auto;line-height:normal;font-family:Menlo,'DejaVu Sans Mono',consolas,'Courier New',monospace\">┏━━━━┳━━━━━━━━━━━━━━━━━━━━━━━━━━━━┳━━━━━━━━━━━━━━━━━━━┳━━━━━━━━┓\n",
       "┃<span style=\"color: #800080; text-decoration-color: #800080; font-weight: bold\">    </span>┃<span style=\"color: #800080; text-decoration-color: #800080; font-weight: bold\"> Name                       </span>┃<span style=\"color: #800080; text-decoration-color: #800080; font-weight: bold\"> Type              </span>┃<span style=\"color: #800080; text-decoration-color: #800080; font-weight: bold\"> Params </span>┃\n",
       "┡━━━━╇━━━━━━━━━━━━━━━━━━━━━━━━━━━━╇━━━━━━━━━━━━━━━━━━━╇━━━━━━━━┩\n",
       "│<span style=\"color: #7f7f7f; text-decoration-color: #7f7f7f\"> 0  </span>│ net                        │ ResNet            │  1.2 M │\n",
       "│<span style=\"color: #7f7f7f; text-decoration-color: #7f7f7f\"> 1  </span>│ net.activation             │ LeakyReLU         │      0 │\n",
       "│<span style=\"color: #7f7f7f; text-decoration-color: #7f7f7f\"> 2  </span>│ net.image_proj             │ PeriodicConv2D    │  6.4 K │\n",
       "│<span style=\"color: #7f7f7f; text-decoration-color: #7f7f7f\"> 3  </span>│ net.image_proj.padding     │ PeriodicPadding2D │      0 │\n",
       "│<span style=\"color: #7f7f7f; text-decoration-color: #7f7f7f\"> 4  </span>│ net.image_proj.conv        │ Conv2d            │  6.4 K │\n",
       "│<span style=\"color: #7f7f7f; text-decoration-color: #7f7f7f\"> 5  </span>│ net.blocks                 │ ModuleList        │  1.2 M │\n",
       "│<span style=\"color: #7f7f7f; text-decoration-color: #7f7f7f\"> 6  </span>│ net.blocks.0               │ ResidualBlock     │  295 K │\n",
       "│<span style=\"color: #7f7f7f; text-decoration-color: #7f7f7f\"> 7  </span>│ net.blocks.0.activation    │ LeakyReLU         │      0 │\n",
       "│<span style=\"color: #7f7f7f; text-decoration-color: #7f7f7f\"> 8  </span>│ net.blocks.0.conv1         │ PeriodicConv2D    │  147 K │\n",
       "│<span style=\"color: #7f7f7f; text-decoration-color: #7f7f7f\"> 9  </span>│ net.blocks.0.conv1.padding │ PeriodicPadding2D │      0 │\n",
       "│<span style=\"color: #7f7f7f; text-decoration-color: #7f7f7f\"> 10 </span>│ net.blocks.0.conv1.conv    │ Conv2d            │  147 K │\n",
       "│<span style=\"color: #7f7f7f; text-decoration-color: #7f7f7f\"> 11 </span>│ net.blocks.0.conv2         │ PeriodicConv2D    │  147 K │\n",
       "│<span style=\"color: #7f7f7f; text-decoration-color: #7f7f7f\"> 12 </span>│ net.blocks.0.conv2.padding │ PeriodicPadding2D │      0 │\n",
       "│<span style=\"color: #7f7f7f; text-decoration-color: #7f7f7f\"> 13 </span>│ net.blocks.0.conv2.conv    │ Conv2d            │  147 K │\n",
       "│<span style=\"color: #7f7f7f; text-decoration-color: #7f7f7f\"> 14 </span>│ net.blocks.0.shortcut      │ Identity          │      0 │\n",
       "│<span style=\"color: #7f7f7f; text-decoration-color: #7f7f7f\"> 15 </span>│ net.blocks.0.norm1         │ BatchNorm2d       │    256 │\n",
       "│<span style=\"color: #7f7f7f; text-decoration-color: #7f7f7f\"> 16 </span>│ net.blocks.0.norm2         │ BatchNorm2d       │    256 │\n",
       "│<span style=\"color: #7f7f7f; text-decoration-color: #7f7f7f\"> 17 </span>│ net.blocks.0.drop          │ Dropout           │      0 │\n",
       "│<span style=\"color: #7f7f7f; text-decoration-color: #7f7f7f\"> 18 </span>│ net.blocks.1               │ ResidualBlock     │  295 K │\n",
       "│<span style=\"color: #7f7f7f; text-decoration-color: #7f7f7f\"> 19 </span>│ net.blocks.1.activation    │ LeakyReLU         │      0 │\n",
       "│<span style=\"color: #7f7f7f; text-decoration-color: #7f7f7f\"> 20 </span>│ net.blocks.1.conv1         │ PeriodicConv2D    │  147 K │\n",
       "│<span style=\"color: #7f7f7f; text-decoration-color: #7f7f7f\"> 21 </span>│ net.blocks.1.conv1.padding │ PeriodicPadding2D │      0 │\n",
       "│<span style=\"color: #7f7f7f; text-decoration-color: #7f7f7f\"> 22 </span>│ net.blocks.1.conv1.conv    │ Conv2d            │  147 K │\n",
       "│<span style=\"color: #7f7f7f; text-decoration-color: #7f7f7f\"> 23 </span>│ net.blocks.1.conv2         │ PeriodicConv2D    │  147 K │\n",
       "│<span style=\"color: #7f7f7f; text-decoration-color: #7f7f7f\"> 24 </span>│ net.blocks.1.conv2.padding │ PeriodicPadding2D │      0 │\n",
       "│<span style=\"color: #7f7f7f; text-decoration-color: #7f7f7f\"> 25 </span>│ net.blocks.1.conv2.conv    │ Conv2d            │  147 K │\n",
       "│<span style=\"color: #7f7f7f; text-decoration-color: #7f7f7f\"> 26 </span>│ net.blocks.1.shortcut      │ Identity          │      0 │\n",
       "│<span style=\"color: #7f7f7f; text-decoration-color: #7f7f7f\"> 27 </span>│ net.blocks.1.norm1         │ BatchNorm2d       │    256 │\n",
       "│<span style=\"color: #7f7f7f; text-decoration-color: #7f7f7f\"> 28 </span>│ net.blocks.1.norm2         │ BatchNorm2d       │    256 │\n",
       "│<span style=\"color: #7f7f7f; text-decoration-color: #7f7f7f\"> 29 </span>│ net.blocks.1.drop          │ Dropout           │      0 │\n",
       "│<span style=\"color: #7f7f7f; text-decoration-color: #7f7f7f\"> 30 </span>│ net.blocks.2               │ ResidualBlock     │  295 K │\n",
       "│<span style=\"color: #7f7f7f; text-decoration-color: #7f7f7f\"> 31 </span>│ net.blocks.2.activation    │ LeakyReLU         │      0 │\n",
       "│<span style=\"color: #7f7f7f; text-decoration-color: #7f7f7f\"> 32 </span>│ net.blocks.2.conv1         │ PeriodicConv2D    │  147 K │\n",
       "│<span style=\"color: #7f7f7f; text-decoration-color: #7f7f7f\"> 33 </span>│ net.blocks.2.conv1.padding │ PeriodicPadding2D │      0 │\n",
       "│<span style=\"color: #7f7f7f; text-decoration-color: #7f7f7f\"> 34 </span>│ net.blocks.2.conv1.conv    │ Conv2d            │  147 K │\n",
       "│<span style=\"color: #7f7f7f; text-decoration-color: #7f7f7f\"> 35 </span>│ net.blocks.2.conv2         │ PeriodicConv2D    │  147 K │\n",
       "│<span style=\"color: #7f7f7f; text-decoration-color: #7f7f7f\"> 36 </span>│ net.blocks.2.conv2.padding │ PeriodicPadding2D │      0 │\n",
       "│<span style=\"color: #7f7f7f; text-decoration-color: #7f7f7f\"> 37 </span>│ net.blocks.2.conv2.conv    │ Conv2d            │  147 K │\n",
       "│<span style=\"color: #7f7f7f; text-decoration-color: #7f7f7f\"> 38 </span>│ net.blocks.2.shortcut      │ Identity          │      0 │\n",
       "│<span style=\"color: #7f7f7f; text-decoration-color: #7f7f7f\"> 39 </span>│ net.blocks.2.norm1         │ BatchNorm2d       │    256 │\n",
       "│<span style=\"color: #7f7f7f; text-decoration-color: #7f7f7f\"> 40 </span>│ net.blocks.2.norm2         │ BatchNorm2d       │    256 │\n",
       "│<span style=\"color: #7f7f7f; text-decoration-color: #7f7f7f\"> 41 </span>│ net.blocks.2.drop          │ Dropout           │      0 │\n",
       "│<span style=\"color: #7f7f7f; text-decoration-color: #7f7f7f\"> 42 </span>│ net.blocks.3               │ ResidualBlock     │  295 K │\n",
       "│<span style=\"color: #7f7f7f; text-decoration-color: #7f7f7f\"> 43 </span>│ net.blocks.3.activation    │ LeakyReLU         │      0 │\n",
       "│<span style=\"color: #7f7f7f; text-decoration-color: #7f7f7f\"> 44 </span>│ net.blocks.3.conv1         │ PeriodicConv2D    │  147 K │\n",
       "│<span style=\"color: #7f7f7f; text-decoration-color: #7f7f7f\"> 45 </span>│ net.blocks.3.conv1.padding │ PeriodicPadding2D │      0 │\n",
       "│<span style=\"color: #7f7f7f; text-decoration-color: #7f7f7f\"> 46 </span>│ net.blocks.3.conv1.conv    │ Conv2d            │  147 K │\n",
       "│<span style=\"color: #7f7f7f; text-decoration-color: #7f7f7f\"> 47 </span>│ net.blocks.3.conv2         │ PeriodicConv2D    │  147 K │\n",
       "│<span style=\"color: #7f7f7f; text-decoration-color: #7f7f7f\"> 48 </span>│ net.blocks.3.conv2.padding │ PeriodicPadding2D │      0 │\n",
       "│<span style=\"color: #7f7f7f; text-decoration-color: #7f7f7f\"> 49 </span>│ net.blocks.3.conv2.conv    │ Conv2d            │  147 K │\n",
       "│<span style=\"color: #7f7f7f; text-decoration-color: #7f7f7f\"> 50 </span>│ net.blocks.3.shortcut      │ Identity          │      0 │\n",
       "│<span style=\"color: #7f7f7f; text-decoration-color: #7f7f7f\"> 51 </span>│ net.blocks.3.norm1         │ BatchNorm2d       │    256 │\n",
       "│<span style=\"color: #7f7f7f; text-decoration-color: #7f7f7f\"> 52 </span>│ net.blocks.3.norm2         │ BatchNorm2d       │    256 │\n",
       "│<span style=\"color: #7f7f7f; text-decoration-color: #7f7f7f\"> 53 </span>│ net.blocks.3.drop          │ Dropout           │      0 │\n",
       "│<span style=\"color: #7f7f7f; text-decoration-color: #7f7f7f\"> 54 </span>│ net.norm                   │ BatchNorm2d       │    256 │\n",
       "│<span style=\"color: #7f7f7f; text-decoration-color: #7f7f7f\"> 55 </span>│ net.final                  │ PeriodicConv2D    │  6.3 K │\n",
       "│<span style=\"color: #7f7f7f; text-decoration-color: #7f7f7f\"> 56 </span>│ net.final.padding          │ PeriodicPadding2D │      0 │\n",
       "│<span style=\"color: #7f7f7f; text-decoration-color: #7f7f7f\"> 57 </span>│ net.final.conv             │ Conv2d            │  6.3 K │\n",
       "│<span style=\"color: #7f7f7f; text-decoration-color: #7f7f7f\"> 58 </span>│ denormalization            │ Normalize         │      0 │\n",
       "│<span style=\"color: #7f7f7f; text-decoration-color: #7f7f7f\"> 59 </span>│ mean_denormalize           │ Normalize         │      0 │\n",
       "│<span style=\"color: #7f7f7f; text-decoration-color: #7f7f7f\"> 60 </span>│ std_denormalize            │ Normalize         │      0 │\n",
       "└────┴────────────────────────────┴───────────────────┴────────┘\n",
       "</pre>\n"
      ],
      "text/plain": [
       "┏━━━━┳━━━━━━━━━━━━━━━━━━━━━━━━━━━━┳━━━━━━━━━━━━━━━━━━━┳━━━━━━━━┓\n",
       "┃\u001b[1;35m \u001b[0m\u001b[1;35m  \u001b[0m\u001b[1;35m \u001b[0m┃\u001b[1;35m \u001b[0m\u001b[1;35mName                      \u001b[0m\u001b[1;35m \u001b[0m┃\u001b[1;35m \u001b[0m\u001b[1;35mType             \u001b[0m\u001b[1;35m \u001b[0m┃\u001b[1;35m \u001b[0m\u001b[1;35mParams\u001b[0m\u001b[1;35m \u001b[0m┃\n",
       "┡━━━━╇━━━━━━━━━━━━━━━━━━━━━━━━━━━━╇━━━━━━━━━━━━━━━━━━━╇━━━━━━━━┩\n",
       "│\u001b[2m \u001b[0m\u001b[2m0 \u001b[0m\u001b[2m \u001b[0m│ net                        │ ResNet            │  1.2 M │\n",
       "│\u001b[2m \u001b[0m\u001b[2m1 \u001b[0m\u001b[2m \u001b[0m│ net.activation             │ LeakyReLU         │      0 │\n",
       "│\u001b[2m \u001b[0m\u001b[2m2 \u001b[0m\u001b[2m \u001b[0m│ net.image_proj             │ PeriodicConv2D    │  6.4 K │\n",
       "│\u001b[2m \u001b[0m\u001b[2m3 \u001b[0m\u001b[2m \u001b[0m│ net.image_proj.padding     │ PeriodicPadding2D │      0 │\n",
       "│\u001b[2m \u001b[0m\u001b[2m4 \u001b[0m\u001b[2m \u001b[0m│ net.image_proj.conv        │ Conv2d            │  6.4 K │\n",
       "│\u001b[2m \u001b[0m\u001b[2m5 \u001b[0m\u001b[2m \u001b[0m│ net.blocks                 │ ModuleList        │  1.2 M │\n",
       "│\u001b[2m \u001b[0m\u001b[2m6 \u001b[0m\u001b[2m \u001b[0m│ net.blocks.0               │ ResidualBlock     │  295 K │\n",
       "│\u001b[2m \u001b[0m\u001b[2m7 \u001b[0m\u001b[2m \u001b[0m│ net.blocks.0.activation    │ LeakyReLU         │      0 │\n",
       "│\u001b[2m \u001b[0m\u001b[2m8 \u001b[0m\u001b[2m \u001b[0m│ net.blocks.0.conv1         │ PeriodicConv2D    │  147 K │\n",
       "│\u001b[2m \u001b[0m\u001b[2m9 \u001b[0m\u001b[2m \u001b[0m│ net.blocks.0.conv1.padding │ PeriodicPadding2D │      0 │\n",
       "│\u001b[2m \u001b[0m\u001b[2m10\u001b[0m\u001b[2m \u001b[0m│ net.blocks.0.conv1.conv    │ Conv2d            │  147 K │\n",
       "│\u001b[2m \u001b[0m\u001b[2m11\u001b[0m\u001b[2m \u001b[0m│ net.blocks.0.conv2         │ PeriodicConv2D    │  147 K │\n",
       "│\u001b[2m \u001b[0m\u001b[2m12\u001b[0m\u001b[2m \u001b[0m│ net.blocks.0.conv2.padding │ PeriodicPadding2D │      0 │\n",
       "│\u001b[2m \u001b[0m\u001b[2m13\u001b[0m\u001b[2m \u001b[0m│ net.blocks.0.conv2.conv    │ Conv2d            │  147 K │\n",
       "│\u001b[2m \u001b[0m\u001b[2m14\u001b[0m\u001b[2m \u001b[0m│ net.blocks.0.shortcut      │ Identity          │      0 │\n",
       "│\u001b[2m \u001b[0m\u001b[2m15\u001b[0m\u001b[2m \u001b[0m│ net.blocks.0.norm1         │ BatchNorm2d       │    256 │\n",
       "│\u001b[2m \u001b[0m\u001b[2m16\u001b[0m\u001b[2m \u001b[0m│ net.blocks.0.norm2         │ BatchNorm2d       │    256 │\n",
       "│\u001b[2m \u001b[0m\u001b[2m17\u001b[0m\u001b[2m \u001b[0m│ net.blocks.0.drop          │ Dropout           │      0 │\n",
       "│\u001b[2m \u001b[0m\u001b[2m18\u001b[0m\u001b[2m \u001b[0m│ net.blocks.1               │ ResidualBlock     │  295 K │\n",
       "│\u001b[2m \u001b[0m\u001b[2m19\u001b[0m\u001b[2m \u001b[0m│ net.blocks.1.activation    │ LeakyReLU         │      0 │\n",
       "│\u001b[2m \u001b[0m\u001b[2m20\u001b[0m\u001b[2m \u001b[0m│ net.blocks.1.conv1         │ PeriodicConv2D    │  147 K │\n",
       "│\u001b[2m \u001b[0m\u001b[2m21\u001b[0m\u001b[2m \u001b[0m│ net.blocks.1.conv1.padding │ PeriodicPadding2D │      0 │\n",
       "│\u001b[2m \u001b[0m\u001b[2m22\u001b[0m\u001b[2m \u001b[0m│ net.blocks.1.conv1.conv    │ Conv2d            │  147 K │\n",
       "│\u001b[2m \u001b[0m\u001b[2m23\u001b[0m\u001b[2m \u001b[0m│ net.blocks.1.conv2         │ PeriodicConv2D    │  147 K │\n",
       "│\u001b[2m \u001b[0m\u001b[2m24\u001b[0m\u001b[2m \u001b[0m│ net.blocks.1.conv2.padding │ PeriodicPadding2D │      0 │\n",
       "│\u001b[2m \u001b[0m\u001b[2m25\u001b[0m\u001b[2m \u001b[0m│ net.blocks.1.conv2.conv    │ Conv2d            │  147 K │\n",
       "│\u001b[2m \u001b[0m\u001b[2m26\u001b[0m\u001b[2m \u001b[0m│ net.blocks.1.shortcut      │ Identity          │      0 │\n",
       "│\u001b[2m \u001b[0m\u001b[2m27\u001b[0m\u001b[2m \u001b[0m│ net.blocks.1.norm1         │ BatchNorm2d       │    256 │\n",
       "│\u001b[2m \u001b[0m\u001b[2m28\u001b[0m\u001b[2m \u001b[0m│ net.blocks.1.norm2         │ BatchNorm2d       │    256 │\n",
       "│\u001b[2m \u001b[0m\u001b[2m29\u001b[0m\u001b[2m \u001b[0m│ net.blocks.1.drop          │ Dropout           │      0 │\n",
       "│\u001b[2m \u001b[0m\u001b[2m30\u001b[0m\u001b[2m \u001b[0m│ net.blocks.2               │ ResidualBlock     │  295 K │\n",
       "│\u001b[2m \u001b[0m\u001b[2m31\u001b[0m\u001b[2m \u001b[0m│ net.blocks.2.activation    │ LeakyReLU         │      0 │\n",
       "│\u001b[2m \u001b[0m\u001b[2m32\u001b[0m\u001b[2m \u001b[0m│ net.blocks.2.conv1         │ PeriodicConv2D    │  147 K │\n",
       "│\u001b[2m \u001b[0m\u001b[2m33\u001b[0m\u001b[2m \u001b[0m│ net.blocks.2.conv1.padding │ PeriodicPadding2D │      0 │\n",
       "│\u001b[2m \u001b[0m\u001b[2m34\u001b[0m\u001b[2m \u001b[0m│ net.blocks.2.conv1.conv    │ Conv2d            │  147 K │\n",
       "│\u001b[2m \u001b[0m\u001b[2m35\u001b[0m\u001b[2m \u001b[0m│ net.blocks.2.conv2         │ PeriodicConv2D    │  147 K │\n",
       "│\u001b[2m \u001b[0m\u001b[2m36\u001b[0m\u001b[2m \u001b[0m│ net.blocks.2.conv2.padding │ PeriodicPadding2D │      0 │\n",
       "│\u001b[2m \u001b[0m\u001b[2m37\u001b[0m\u001b[2m \u001b[0m│ net.blocks.2.conv2.conv    │ Conv2d            │  147 K │\n",
       "│\u001b[2m \u001b[0m\u001b[2m38\u001b[0m\u001b[2m \u001b[0m│ net.blocks.2.shortcut      │ Identity          │      0 │\n",
       "│\u001b[2m \u001b[0m\u001b[2m39\u001b[0m\u001b[2m \u001b[0m│ net.blocks.2.norm1         │ BatchNorm2d       │    256 │\n",
       "│\u001b[2m \u001b[0m\u001b[2m40\u001b[0m\u001b[2m \u001b[0m│ net.blocks.2.norm2         │ BatchNorm2d       │    256 │\n",
       "│\u001b[2m \u001b[0m\u001b[2m41\u001b[0m\u001b[2m \u001b[0m│ net.blocks.2.drop          │ Dropout           │      0 │\n",
       "│\u001b[2m \u001b[0m\u001b[2m42\u001b[0m\u001b[2m \u001b[0m│ net.blocks.3               │ ResidualBlock     │  295 K │\n",
       "│\u001b[2m \u001b[0m\u001b[2m43\u001b[0m\u001b[2m \u001b[0m│ net.blocks.3.activation    │ LeakyReLU         │      0 │\n",
       "│\u001b[2m \u001b[0m\u001b[2m44\u001b[0m\u001b[2m \u001b[0m│ net.blocks.3.conv1         │ PeriodicConv2D    │  147 K │\n",
       "│\u001b[2m \u001b[0m\u001b[2m45\u001b[0m\u001b[2m \u001b[0m│ net.blocks.3.conv1.padding │ PeriodicPadding2D │      0 │\n",
       "│\u001b[2m \u001b[0m\u001b[2m46\u001b[0m\u001b[2m \u001b[0m│ net.blocks.3.conv1.conv    │ Conv2d            │  147 K │\n",
       "│\u001b[2m \u001b[0m\u001b[2m47\u001b[0m\u001b[2m \u001b[0m│ net.blocks.3.conv2         │ PeriodicConv2D    │  147 K │\n",
       "│\u001b[2m \u001b[0m\u001b[2m48\u001b[0m\u001b[2m \u001b[0m│ net.blocks.3.conv2.padding │ PeriodicPadding2D │      0 │\n",
       "│\u001b[2m \u001b[0m\u001b[2m49\u001b[0m\u001b[2m \u001b[0m│ net.blocks.3.conv2.conv    │ Conv2d            │  147 K │\n",
       "│\u001b[2m \u001b[0m\u001b[2m50\u001b[0m\u001b[2m \u001b[0m│ net.blocks.3.shortcut      │ Identity          │      0 │\n",
       "│\u001b[2m \u001b[0m\u001b[2m51\u001b[0m\u001b[2m \u001b[0m│ net.blocks.3.norm1         │ BatchNorm2d       │    256 │\n",
       "│\u001b[2m \u001b[0m\u001b[2m52\u001b[0m\u001b[2m \u001b[0m│ net.blocks.3.norm2         │ BatchNorm2d       │    256 │\n",
       "│\u001b[2m \u001b[0m\u001b[2m53\u001b[0m\u001b[2m \u001b[0m│ net.blocks.3.drop          │ Dropout           │      0 │\n",
       "│\u001b[2m \u001b[0m\u001b[2m54\u001b[0m\u001b[2m \u001b[0m│ net.norm                   │ BatchNorm2d       │    256 │\n",
       "│\u001b[2m \u001b[0m\u001b[2m55\u001b[0m\u001b[2m \u001b[0m│ net.final                  │ PeriodicConv2D    │  6.3 K │\n",
       "│\u001b[2m \u001b[0m\u001b[2m56\u001b[0m\u001b[2m \u001b[0m│ net.final.padding          │ PeriodicPadding2D │      0 │\n",
       "│\u001b[2m \u001b[0m\u001b[2m57\u001b[0m\u001b[2m \u001b[0m│ net.final.conv             │ Conv2d            │  6.3 K │\n",
       "│\u001b[2m \u001b[0m\u001b[2m58\u001b[0m\u001b[2m \u001b[0m│ denormalization            │ Normalize         │      0 │\n",
       "│\u001b[2m \u001b[0m\u001b[2m59\u001b[0m\u001b[2m \u001b[0m│ mean_denormalize           │ Normalize         │      0 │\n",
       "│\u001b[2m \u001b[0m\u001b[2m60\u001b[0m\u001b[2m \u001b[0m│ std_denormalize            │ Normalize         │      0 │\n",
       "└────┴────────────────────────────┴───────────────────┴────────┘\n"
      ]
     },
     "metadata": {},
     "output_type": "display_data"
    },
    {
     "data": {
      "text/html": [
       "<pre style=\"white-space:pre;overflow-x:auto;line-height:normal;font-family:Menlo,'DejaVu Sans Mono',consolas,'Courier New',monospace\"><span style=\"font-weight: bold\">Trainable params</span>: 1.2 M                                                                      \n",
       "<span style=\"font-weight: bold\">Non-trainable params</span>: 0                                                                      \n",
       "<span style=\"font-weight: bold\">Total params</span>: 1.2 M                                                                          \n",
       "<span style=\"font-weight: bold\">Total estimated model params size (MB)</span>: 2                                                    \n",
       "</pre>\n"
      ],
      "text/plain": [
       "\u001b[1mTrainable params\u001b[0m: 1.2 M                                                                      \n",
       "\u001b[1mNon-trainable params\u001b[0m: 0                                                                      \n",
       "\u001b[1mTotal params\u001b[0m: 1.2 M                                                                          \n",
       "\u001b[1mTotal estimated model params size (MB)\u001b[0m: 2                                                    \n"
      ]
     },
     "metadata": {},
     "output_type": "display_data"
    },
    {
     "data": {
      "application/vnd.jupyter.widget-view+json": {
       "model_id": "e0c985a6ad344931b2a884cf69742592",
       "version_major": 2,
       "version_minor": 0
      },
      "text/plain": [
       "Output()"
      ]
     },
     "metadata": {},
     "output_type": "display_data"
    },
    {
     "data": {
      "text/html": [
       "<pre style=\"white-space:pre;overflow-x:auto;line-height:normal;font-family:Menlo,'DejaVu Sans Mono',consolas,'Courier New',monospace\"></pre>\n"
      ],
      "text/plain": []
     },
     "metadata": {},
     "output_type": "display_data"
    },
    {
     "data": {
      "text/html": [
       "<pre style=\"white-space:pre;overflow-x:auto;line-height:normal;font-family:Menlo,'DejaVu Sans Mono',consolas,'Courier New',monospace\">\n",
       "</pre>\n"
      ],
      "text/plain": [
       "\n"
      ]
     },
     "metadata": {},
     "output_type": "display_data"
    }
   ],
   "source": [
    "cmip_trainer.fit(cmip_model_module, cmip6_data_module)"
   ]
  },
  {
   "cell_type": "code",
   "execution_count": 10,
   "id": "8ecf2469",
   "metadata": {},
   "outputs": [],
   "source": [
    "era5_model_kwargs = {\n",
    "    \"in_channels\": len(era5_data_module.hparams.in_vars),\n",
    "    \"out_channels\": len(era5_data_module.hparams.out_vars),\n",
    "    \"n_blocks\": 4\n",
    "}\n",
    "\n",
    "optim_kwargs = {\n",
    "    \"lr\": 1e-4,\n",
    "    \"weight_decay\": 1e-5,\n",
    "    \"warmup_epochs\": 1,\n",
    "    \"max_epochs\": 5,\n",
    "}\n",
    "\n",
    "era5_model_module = load_model(name = \"resnet\", task = \"forecasting\", model_kwargs = era5_model_kwargs, optim_kwargs = optim_kwargs)"
   ]
  },
  {
   "cell_type": "code",
   "execution_count": 11,
   "id": "f0ed8efb",
   "metadata": {},
   "outputs": [],
   "source": [
    "set_climatology(era5_model_module, era5_data_module)"
   ]
  },
  {
   "cell_type": "code",
   "execution_count": 12,
   "id": "d12f09b3",
   "metadata": {},
   "outputs": [],
   "source": [
    "era5_trainer = Trainer(\n",
    "    seed = 0,\n",
    "    accelerator = \"gpu\",\n",
    "    precision = 16,\n",
    "    max_epochs = 5,\n",
    "    # logger = WandbLogger(project = \"climate_tutorial\", name = \"forecast-vit\")\n",
    ")"
   ]
  },
  {
   "cell_type": "code",
   "execution_count": 13,
   "id": "4d467075",
   "metadata": {
    "scrolled": true
   },
   "outputs": [
    {
     "name": "stderr",
     "output_type": "stream",
     "text": [
      "/home/seongbin/miniconda3/envs/climate_pretrain/lib/python3.8/site-packages/pytorch_lightning/callbacks/model_checkpoint.py:611: UserWarning: Checkpoint directory /data0/ckpts/seongbin/cross-train-z500/checkpoints exists and is not empty.\n",
      "  rank_zero_warn(f\"Checkpoint directory {dirpath} exists and is not empty.\")\n"
     ]
    },
    {
     "data": {
      "text/html": [
       "<pre style=\"white-space:pre;overflow-x:auto;line-height:normal;font-family:Menlo,'DejaVu Sans Mono',consolas,'Courier New',monospace\">┏━━━━┳━━━━━━━━━━━━━━━━━━━━━━━━━━━━┳━━━━━━━━━━━━━━━━━━━┳━━━━━━━━┓\n",
       "┃<span style=\"color: #800080; text-decoration-color: #800080; font-weight: bold\">    </span>┃<span style=\"color: #800080; text-decoration-color: #800080; font-weight: bold\"> Name                       </span>┃<span style=\"color: #800080; text-decoration-color: #800080; font-weight: bold\"> Type              </span>┃<span style=\"color: #800080; text-decoration-color: #800080; font-weight: bold\"> Params </span>┃\n",
       "┡━━━━╇━━━━━━━━━━━━━━━━━━━━━━━━━━━━╇━━━━━━━━━━━━━━━━━━━╇━━━━━━━━┩\n",
       "│<span style=\"color: #7f7f7f; text-decoration-color: #7f7f7f\"> 0  </span>│ net                        │ ResNet            │  1.2 M │\n",
       "│<span style=\"color: #7f7f7f; text-decoration-color: #7f7f7f\"> 1  </span>│ net.activation             │ LeakyReLU         │      0 │\n",
       "│<span style=\"color: #7f7f7f; text-decoration-color: #7f7f7f\"> 2  </span>│ net.image_proj             │ PeriodicConv2D    │  6.4 K │\n",
       "│<span style=\"color: #7f7f7f; text-decoration-color: #7f7f7f\"> 3  </span>│ net.image_proj.padding     │ PeriodicPadding2D │      0 │\n",
       "│<span style=\"color: #7f7f7f; text-decoration-color: #7f7f7f\"> 4  </span>│ net.image_proj.conv        │ Conv2d            │  6.4 K │\n",
       "│<span style=\"color: #7f7f7f; text-decoration-color: #7f7f7f\"> 5  </span>│ net.blocks                 │ ModuleList        │  1.2 M │\n",
       "│<span style=\"color: #7f7f7f; text-decoration-color: #7f7f7f\"> 6  </span>│ net.blocks.0               │ ResidualBlock     │  295 K │\n",
       "│<span style=\"color: #7f7f7f; text-decoration-color: #7f7f7f\"> 7  </span>│ net.blocks.0.activation    │ LeakyReLU         │      0 │\n",
       "│<span style=\"color: #7f7f7f; text-decoration-color: #7f7f7f\"> 8  </span>│ net.blocks.0.conv1         │ PeriodicConv2D    │  147 K │\n",
       "│<span style=\"color: #7f7f7f; text-decoration-color: #7f7f7f\"> 9  </span>│ net.blocks.0.conv1.padding │ PeriodicPadding2D │      0 │\n",
       "│<span style=\"color: #7f7f7f; text-decoration-color: #7f7f7f\"> 10 </span>│ net.blocks.0.conv1.conv    │ Conv2d            │  147 K │\n",
       "│<span style=\"color: #7f7f7f; text-decoration-color: #7f7f7f\"> 11 </span>│ net.blocks.0.conv2         │ PeriodicConv2D    │  147 K │\n",
       "│<span style=\"color: #7f7f7f; text-decoration-color: #7f7f7f\"> 12 </span>│ net.blocks.0.conv2.padding │ PeriodicPadding2D │      0 │\n",
       "│<span style=\"color: #7f7f7f; text-decoration-color: #7f7f7f\"> 13 </span>│ net.blocks.0.conv2.conv    │ Conv2d            │  147 K │\n",
       "│<span style=\"color: #7f7f7f; text-decoration-color: #7f7f7f\"> 14 </span>│ net.blocks.0.shortcut      │ Identity          │      0 │\n",
       "│<span style=\"color: #7f7f7f; text-decoration-color: #7f7f7f\"> 15 </span>│ net.blocks.0.norm1         │ BatchNorm2d       │    256 │\n",
       "│<span style=\"color: #7f7f7f; text-decoration-color: #7f7f7f\"> 16 </span>│ net.blocks.0.norm2         │ BatchNorm2d       │    256 │\n",
       "│<span style=\"color: #7f7f7f; text-decoration-color: #7f7f7f\"> 17 </span>│ net.blocks.0.drop          │ Dropout           │      0 │\n",
       "│<span style=\"color: #7f7f7f; text-decoration-color: #7f7f7f\"> 18 </span>│ net.blocks.1               │ ResidualBlock     │  295 K │\n",
       "│<span style=\"color: #7f7f7f; text-decoration-color: #7f7f7f\"> 19 </span>│ net.blocks.1.activation    │ LeakyReLU         │      0 │\n",
       "│<span style=\"color: #7f7f7f; text-decoration-color: #7f7f7f\"> 20 </span>│ net.blocks.1.conv1         │ PeriodicConv2D    │  147 K │\n",
       "│<span style=\"color: #7f7f7f; text-decoration-color: #7f7f7f\"> 21 </span>│ net.blocks.1.conv1.padding │ PeriodicPadding2D │      0 │\n",
       "│<span style=\"color: #7f7f7f; text-decoration-color: #7f7f7f\"> 22 </span>│ net.blocks.1.conv1.conv    │ Conv2d            │  147 K │\n",
       "│<span style=\"color: #7f7f7f; text-decoration-color: #7f7f7f\"> 23 </span>│ net.blocks.1.conv2         │ PeriodicConv2D    │  147 K │\n",
       "│<span style=\"color: #7f7f7f; text-decoration-color: #7f7f7f\"> 24 </span>│ net.blocks.1.conv2.padding │ PeriodicPadding2D │      0 │\n",
       "│<span style=\"color: #7f7f7f; text-decoration-color: #7f7f7f\"> 25 </span>│ net.blocks.1.conv2.conv    │ Conv2d            │  147 K │\n",
       "│<span style=\"color: #7f7f7f; text-decoration-color: #7f7f7f\"> 26 </span>│ net.blocks.1.shortcut      │ Identity          │      0 │\n",
       "│<span style=\"color: #7f7f7f; text-decoration-color: #7f7f7f\"> 27 </span>│ net.blocks.1.norm1         │ BatchNorm2d       │    256 │\n",
       "│<span style=\"color: #7f7f7f; text-decoration-color: #7f7f7f\"> 28 </span>│ net.blocks.1.norm2         │ BatchNorm2d       │    256 │\n",
       "│<span style=\"color: #7f7f7f; text-decoration-color: #7f7f7f\"> 29 </span>│ net.blocks.1.drop          │ Dropout           │      0 │\n",
       "│<span style=\"color: #7f7f7f; text-decoration-color: #7f7f7f\"> 30 </span>│ net.blocks.2               │ ResidualBlock     │  295 K │\n",
       "│<span style=\"color: #7f7f7f; text-decoration-color: #7f7f7f\"> 31 </span>│ net.blocks.2.activation    │ LeakyReLU         │      0 │\n",
       "│<span style=\"color: #7f7f7f; text-decoration-color: #7f7f7f\"> 32 </span>│ net.blocks.2.conv1         │ PeriodicConv2D    │  147 K │\n",
       "│<span style=\"color: #7f7f7f; text-decoration-color: #7f7f7f\"> 33 </span>│ net.blocks.2.conv1.padding │ PeriodicPadding2D │      0 │\n",
       "│<span style=\"color: #7f7f7f; text-decoration-color: #7f7f7f\"> 34 </span>│ net.blocks.2.conv1.conv    │ Conv2d            │  147 K │\n",
       "│<span style=\"color: #7f7f7f; text-decoration-color: #7f7f7f\"> 35 </span>│ net.blocks.2.conv2         │ PeriodicConv2D    │  147 K │\n",
       "│<span style=\"color: #7f7f7f; text-decoration-color: #7f7f7f\"> 36 </span>│ net.blocks.2.conv2.padding │ PeriodicPadding2D │      0 │\n",
       "│<span style=\"color: #7f7f7f; text-decoration-color: #7f7f7f\"> 37 </span>│ net.blocks.2.conv2.conv    │ Conv2d            │  147 K │\n",
       "│<span style=\"color: #7f7f7f; text-decoration-color: #7f7f7f\"> 38 </span>│ net.blocks.2.shortcut      │ Identity          │      0 │\n",
       "│<span style=\"color: #7f7f7f; text-decoration-color: #7f7f7f\"> 39 </span>│ net.blocks.2.norm1         │ BatchNorm2d       │    256 │\n",
       "│<span style=\"color: #7f7f7f; text-decoration-color: #7f7f7f\"> 40 </span>│ net.blocks.2.norm2         │ BatchNorm2d       │    256 │\n",
       "│<span style=\"color: #7f7f7f; text-decoration-color: #7f7f7f\"> 41 </span>│ net.blocks.2.drop          │ Dropout           │      0 │\n",
       "│<span style=\"color: #7f7f7f; text-decoration-color: #7f7f7f\"> 42 </span>│ net.blocks.3               │ ResidualBlock     │  295 K │\n",
       "│<span style=\"color: #7f7f7f; text-decoration-color: #7f7f7f\"> 43 </span>│ net.blocks.3.activation    │ LeakyReLU         │      0 │\n",
       "│<span style=\"color: #7f7f7f; text-decoration-color: #7f7f7f\"> 44 </span>│ net.blocks.3.conv1         │ PeriodicConv2D    │  147 K │\n",
       "│<span style=\"color: #7f7f7f; text-decoration-color: #7f7f7f\"> 45 </span>│ net.blocks.3.conv1.padding │ PeriodicPadding2D │      0 │\n",
       "│<span style=\"color: #7f7f7f; text-decoration-color: #7f7f7f\"> 46 </span>│ net.blocks.3.conv1.conv    │ Conv2d            │  147 K │\n",
       "│<span style=\"color: #7f7f7f; text-decoration-color: #7f7f7f\"> 47 </span>│ net.blocks.3.conv2         │ PeriodicConv2D    │  147 K │\n",
       "│<span style=\"color: #7f7f7f; text-decoration-color: #7f7f7f\"> 48 </span>│ net.blocks.3.conv2.padding │ PeriodicPadding2D │      0 │\n",
       "│<span style=\"color: #7f7f7f; text-decoration-color: #7f7f7f\"> 49 </span>│ net.blocks.3.conv2.conv    │ Conv2d            │  147 K │\n",
       "│<span style=\"color: #7f7f7f; text-decoration-color: #7f7f7f\"> 50 </span>│ net.blocks.3.shortcut      │ Identity          │      0 │\n",
       "│<span style=\"color: #7f7f7f; text-decoration-color: #7f7f7f\"> 51 </span>│ net.blocks.3.norm1         │ BatchNorm2d       │    256 │\n",
       "│<span style=\"color: #7f7f7f; text-decoration-color: #7f7f7f\"> 52 </span>│ net.blocks.3.norm2         │ BatchNorm2d       │    256 │\n",
       "│<span style=\"color: #7f7f7f; text-decoration-color: #7f7f7f\"> 53 </span>│ net.blocks.3.drop          │ Dropout           │      0 │\n",
       "│<span style=\"color: #7f7f7f; text-decoration-color: #7f7f7f\"> 54 </span>│ net.norm                   │ BatchNorm2d       │    256 │\n",
       "│<span style=\"color: #7f7f7f; text-decoration-color: #7f7f7f\"> 55 </span>│ net.final                  │ PeriodicConv2D    │  6.3 K │\n",
       "│<span style=\"color: #7f7f7f; text-decoration-color: #7f7f7f\"> 56 </span>│ net.final.padding          │ PeriodicPadding2D │      0 │\n",
       "│<span style=\"color: #7f7f7f; text-decoration-color: #7f7f7f\"> 57 </span>│ net.final.conv             │ Conv2d            │  6.3 K │\n",
       "│<span style=\"color: #7f7f7f; text-decoration-color: #7f7f7f\"> 58 </span>│ denormalization            │ Normalize         │      0 │\n",
       "│<span style=\"color: #7f7f7f; text-decoration-color: #7f7f7f\"> 59 </span>│ mean_denormalize           │ Normalize         │      0 │\n",
       "│<span style=\"color: #7f7f7f; text-decoration-color: #7f7f7f\"> 60 </span>│ std_denormalize            │ Normalize         │      0 │\n",
       "└────┴────────────────────────────┴───────────────────┴────────┘\n",
       "</pre>\n"
      ],
      "text/plain": [
       "┏━━━━┳━━━━━━━━━━━━━━━━━━━━━━━━━━━━┳━━━━━━━━━━━━━━━━━━━┳━━━━━━━━┓\n",
       "┃\u001b[1;35m \u001b[0m\u001b[1;35m  \u001b[0m\u001b[1;35m \u001b[0m┃\u001b[1;35m \u001b[0m\u001b[1;35mName                      \u001b[0m\u001b[1;35m \u001b[0m┃\u001b[1;35m \u001b[0m\u001b[1;35mType             \u001b[0m\u001b[1;35m \u001b[0m┃\u001b[1;35m \u001b[0m\u001b[1;35mParams\u001b[0m\u001b[1;35m \u001b[0m┃\n",
       "┡━━━━╇━━━━━━━━━━━━━━━━━━━━━━━━━━━━╇━━━━━━━━━━━━━━━━━━━╇━━━━━━━━┩\n",
       "│\u001b[2m \u001b[0m\u001b[2m0 \u001b[0m\u001b[2m \u001b[0m│ net                        │ ResNet            │  1.2 M │\n",
       "│\u001b[2m \u001b[0m\u001b[2m1 \u001b[0m\u001b[2m \u001b[0m│ net.activation             │ LeakyReLU         │      0 │\n",
       "│\u001b[2m \u001b[0m\u001b[2m2 \u001b[0m\u001b[2m \u001b[0m│ net.image_proj             │ PeriodicConv2D    │  6.4 K │\n",
       "│\u001b[2m \u001b[0m\u001b[2m3 \u001b[0m\u001b[2m \u001b[0m│ net.image_proj.padding     │ PeriodicPadding2D │      0 │\n",
       "│\u001b[2m \u001b[0m\u001b[2m4 \u001b[0m\u001b[2m \u001b[0m│ net.image_proj.conv        │ Conv2d            │  6.4 K │\n",
       "│\u001b[2m \u001b[0m\u001b[2m5 \u001b[0m\u001b[2m \u001b[0m│ net.blocks                 │ ModuleList        │  1.2 M │\n",
       "│\u001b[2m \u001b[0m\u001b[2m6 \u001b[0m\u001b[2m \u001b[0m│ net.blocks.0               │ ResidualBlock     │  295 K │\n",
       "│\u001b[2m \u001b[0m\u001b[2m7 \u001b[0m\u001b[2m \u001b[0m│ net.blocks.0.activation    │ LeakyReLU         │      0 │\n",
       "│\u001b[2m \u001b[0m\u001b[2m8 \u001b[0m\u001b[2m \u001b[0m│ net.blocks.0.conv1         │ PeriodicConv2D    │  147 K │\n",
       "│\u001b[2m \u001b[0m\u001b[2m9 \u001b[0m\u001b[2m \u001b[0m│ net.blocks.0.conv1.padding │ PeriodicPadding2D │      0 │\n",
       "│\u001b[2m \u001b[0m\u001b[2m10\u001b[0m\u001b[2m \u001b[0m│ net.blocks.0.conv1.conv    │ Conv2d            │  147 K │\n",
       "│\u001b[2m \u001b[0m\u001b[2m11\u001b[0m\u001b[2m \u001b[0m│ net.blocks.0.conv2         │ PeriodicConv2D    │  147 K │\n",
       "│\u001b[2m \u001b[0m\u001b[2m12\u001b[0m\u001b[2m \u001b[0m│ net.blocks.0.conv2.padding │ PeriodicPadding2D │      0 │\n",
       "│\u001b[2m \u001b[0m\u001b[2m13\u001b[0m\u001b[2m \u001b[0m│ net.blocks.0.conv2.conv    │ Conv2d            │  147 K │\n",
       "│\u001b[2m \u001b[0m\u001b[2m14\u001b[0m\u001b[2m \u001b[0m│ net.blocks.0.shortcut      │ Identity          │      0 │\n",
       "│\u001b[2m \u001b[0m\u001b[2m15\u001b[0m\u001b[2m \u001b[0m│ net.blocks.0.norm1         │ BatchNorm2d       │    256 │\n",
       "│\u001b[2m \u001b[0m\u001b[2m16\u001b[0m\u001b[2m \u001b[0m│ net.blocks.0.norm2         │ BatchNorm2d       │    256 │\n",
       "│\u001b[2m \u001b[0m\u001b[2m17\u001b[0m\u001b[2m \u001b[0m│ net.blocks.0.drop          │ Dropout           │      0 │\n",
       "│\u001b[2m \u001b[0m\u001b[2m18\u001b[0m\u001b[2m \u001b[0m│ net.blocks.1               │ ResidualBlock     │  295 K │\n",
       "│\u001b[2m \u001b[0m\u001b[2m19\u001b[0m\u001b[2m \u001b[0m│ net.blocks.1.activation    │ LeakyReLU         │      0 │\n",
       "│\u001b[2m \u001b[0m\u001b[2m20\u001b[0m\u001b[2m \u001b[0m│ net.blocks.1.conv1         │ PeriodicConv2D    │  147 K │\n",
       "│\u001b[2m \u001b[0m\u001b[2m21\u001b[0m\u001b[2m \u001b[0m│ net.blocks.1.conv1.padding │ PeriodicPadding2D │      0 │\n",
       "│\u001b[2m \u001b[0m\u001b[2m22\u001b[0m\u001b[2m \u001b[0m│ net.blocks.1.conv1.conv    │ Conv2d            │  147 K │\n",
       "│\u001b[2m \u001b[0m\u001b[2m23\u001b[0m\u001b[2m \u001b[0m│ net.blocks.1.conv2         │ PeriodicConv2D    │  147 K │\n",
       "│\u001b[2m \u001b[0m\u001b[2m24\u001b[0m\u001b[2m \u001b[0m│ net.blocks.1.conv2.padding │ PeriodicPadding2D │      0 │\n",
       "│\u001b[2m \u001b[0m\u001b[2m25\u001b[0m\u001b[2m \u001b[0m│ net.blocks.1.conv2.conv    │ Conv2d            │  147 K │\n",
       "│\u001b[2m \u001b[0m\u001b[2m26\u001b[0m\u001b[2m \u001b[0m│ net.blocks.1.shortcut      │ Identity          │      0 │\n",
       "│\u001b[2m \u001b[0m\u001b[2m27\u001b[0m\u001b[2m \u001b[0m│ net.blocks.1.norm1         │ BatchNorm2d       │    256 │\n",
       "│\u001b[2m \u001b[0m\u001b[2m28\u001b[0m\u001b[2m \u001b[0m│ net.blocks.1.norm2         │ BatchNorm2d       │    256 │\n",
       "│\u001b[2m \u001b[0m\u001b[2m29\u001b[0m\u001b[2m \u001b[0m│ net.blocks.1.drop          │ Dropout           │      0 │\n",
       "│\u001b[2m \u001b[0m\u001b[2m30\u001b[0m\u001b[2m \u001b[0m│ net.blocks.2               │ ResidualBlock     │  295 K │\n",
       "│\u001b[2m \u001b[0m\u001b[2m31\u001b[0m\u001b[2m \u001b[0m│ net.blocks.2.activation    │ LeakyReLU         │      0 │\n",
       "│\u001b[2m \u001b[0m\u001b[2m32\u001b[0m\u001b[2m \u001b[0m│ net.blocks.2.conv1         │ PeriodicConv2D    │  147 K │\n",
       "│\u001b[2m \u001b[0m\u001b[2m33\u001b[0m\u001b[2m \u001b[0m│ net.blocks.2.conv1.padding │ PeriodicPadding2D │      0 │\n",
       "│\u001b[2m \u001b[0m\u001b[2m34\u001b[0m\u001b[2m \u001b[0m│ net.blocks.2.conv1.conv    │ Conv2d            │  147 K │\n",
       "│\u001b[2m \u001b[0m\u001b[2m35\u001b[0m\u001b[2m \u001b[0m│ net.blocks.2.conv2         │ PeriodicConv2D    │  147 K │\n",
       "│\u001b[2m \u001b[0m\u001b[2m36\u001b[0m\u001b[2m \u001b[0m│ net.blocks.2.conv2.padding │ PeriodicPadding2D │      0 │\n",
       "│\u001b[2m \u001b[0m\u001b[2m37\u001b[0m\u001b[2m \u001b[0m│ net.blocks.2.conv2.conv    │ Conv2d            │  147 K │\n",
       "│\u001b[2m \u001b[0m\u001b[2m38\u001b[0m\u001b[2m \u001b[0m│ net.blocks.2.shortcut      │ Identity          │      0 │\n",
       "│\u001b[2m \u001b[0m\u001b[2m39\u001b[0m\u001b[2m \u001b[0m│ net.blocks.2.norm1         │ BatchNorm2d       │    256 │\n",
       "│\u001b[2m \u001b[0m\u001b[2m40\u001b[0m\u001b[2m \u001b[0m│ net.blocks.2.norm2         │ BatchNorm2d       │    256 │\n",
       "│\u001b[2m \u001b[0m\u001b[2m41\u001b[0m\u001b[2m \u001b[0m│ net.blocks.2.drop          │ Dropout           │      0 │\n",
       "│\u001b[2m \u001b[0m\u001b[2m42\u001b[0m\u001b[2m \u001b[0m│ net.blocks.3               │ ResidualBlock     │  295 K │\n",
       "│\u001b[2m \u001b[0m\u001b[2m43\u001b[0m\u001b[2m \u001b[0m│ net.blocks.3.activation    │ LeakyReLU         │      0 │\n",
       "│\u001b[2m \u001b[0m\u001b[2m44\u001b[0m\u001b[2m \u001b[0m│ net.blocks.3.conv1         │ PeriodicConv2D    │  147 K │\n",
       "│\u001b[2m \u001b[0m\u001b[2m45\u001b[0m\u001b[2m \u001b[0m│ net.blocks.3.conv1.padding │ PeriodicPadding2D │      0 │\n",
       "│\u001b[2m \u001b[0m\u001b[2m46\u001b[0m\u001b[2m \u001b[0m│ net.blocks.3.conv1.conv    │ Conv2d            │  147 K │\n",
       "│\u001b[2m \u001b[0m\u001b[2m47\u001b[0m\u001b[2m \u001b[0m│ net.blocks.3.conv2         │ PeriodicConv2D    │  147 K │\n",
       "│\u001b[2m \u001b[0m\u001b[2m48\u001b[0m\u001b[2m \u001b[0m│ net.blocks.3.conv2.padding │ PeriodicPadding2D │      0 │\n",
       "│\u001b[2m \u001b[0m\u001b[2m49\u001b[0m\u001b[2m \u001b[0m│ net.blocks.3.conv2.conv    │ Conv2d            │  147 K │\n",
       "│\u001b[2m \u001b[0m\u001b[2m50\u001b[0m\u001b[2m \u001b[0m│ net.blocks.3.shortcut      │ Identity          │      0 │\n",
       "│\u001b[2m \u001b[0m\u001b[2m51\u001b[0m\u001b[2m \u001b[0m│ net.blocks.3.norm1         │ BatchNorm2d       │    256 │\n",
       "│\u001b[2m \u001b[0m\u001b[2m52\u001b[0m\u001b[2m \u001b[0m│ net.blocks.3.norm2         │ BatchNorm2d       │    256 │\n",
       "│\u001b[2m \u001b[0m\u001b[2m53\u001b[0m\u001b[2m \u001b[0m│ net.blocks.3.drop          │ Dropout           │      0 │\n",
       "│\u001b[2m \u001b[0m\u001b[2m54\u001b[0m\u001b[2m \u001b[0m│ net.norm                   │ BatchNorm2d       │    256 │\n",
       "│\u001b[2m \u001b[0m\u001b[2m55\u001b[0m\u001b[2m \u001b[0m│ net.final                  │ PeriodicConv2D    │  6.3 K │\n",
       "│\u001b[2m \u001b[0m\u001b[2m56\u001b[0m\u001b[2m \u001b[0m│ net.final.padding          │ PeriodicPadding2D │      0 │\n",
       "│\u001b[2m \u001b[0m\u001b[2m57\u001b[0m\u001b[2m \u001b[0m│ net.final.conv             │ Conv2d            │  6.3 K │\n",
       "│\u001b[2m \u001b[0m\u001b[2m58\u001b[0m\u001b[2m \u001b[0m│ denormalization            │ Normalize         │      0 │\n",
       "│\u001b[2m \u001b[0m\u001b[2m59\u001b[0m\u001b[2m \u001b[0m│ mean_denormalize           │ Normalize         │      0 │\n",
       "│\u001b[2m \u001b[0m\u001b[2m60\u001b[0m\u001b[2m \u001b[0m│ std_denormalize            │ Normalize         │      0 │\n",
       "└────┴────────────────────────────┴───────────────────┴────────┘\n"
      ]
     },
     "metadata": {},
     "output_type": "display_data"
    },
    {
     "data": {
      "text/html": [
       "<pre style=\"white-space:pre;overflow-x:auto;line-height:normal;font-family:Menlo,'DejaVu Sans Mono',consolas,'Courier New',monospace\"><span style=\"font-weight: bold\">Trainable params</span>: 1.2 M                                                                      \n",
       "<span style=\"font-weight: bold\">Non-trainable params</span>: 0                                                                      \n",
       "<span style=\"font-weight: bold\">Total params</span>: 1.2 M                                                                          \n",
       "<span style=\"font-weight: bold\">Total estimated model params size (MB)</span>: 2                                                    \n",
       "</pre>\n"
      ],
      "text/plain": [
       "\u001b[1mTrainable params\u001b[0m: 1.2 M                                                                      \n",
       "\u001b[1mNon-trainable params\u001b[0m: 0                                                                      \n",
       "\u001b[1mTotal params\u001b[0m: 1.2 M                                                                          \n",
       "\u001b[1mTotal estimated model params size (MB)\u001b[0m: 2                                                    \n"
      ]
     },
     "metadata": {},
     "output_type": "display_data"
    },
    {
     "data": {
      "application/vnd.jupyter.widget-view+json": {
       "model_id": "84b40bf32be548eb80e7fd01294c4e5c",
       "version_major": 2,
       "version_minor": 0
      },
      "text/plain": [
       "Output()"
      ]
     },
     "metadata": {},
     "output_type": "display_data"
    },
    {
     "data": {
      "text/html": [
       "<pre style=\"white-space:pre;overflow-x:auto;line-height:normal;font-family:Menlo,'DejaVu Sans Mono',consolas,'Courier New',monospace\"></pre>\n"
      ],
      "text/plain": []
     },
     "metadata": {},
     "output_type": "display_data"
    },
    {
     "data": {
      "text/html": [
       "<pre style=\"white-space:pre;overflow-x:auto;line-height:normal;font-family:Menlo,'DejaVu Sans Mono',consolas,'Courier New',monospace\">\n",
       "</pre>\n"
      ],
      "text/plain": [
       "\n"
      ]
     },
     "metadata": {},
     "output_type": "display_data"
    }
   ],
   "source": [
    "era5_trainer.fit(era5_model_module, era5_data_module)"
   ]
  },
  {
   "cell_type": "code",
   "execution_count": 23,
   "id": "a7014efc",
   "metadata": {},
   "outputs": [],
   "source": [
    "from climate_learn.models import fit_lin_reg_baseline\n",
    "fit_lin_reg_baseline(cmip_model_module, cmip6_data_module, reg_hparam=0.0)"
   ]
  },
  {
   "cell_type": "code",
   "execution_count": 20,
   "id": "f4432e38",
   "metadata": {},
   "outputs": [],
   "source": [
    "fit_lin_reg_baseline(era5_model_module, era5_data_module, reg_hparam=0.0)"
   ]
  },
  {
   "cell_type": "code",
   "execution_count": null,
   "id": "51319eca",
   "metadata": {},
   "outputs": [],
   "source": []
  },
  {
   "cell_type": "markdown",
   "id": "963d30f8",
   "metadata": {},
   "source": [
    "# Data\n",
    "\n",
    "Days: 5, Var: geopotential 500, model: resnet\n",
    "\n",
    "train_start_year = 1979 / 1850, val_start_year = 2011, test_start_year = 2013, end_year = 2014"
   ]
  },
  {
   "cell_type": "code",
   "execution_count": 24,
   "id": "9cc67197",
   "metadata": {},
   "outputs": [
    {
     "data": {
      "application/vnd.jupyter.widget-view+json": {
       "model_id": "7b2b2037563a4658a1f9e7b9fe7ff206",
       "version_major": 2,
       "version_minor": 0
      },
      "text/plain": [
       "Output()"
      ]
     },
     "metadata": {},
     "output_type": "display_data"
    },
    {
     "data": {
      "text/html": [
       "<pre style=\"white-space:pre;overflow-x:auto;line-height:normal;font-family:Menlo,'DejaVu Sans Mono',consolas,'Courier New',monospace\">┏━━━━━━━━━━━━━━━━━━━━━━━━━━━━━━━━━━━━━━━━━━━━━┳━━━━━━━━━━━━━━━━━━━━━━━━━━━━━━━━━━━━━━━━━━━━━┓\n",
       "┃<span style=\"font-weight: bold\">                 Test metric                 </span>┃<span style=\"font-weight: bold\">                DataLoader 0                 </span>┃\n",
       "┡━━━━━━━━━━━━━━━━━━━━━━━━━━━━━━━━━━━━━━━━━━━━━╇━━━━━━━━━━━━━━━━━━━━━━━━━━━━━━━━━━━━━━━━━━━━━┩\n",
       "│<span style=\"color: #008080; text-decoration-color: #008080\">       test/acc_geopotential_500_day_5       </span>│<span style=\"color: #800080; text-decoration-color: #800080\">                     nan                     </span>│\n",
       "│<span style=\"color: #008080; text-decoration-color: #008080\">     test/w_rmse_geopotential_500_day_5      </span>│<span style=\"color: #800080; text-decoration-color: #800080\">                     inf                     </span>│\n",
       "│<span style=\"color: #008080; text-decoration-color: #008080\"> test_climatology_baseline/w_rmse_geopotent… </span>│<span style=\"color: #800080; text-decoration-color: #800080\">             10525.370441225194              </span>│\n",
       "│<span style=\"color: #008080; text-decoration-color: #008080\"> test_persistence_baseline/w_rmse_geopotent… </span>│<span style=\"color: #800080; text-decoration-color: #800080\">              7327.535915257272              </span>│\n",
       "│<span style=\"color: #008080; text-decoration-color: #008080\"> test_ridge_regression_baseline/w_rmse_geop… </span>│<span style=\"color: #800080; text-decoration-color: #800080\">              35301.89840019362              </span>│\n",
       "└─────────────────────────────────────────────┴─────────────────────────────────────────────┘\n",
       "</pre>\n"
      ],
      "text/plain": [
       "┏━━━━━━━━━━━━━━━━━━━━━━━━━━━━━━━━━━━━━━━━━━━━━┳━━━━━━━━━━━━━━━━━━━━━━━━━━━━━━━━━━━━━━━━━━━━━┓\n",
       "┃\u001b[1m \u001b[0m\u001b[1m                Test metric                \u001b[0m\u001b[1m \u001b[0m┃\u001b[1m \u001b[0m\u001b[1m               DataLoader 0                \u001b[0m\u001b[1m \u001b[0m┃\n",
       "┡━━━━━━━━━━━━━━━━━━━━━━━━━━━━━━━━━━━━━━━━━━━━━╇━━━━━━━━━━━━━━━━━━━━━━━━━━━━━━━━━━━━━━━━━━━━━┩\n",
       "│\u001b[36m \u001b[0m\u001b[36m      test/acc_geopotential_500_day_5      \u001b[0m\u001b[36m \u001b[0m│\u001b[35m \u001b[0m\u001b[35m                    nan                    \u001b[0m\u001b[35m \u001b[0m│\n",
       "│\u001b[36m \u001b[0m\u001b[36m    test/w_rmse_geopotential_500_day_5     \u001b[0m\u001b[36m \u001b[0m│\u001b[35m \u001b[0m\u001b[35m                    inf                    \u001b[0m\u001b[35m \u001b[0m│\n",
       "│\u001b[36m \u001b[0m\u001b[36mtest_climatology_baseline/w_rmse_geopotent…\u001b[0m\u001b[36m \u001b[0m│\u001b[35m \u001b[0m\u001b[35m            10525.370441225194             \u001b[0m\u001b[35m \u001b[0m│\n",
       "│\u001b[36m \u001b[0m\u001b[36mtest_persistence_baseline/w_rmse_geopotent…\u001b[0m\u001b[36m \u001b[0m│\u001b[35m \u001b[0m\u001b[35m             7327.535915257272             \u001b[0m\u001b[35m \u001b[0m│\n",
       "│\u001b[36m \u001b[0m\u001b[36mtest_ridge_regression_baseline/w_rmse_geop…\u001b[0m\u001b[36m \u001b[0m│\u001b[35m \u001b[0m\u001b[35m             35301.89840019362             \u001b[0m\u001b[35m \u001b[0m│\n",
       "└─────────────────────────────────────────────┴─────────────────────────────────────────────┘\n"
      ]
     },
     "metadata": {},
     "output_type": "display_data"
    },
    {
     "data": {
      "text/html": [
       "<pre style=\"white-space:pre;overflow-x:auto;line-height:normal;font-family:Menlo,'DejaVu Sans Mono',consolas,'Courier New',monospace\"></pre>\n"
      ],
      "text/plain": []
     },
     "metadata": {},
     "output_type": "display_data"
    },
    {
     "data": {
      "text/html": [
       "<pre style=\"white-space:pre;overflow-x:auto;line-height:normal;font-family:Menlo,'DejaVu Sans Mono',consolas,'Courier New',monospace\">\n",
       "</pre>\n"
      ],
      "text/plain": [
       "\n"
      ]
     },
     "metadata": {},
     "output_type": "display_data"
    }
   ],
   "source": [
    "# cmip -> era\n",
    "cmip_trainer.test(cmip_model_module, era5_data_module)"
   ]
  },
  {
   "cell_type": "code",
   "execution_count": 25,
   "id": "f8736d24",
   "metadata": {},
   "outputs": [
    {
     "data": {
      "application/vnd.jupyter.widget-view+json": {
       "model_id": "02f3fd24d69144aea72f9099308fdaa1",
       "version_major": 2,
       "version_minor": 0
      },
      "text/plain": [
       "Output()"
      ]
     },
     "metadata": {},
     "output_type": "display_data"
    },
    {
     "data": {
      "text/html": [
       "<pre style=\"white-space:pre;overflow-x:auto;line-height:normal;font-family:Menlo,'DejaVu Sans Mono',consolas,'Courier New',monospace\">┏━━━━━━━━━━━━━━━━━━━━━━━━━━━━━━━━━━━━━━━━━━━━━┳━━━━━━━━━━━━━━━━━━━━━━━━━━━━━━━━━━━━━━━━━━━━━┓\n",
       "┃<span style=\"font-weight: bold\">                 Test metric                 </span>┃<span style=\"font-weight: bold\">                DataLoader 0                 </span>┃\n",
       "┡━━━━━━━━━━━━━━━━━━━━━━━━━━━━━━━━━━━━━━━━━━━━━╇━━━━━━━━━━━━━━━━━━━━━━━━━━━━━━━━━━━━━━━━━━━━━┩\n",
       "│<span style=\"color: #008080; text-decoration-color: #008080\">       test/acc_geopotential_500_day_5       </span>│<span style=\"color: #800080; text-decoration-color: #800080\">                     nan                     </span>│\n",
       "│<span style=\"color: #008080; text-decoration-color: #008080\">     test/w_rmse_geopotential_500_day_5      </span>│<span style=\"color: #800080; text-decoration-color: #800080\">                     inf                     </span>│\n",
       "│<span style=\"color: #008080; text-decoration-color: #008080\"> test_climatology_baseline/w_rmse_geopotent… </span>│<span style=\"color: #800080; text-decoration-color: #800080\">             11486.937617791506              </span>│\n",
       "│<span style=\"color: #008080; text-decoration-color: #008080\"> test_persistence_baseline/w_rmse_geopotent… </span>│<span style=\"color: #800080; text-decoration-color: #800080\">             11165.575415549352              </span>│\n",
       "│<span style=\"color: #008080; text-decoration-color: #008080\"> test_ridge_regression_baseline/w_rmse_geop… </span>│<span style=\"color: #800080; text-decoration-color: #800080\">              36178.12742491186              </span>│\n",
       "└─────────────────────────────────────────────┴─────────────────────────────────────────────┘\n",
       "</pre>\n"
      ],
      "text/plain": [
       "┏━━━━━━━━━━━━━━━━━━━━━━━━━━━━━━━━━━━━━━━━━━━━━┳━━━━━━━━━━━━━━━━━━━━━━━━━━━━━━━━━━━━━━━━━━━━━┓\n",
       "┃\u001b[1m \u001b[0m\u001b[1m                Test metric                \u001b[0m\u001b[1m \u001b[0m┃\u001b[1m \u001b[0m\u001b[1m               DataLoader 0                \u001b[0m\u001b[1m \u001b[0m┃\n",
       "┡━━━━━━━━━━━━━━━━━━━━━━━━━━━━━━━━━━━━━━━━━━━━━╇━━━━━━━━━━━━━━━━━━━━━━━━━━━━━━━━━━━━━━━━━━━━━┩\n",
       "│\u001b[36m \u001b[0m\u001b[36m      test/acc_geopotential_500_day_5      \u001b[0m\u001b[36m \u001b[0m│\u001b[35m \u001b[0m\u001b[35m                    nan                    \u001b[0m\u001b[35m \u001b[0m│\n",
       "│\u001b[36m \u001b[0m\u001b[36m    test/w_rmse_geopotential_500_day_5     \u001b[0m\u001b[36m \u001b[0m│\u001b[35m \u001b[0m\u001b[35m                    inf                    \u001b[0m\u001b[35m \u001b[0m│\n",
       "│\u001b[36m \u001b[0m\u001b[36mtest_climatology_baseline/w_rmse_geopotent…\u001b[0m\u001b[36m \u001b[0m│\u001b[35m \u001b[0m\u001b[35m            11486.937617791506             \u001b[0m\u001b[35m \u001b[0m│\n",
       "│\u001b[36m \u001b[0m\u001b[36mtest_persistence_baseline/w_rmse_geopotent…\u001b[0m\u001b[36m \u001b[0m│\u001b[35m \u001b[0m\u001b[35m            11165.575415549352             \u001b[0m\u001b[35m \u001b[0m│\n",
       "│\u001b[36m \u001b[0m\u001b[36mtest_ridge_regression_baseline/w_rmse_geop…\u001b[0m\u001b[36m \u001b[0m│\u001b[35m \u001b[0m\u001b[35m             36178.12742491186             \u001b[0m\u001b[35m \u001b[0m│\n",
       "└─────────────────────────────────────────────┴─────────────────────────────────────────────┘\n"
      ]
     },
     "metadata": {},
     "output_type": "display_data"
    },
    {
     "data": {
      "text/html": [
       "<pre style=\"white-space:pre;overflow-x:auto;line-height:normal;font-family:Menlo,'DejaVu Sans Mono',consolas,'Courier New',monospace\"></pre>\n"
      ],
      "text/plain": []
     },
     "metadata": {},
     "output_type": "display_data"
    },
    {
     "data": {
      "text/html": [
       "<pre style=\"white-space:pre;overflow-x:auto;line-height:normal;font-family:Menlo,'DejaVu Sans Mono',consolas,'Courier New',monospace\">\n",
       "</pre>\n"
      ],
      "text/plain": [
       "\n"
      ]
     },
     "metadata": {},
     "output_type": "display_data"
    }
   ],
   "source": [
    "# cmip -> cmip\n",
    "cmip_trainer.test(cmip_model_module, cmip6_data_module)"
   ]
  },
  {
   "cell_type": "code",
   "execution_count": 23,
   "id": "91ca0342",
   "metadata": {},
   "outputs": [
    {
     "data": {
      "application/vnd.jupyter.widget-view+json": {
       "model_id": "c27496f5f032464e8f9a97819c999ff0",
       "version_major": 2,
       "version_minor": 0
      },
      "text/plain": [
       "Output()"
      ]
     },
     "metadata": {},
     "output_type": "display_data"
    },
    {
     "data": {
      "text/html": [
       "<pre style=\"white-space:pre;overflow-x:auto;line-height:normal;font-family:Menlo,'DejaVu Sans Mono',consolas,'Courier New',monospace\">┏━━━━━━━━━━━━━━━━━━━━━━━━━━━━━━━━━━━━━━━━━━━━━┳━━━━━━━━━━━━━━━━━━━━━━━━━━━━━━━━━━━━━━━━━━━━━┓\n",
       "┃<span style=\"font-weight: bold\">                 Test metric                 </span>┃<span style=\"font-weight: bold\">                DataLoader 0                 </span>┃\n",
       "┡━━━━━━━━━━━━━━━━━━━━━━━━━━━━━━━━━━━━━━━━━━━━━╇━━━━━━━━━━━━━━━━━━━━━━━━━━━━━━━━━━━━━━━━━━━━━┩\n",
       "│<span style=\"color: #008080; text-decoration-color: #008080\">       test/acc_geopotential_500_day_5       </span>│<span style=\"color: #800080; text-decoration-color: #800080\">             0.6340033525213865              </span>│\n",
       "│<span style=\"color: #008080; text-decoration-color: #008080\">     test/w_rmse_geopotential_500_day_5      </span>│<span style=\"color: #800080; text-decoration-color: #800080\">              772.6244066145214              </span>│\n",
       "│<span style=\"color: #008080; text-decoration-color: #008080\"> test_climatology_baseline/w_rmse_geopotent… </span>│<span style=\"color: #800080; text-decoration-color: #800080\">              1068.250577807763              </span>│\n",
       "│<span style=\"color: #008080; text-decoration-color: #008080\"> test_persistence_baseline/w_rmse_geopotent… </span>│<span style=\"color: #800080; text-decoration-color: #800080\">              751.5648628721129              </span>│\n",
       "│<span style=\"color: #008080; text-decoration-color: #008080\"> test_ridge_regression_baseline/w_rmse_geop… </span>│<span style=\"color: #800080; text-decoration-color: #800080\">              809.3986487426973              </span>│\n",
       "└─────────────────────────────────────────────┴─────────────────────────────────────────────┘\n",
       "</pre>\n"
      ],
      "text/plain": [
       "┏━━━━━━━━━━━━━━━━━━━━━━━━━━━━━━━━━━━━━━━━━━━━━┳━━━━━━━━━━━━━━━━━━━━━━━━━━━━━━━━━━━━━━━━━━━━━┓\n",
       "┃\u001b[1m \u001b[0m\u001b[1m                Test metric                \u001b[0m\u001b[1m \u001b[0m┃\u001b[1m \u001b[0m\u001b[1m               DataLoader 0                \u001b[0m\u001b[1m \u001b[0m┃\n",
       "┡━━━━━━━━━━━━━━━━━━━━━━━━━━━━━━━━━━━━━━━━━━━━━╇━━━━━━━━━━━━━━━━━━━━━━━━━━━━━━━━━━━━━━━━━━━━━┩\n",
       "│\u001b[36m \u001b[0m\u001b[36m      test/acc_geopotential_500_day_5      \u001b[0m\u001b[36m \u001b[0m│\u001b[35m \u001b[0m\u001b[35m            0.6340033525213865             \u001b[0m\u001b[35m \u001b[0m│\n",
       "│\u001b[36m \u001b[0m\u001b[36m    test/w_rmse_geopotential_500_day_5     \u001b[0m\u001b[36m \u001b[0m│\u001b[35m \u001b[0m\u001b[35m             772.6244066145214             \u001b[0m\u001b[35m \u001b[0m│\n",
       "│\u001b[36m \u001b[0m\u001b[36mtest_climatology_baseline/w_rmse_geopotent…\u001b[0m\u001b[36m \u001b[0m│\u001b[35m \u001b[0m\u001b[35m             1068.250577807763             \u001b[0m\u001b[35m \u001b[0m│\n",
       "│\u001b[36m \u001b[0m\u001b[36mtest_persistence_baseline/w_rmse_geopotent…\u001b[0m\u001b[36m \u001b[0m│\u001b[35m \u001b[0m\u001b[35m             751.5648628721129             \u001b[0m\u001b[35m \u001b[0m│\n",
       "│\u001b[36m \u001b[0m\u001b[36mtest_ridge_regression_baseline/w_rmse_geop…\u001b[0m\u001b[36m \u001b[0m│\u001b[35m \u001b[0m\u001b[35m             809.3986487426973             \u001b[0m\u001b[35m \u001b[0m│\n",
       "└─────────────────────────────────────────────┴─────────────────────────────────────────────┘\n"
      ]
     },
     "metadata": {},
     "output_type": "display_data"
    },
    {
     "data": {
      "text/html": [
       "<pre style=\"white-space:pre;overflow-x:auto;line-height:normal;font-family:Menlo,'DejaVu Sans Mono',consolas,'Courier New',monospace\"></pre>\n"
      ],
      "text/plain": []
     },
     "metadata": {},
     "output_type": "display_data"
    },
    {
     "data": {
      "text/html": [
       "<pre style=\"white-space:pre;overflow-x:auto;line-height:normal;font-family:Menlo,'DejaVu Sans Mono',consolas,'Courier New',monospace\">\n",
       "</pre>\n"
      ],
      "text/plain": [
       "\n"
      ]
     },
     "metadata": {},
     "output_type": "display_data"
    }
   ],
   "source": [
    "# era -> era\n",
    "era5_trainer.test(era5_model_module, era5_data_module)"
   ]
  },
  {
   "cell_type": "code",
   "execution_count": 24,
   "id": "766acc56",
   "metadata": {},
   "outputs": [
    {
     "data": {
      "application/vnd.jupyter.widget-view+json": {
       "model_id": "52cea70dcfcd453e975d66e533e2ef1e",
       "version_major": 2,
       "version_minor": 0
      },
      "text/plain": [
       "Output()"
      ]
     },
     "metadata": {},
     "output_type": "display_data"
    },
    {
     "data": {
      "text/html": [
       "<pre style=\"white-space:pre;overflow-x:auto;line-height:normal;font-family:Menlo,'DejaVu Sans Mono',consolas,'Courier New',monospace\">┏━━━━━━━━━━━━━━━━━━━━━━━━━━━━━━━━━━━━━━━━━━━━━┳━━━━━━━━━━━━━━━━━━━━━━━━━━━━━━━━━━━━━━━━━━━━━┓\n",
       "┃<span style=\"font-weight: bold\">                 Test metric                 </span>┃<span style=\"font-weight: bold\">                DataLoader 0                 </span>┃\n",
       "┡━━━━━━━━━━━━━━━━━━━━━━━━━━━━━━━━━━━━━━━━━━━━━╇━━━━━━━━━━━━━━━━━━━━━━━━━━━━━━━━━━━━━━━━━━━━━┩\n",
       "│<span style=\"color: #008080; text-decoration-color: #008080\">       test/acc_geopotential_500_day_5       </span>│<span style=\"color: #800080; text-decoration-color: #800080\">             0.4299115046717596              </span>│\n",
       "│<span style=\"color: #008080; text-decoration-color: #008080\">     test/w_rmse_geopotential_500_day_5      </span>│<span style=\"color: #800080; text-decoration-color: #800080\">             1066.8455588532515              </span>│\n",
       "│<span style=\"color: #008080; text-decoration-color: #008080\"> test_climatology_baseline/w_rmse_geopotent… </span>│<span style=\"color: #800080; text-decoration-color: #800080\">             1191.0452447533505              </span>│\n",
       "│<span style=\"color: #008080; text-decoration-color: #008080\"> test_persistence_baseline/w_rmse_geopotent… </span>│<span style=\"color: #800080; text-decoration-color: #800080\">             1145.2218501535338              </span>│\n",
       "│<span style=\"color: #008080; text-decoration-color: #008080\"> test_ridge_regression_baseline/w_rmse_geop… </span>│<span style=\"color: #800080; text-decoration-color: #800080\">             1181.3169769302337              </span>│\n",
       "└─────────────────────────────────────────────┴─────────────────────────────────────────────┘\n",
       "</pre>\n"
      ],
      "text/plain": [
       "┏━━━━━━━━━━━━━━━━━━━━━━━━━━━━━━━━━━━━━━━━━━━━━┳━━━━━━━━━━━━━━━━━━━━━━━━━━━━━━━━━━━━━━━━━━━━━┓\n",
       "┃\u001b[1m \u001b[0m\u001b[1m                Test metric                \u001b[0m\u001b[1m \u001b[0m┃\u001b[1m \u001b[0m\u001b[1m               DataLoader 0                \u001b[0m\u001b[1m \u001b[0m┃\n",
       "┡━━━━━━━━━━━━━━━━━━━━━━━━━━━━━━━━━━━━━━━━━━━━━╇━━━━━━━━━━━━━━━━━━━━━━━━━━━━━━━━━━━━━━━━━━━━━┩\n",
       "│\u001b[36m \u001b[0m\u001b[36m      test/acc_geopotential_500_day_5      \u001b[0m\u001b[36m \u001b[0m│\u001b[35m \u001b[0m\u001b[35m            0.4299115046717596             \u001b[0m\u001b[35m \u001b[0m│\n",
       "│\u001b[36m \u001b[0m\u001b[36m    test/w_rmse_geopotential_500_day_5     \u001b[0m\u001b[36m \u001b[0m│\u001b[35m \u001b[0m\u001b[35m            1066.8455588532515             \u001b[0m\u001b[35m \u001b[0m│\n",
       "│\u001b[36m \u001b[0m\u001b[36mtest_climatology_baseline/w_rmse_geopotent…\u001b[0m\u001b[36m \u001b[0m│\u001b[35m \u001b[0m\u001b[35m            1191.0452447533505             \u001b[0m\u001b[35m \u001b[0m│\n",
       "│\u001b[36m \u001b[0m\u001b[36mtest_persistence_baseline/w_rmse_geopotent…\u001b[0m\u001b[36m \u001b[0m│\u001b[35m \u001b[0m\u001b[35m            1145.2218501535338             \u001b[0m\u001b[35m \u001b[0m│\n",
       "│\u001b[36m \u001b[0m\u001b[36mtest_ridge_regression_baseline/w_rmse_geop…\u001b[0m\u001b[36m \u001b[0m│\u001b[35m \u001b[0m\u001b[35m            1181.3169769302337             \u001b[0m\u001b[35m \u001b[0m│\n",
       "└─────────────────────────────────────────────┴─────────────────────────────────────────────┘\n"
      ]
     },
     "metadata": {},
     "output_type": "display_data"
    },
    {
     "data": {
      "text/html": [
       "<pre style=\"white-space:pre;overflow-x:auto;line-height:normal;font-family:Menlo,'DejaVu Sans Mono',consolas,'Courier New',monospace\"></pre>\n"
      ],
      "text/plain": []
     },
     "metadata": {},
     "output_type": "display_data"
    },
    {
     "data": {
      "text/html": [
       "<pre style=\"white-space:pre;overflow-x:auto;line-height:normal;font-family:Menlo,'DejaVu Sans Mono',consolas,'Courier New',monospace\">\n",
       "</pre>\n"
      ],
      "text/plain": [
       "\n"
      ]
     },
     "metadata": {},
     "output_type": "display_data"
    }
   ],
   "source": [
    "# era -> cmip\n",
    "era5_trainer.test(era5_model_module, cmip6_data_module)"
   ]
  },
  {
   "cell_type": "markdown",
   "id": "bb2e5723",
   "metadata": {},
   "source": [
    "## Unet??"
   ]
  },
  {
   "cell_type": "code",
   "execution_count": null,
   "id": "f15a9846",
   "metadata": {},
   "outputs": [],
   "source": [
    "cmip_unet_model_module = load_model(name = \"unet\", task = \"forecasting\", model_kwargs = cmip_model_kwargs, optim_kwargs = optim_kwargs)\n",
    "era5_unet_model_module = load_model(name = \"unet\", task = \"forecasting\", model_kwargs = era5_model_kwargs, optim_kwargs = optim_kwargs)"
   ]
  },
  {
   "cell_type": "code",
   "execution_count": null,
   "id": "3467ce09",
   "metadata": {},
   "outputs": [],
   "source": [
    "set_climatology(era5_unet_model_module, era5_data_module)\n",
    "set_climatology(cmip_unet_model_module, cmip6_data_module)"
   ]
  },
  {
   "cell_type": "code",
   "execution_count": null,
   "id": "0e00252a",
   "metadata": {},
   "outputs": [],
   "source": [
    "cmip_unet_trainer = Trainer(\n",
    "    seed = 0,\n",
    "    accelerator = \"gpu\",\n",
    "    precision = 16,\n",
    "    max_epochs = 5,\n",
    "    # logger = WandbLogger(project = \"climate_tutorial\", name = \"forecast-vit\")\n",
    ")\n",
    "cmip_unet_trainer.fit(cmip_unet_model_module, cmip6_data_module)"
   ]
  },
  {
   "cell_type": "code",
   "execution_count": null,
   "id": "e7ecee74",
   "metadata": {},
   "outputs": [],
   "source": [
    "era5_unet_trainer = Trainer(\n",
    "    seed = 0,\n",
    "    accelerator = \"gpu\",\n",
    "    precision = 16,\n",
    "    max_epochs = 5,\n",
    "    # logger = WandbLogger(project = \"climate_tutorial\", name = \"forecast-vit\")\n",
    ")\n",
    "era5_unet_trainer.fit(era5_unet_model_module, era5_data_module)"
   ]
  },
  {
   "cell_type": "code",
   "execution_count": null,
   "id": "b8c7ab25",
   "metadata": {},
   "outputs": [],
   "source": [
    "# cmip -> era\n",
    "cmip_unet_trainer.test(cmip_unet_model_module, era5_data_module)"
   ]
  },
  {
   "cell_type": "code",
   "execution_count": null,
   "id": "e7b390e6",
   "metadata": {},
   "outputs": [],
   "source": [
    "# cmip -> cmip\n",
    "cmip_unet_trainer.test(cmip_unet_model_module, cmip6_data_module)"
   ]
  },
  {
   "cell_type": "code",
   "execution_count": null,
   "id": "1ab34c10",
   "metadata": {},
   "outputs": [],
   "source": [
    "# era -> era\n",
    "era5_unet_trainer.test(era5_unet_model_module, era5_data_module)"
   ]
  },
  {
   "cell_type": "code",
   "execution_count": null,
   "id": "81093b26",
   "metadata": {},
   "outputs": [],
   "source": [
    "# era -> cmip\n",
    "era5_unet_trainer.test(era5_unet_model_module, cmip6_data_module)"
   ]
  },
  {
   "cell_type": "markdown",
   "id": "1914b759",
   "metadata": {},
   "source": [
    "## ViT???"
   ]
  },
  {
   "cell_type": "code",
   "execution_count": null,
   "id": "53fafc63",
   "metadata": {},
   "outputs": [],
   "source": [
    "cmip_vit_model_kwargs = {\n",
    "    \"img_size\": [32, 64],\n",
    "    \"patch_size\": 2,\n",
    "    \"drop_path\": 0.1,\n",
    "    \"drop_rate\": 0.1,\n",
    "    \"learn_pos_emb\": True,\n",
    "    \"in_vars\": cmip6_data_module.hparams.in_vars,\n",
    "    \"out_vars\": cmip6_data_module.hparams.out_vars,\n",
    "    \"embed_dim\": 128,\n",
    "    \"depth\": 8,\n",
    "    \"decoder_depth\": 0,\n",
    "    \"num_heads\": 4,\n",
    "    \"mlp_ratio\": 4,\n",
    "}\n",
    "\n",
    "era5_vit_model_kwargs = {\n",
    "    \"img_size\": [32, 64],\n",
    "    \"patch_size\": 2,\n",
    "    \"drop_path\": 0.1,\n",
    "    \"drop_rate\": 0.1,\n",
    "    \"learn_pos_emb\": True,\n",
    "    \"in_vars\": era5_model_kwargs.hparams.in_vars,\n",
    "    \"out_vars\": era5_model_kwargs.hparams.out_vars,\n",
    "    \"embed_dim\": 128,\n",
    "    \"depth\": 8,\n",
    "    \"decoder_depth\": 0,\n",
    "    \"num_heads\": 4,\n",
    "    \"mlp_ratio\": 4,\n",
    "}\n",
    "\n",
    "# model_kwargs = {\n",
    "#     \"in_vars\": [\"2m_temperature\"],\n",
    "#     \"out_vars\": [\"2m_temperature\"],\n",
    "#     \"img_size\": [32, 64]\n",
    "# }"
   ]
  },
  {
   "cell_type": "code",
   "execution_count": null,
   "id": "ff0577e6",
   "metadata": {},
   "outputs": [],
   "source": [
    "cmip_vit_model_module = load_model(name = \"vit\", task = \"forecasting\", model_kwargs = cmip_vit_model_kwargs, optim_kwargs = optim_kwargs)\n",
    "era5_vit_model_module = load_model(name = \"vit\", task = \"forecasting\", model_kwargs = era5_vit_model_kwargs, optim_kwargs = optim_kwargs)"
   ]
  },
  {
   "cell_type": "code",
   "execution_count": null,
   "id": "3ecded7f",
   "metadata": {},
   "outputs": [],
   "source": [
    "set_climatology(era5_vit_model_module, era5_data_module)\n",
    "set_climatology(cmip_vit_model_module, cmip6_data_module)"
   ]
  },
  {
   "cell_type": "code",
   "execution_count": null,
   "id": "cbcb1c96",
   "metadata": {},
   "outputs": [],
   "source": [
    "cmip_vit_trainer = Trainer(\n",
    "    seed = 0,\n",
    "    accelerator = \"gpu\",\n",
    "    precision = 16,\n",
    "    max_epochs = 5,\n",
    "    # logger = WandbLogger(project = \"climate_tutorial\", name = \"forecast-vit\")\n",
    ")\n",
    "cmip_vit_trainer.fit(cmip_vit_model_module, cmip6_data_module)"
   ]
  },
  {
   "cell_type": "code",
   "execution_count": null,
   "id": "312f79a6",
   "metadata": {},
   "outputs": [],
   "source": [
    "era5_vit_trainer = Trainer(\n",
    "    seed = 0,\n",
    "    accelerator = \"gpu\",\n",
    "    precision = 16,\n",
    "    max_epochs = 5,\n",
    "    # logger = WandbLogger(project = \"climate_tutorial\", name = \"forecast-vit\")\n",
    ")\n",
    "era5_vit_trainer.fit(era5_vit_model_module, era5_data_module)"
   ]
  },
  {
   "cell_type": "code",
   "execution_count": null,
   "id": "db6fc15e",
   "metadata": {},
   "outputs": [],
   "source": [
    "# cmip -> era\n",
    "cmip_vit_trainer.test(cmip_vit_model_module, era5_data_module)"
   ]
  },
  {
   "cell_type": "code",
   "execution_count": null,
   "id": "a499a028",
   "metadata": {},
   "outputs": [],
   "source": [
    "# cmip -> cmip\n",
    "cmip_vit_trainer.test(cmip_vit_model_module, cmip6_data_module)"
   ]
  },
  {
   "cell_type": "code",
   "execution_count": null,
   "id": "895ece81",
   "metadata": {},
   "outputs": [],
   "source": [
    "# era -> era\n",
    "era5_vit_trainer.test(era5_vit_model_module, era5_data_module)"
   ]
  },
  {
   "cell_type": "code",
   "execution_count": null,
   "id": "4560d617",
   "metadata": {},
   "outputs": [],
   "source": [
    "# era -> cmip\n",
    "era5_vit_trainer.test(era5_vit_model_module, cmip6_data_module)"
   ]
  }
 ],
 "metadata": {
  "kernelspec": {
   "display_name": "Python 3 (ipykernel)",
   "language": "python",
   "name": "python3"
  },
  "language_info": {
   "codemirror_mode": {
    "name": "ipython",
    "version": 3
   },
   "file_extension": ".py",
   "mimetype": "text/x-python",
   "name": "python",
   "nbconvert_exporter": "python",
   "pygments_lexer": "ipython3",
   "version": "3.8.13"
  }
 },
 "nbformat": 4,
 "nbformat_minor": 5
}
