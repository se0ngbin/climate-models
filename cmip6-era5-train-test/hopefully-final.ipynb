{
 "cells": [
  {
   "cell_type": "code",
   "execution_count": 1,
   "id": "dc2036c7",
   "metadata": {},
   "outputs": [],
   "source": [
    "from pathlib import Path\n",
    "import torch\n",
    "\n",
    "cmip_path = Path(\"/data0/datasets/weatherbench/data/esgf/cmip6/5.625deg\")   # replace with path\n",
    "era_path = Path(\"/data0/datasets/weatherbench/data/weatherbench/era5/5.625deg\")"
   ]
  },
  {
   "cell_type": "code",
   "execution_count": 2,
   "id": "bf82e368",
   "metadata": {},
   "outputs": [],
   "source": [
    "import xarray as xr\n",
    "\n",
    "import sys\n",
    "sys.path.insert(0, '/home/seongbin/climate-learn/src')"
   ]
  },
  {
   "cell_type": "code",
   "execution_count": 3,
   "id": "d877def9",
   "metadata": {},
   "outputs": [],
   "source": [
    "from climate_learn.utils.datetime import Year, Days, Hours\n",
    "from climate_learn.data import DataModule"
   ]
  },
  {
   "cell_type": "code",
   "execution_count": 4,
   "id": "665348aa",
   "metadata": {
    "scrolled": true
   },
   "outputs": [
    {
     "name": "stdout",
     "output_type": "stream",
     "text": [
      "Creating train dataset\n"
     ]
    },
    {
     "name": "stderr",
     "output_type": "stream",
     "text": [
      "100%|███████████████████████████████████████████████████████████████████████████████████████████████████████| 33/33 [00:00<00:00, 46.45it/s]\n"
     ]
    },
    {
     "name": "stdout",
     "output_type": "stream",
     "text": [
      "out 289272\n",
      "in 289272\n",
      "Finished inp and out _data\n",
      "Almost done!\n",
      "Creating val dataset\n"
     ]
    },
    {
     "name": "stderr",
     "output_type": "stream",
     "text": [
      "100%|█████████████████████████████████████████████████████████████████████████████████████████████████████████| 1/1 [00:00<00:00, 47.56it/s]"
     ]
    },
    {
     "name": "stdout",
     "output_type": "stream",
     "text": [
      "out 8784\n"
     ]
    },
    {
     "name": "stderr",
     "output_type": "stream",
     "text": [
      "\n"
     ]
    },
    {
     "name": "stdout",
     "output_type": "stream",
     "text": [
      "in 8784\n",
      "Finished inp and out _data\n",
      "Almost done!\n",
      "Creating test dataset\n"
     ]
    },
    {
     "name": "stderr",
     "output_type": "stream",
     "text": [
      "100%|█████████████████████████████████████████████████████████████████████████████████████████████████████████| 2/2 [00:00<00:00, 45.60it/s]"
     ]
    },
    {
     "name": "stdout",
     "output_type": "stream",
     "text": [
      "out 17520\n"
     ]
    },
    {
     "name": "stderr",
     "output_type": "stream",
     "text": [
      "\n"
     ]
    },
    {
     "name": "stdout",
     "output_type": "stream",
     "text": [
      "in 17520\n",
      "Finished inp and out _data\n",
      "Almost done!\n"
     ]
    }
   ],
   "source": [
    "era5_data_module = DataModule(\n",
    "    dataset = \"ERA5\",\n",
    "    task = \"forecasting\",\n",
    "    root_dir = era_path,\n",
    "    in_vars = [\"temperature\", \"geopotential\", \"2m_temperature\"],\n",
    "    out_vars = [\"temperature_850\", \"geopotential_500\", \"2m_temperature\"],\n",
    "    train_start_year = Year(1979),\n",
    "    val_start_year = Year(2012),\n",
    "    test_start_year = Year(2013),\n",
    "    end_year = Year(2014),\n",
    "    pred_range = Days(3),\n",
    "    subsample = Hours(6),\n",
    "    batch_size = 32,\n",
    "    num_workers = 64\n",
    ") "
   ]
  },
  {
   "cell_type": "code",
   "execution_count": 5,
   "id": "f0e69e4c",
   "metadata": {},
   "outputs": [
    {
     "data": {
      "text/plain": [
       "1"
      ]
     },
     "execution_count": 5,
     "metadata": {},
     "output_type": "execute_result"
    }
   ],
   "source": [
    "era5_nb = len(era5_data_module.train_dataloader())\n",
    "era5_wepochs = 1000 // era5_nb + 1\n",
    "era5_wepochs"
   ]
  },
  {
   "cell_type": "code",
   "execution_count": 7,
   "id": "7033353b",
   "metadata": {
    "scrolled": true
   },
   "outputs": [
    {
     "name": "stdout",
     "output_type": "stream",
     "text": [
      "Creating train dataset\n"
     ]
    },
    {
     "data": {
      "application/json": {
       "ascii": false,
       "bar_format": null,
       "colour": null,
       "elapsed": 0.013871431350708008,
       "initial": 0,
       "n": 0,
       "ncols": null,
       "nrows": 16,
       "postfix": null,
       "prefix": "",
       "rate": null,
       "total": 33,
       "unit": "it",
       "unit_divisor": 1000,
       "unit_scale": false
      },
      "application/vnd.jupyter.widget-view+json": {
       "model_id": "26624239a2fa4c3ab008cb98c93b5159",
       "version_major": 2,
       "version_minor": 0
      },
      "text/plain": [
       "  0%|          | 0/33 [00:00<?, ?it/s]"
      ]
     },
     "metadata": {},
     "output_type": "display_data"
    },
    {
     "name": "stdout",
     "output_type": "stream",
     "text": [
      "/data0/datasets/weatherbench/data/esgf/cmip6/5.625deg/temperature/1975*.nc\n",
      "/data0/datasets/weatherbench/data/esgf/cmip6/5.625deg/geopotential/1975*.nc\n",
      "/data0/datasets/weatherbench/data/esgf/cmip6/5.625deg/air_temperature/1975*.nc\n",
      "/data0/datasets/weatherbench/data/esgf/cmip6/5.625deg/temperature/1980*.nc\n",
      "/data0/datasets/weatherbench/data/esgf/cmip6/5.625deg/geopotential/1980*.nc\n",
      "/data0/datasets/weatherbench/data/esgf/cmip6/5.625deg/air_temperature/1980*.nc\n",
      "/data0/datasets/weatherbench/data/esgf/cmip6/5.625deg/temperature/1980*.nc\n",
      "/data0/datasets/weatherbench/data/esgf/cmip6/5.625deg/geopotential/1980*.nc\n",
      "/data0/datasets/weatherbench/data/esgf/cmip6/5.625deg/air_temperature/1980*.nc\n",
      "/data0/datasets/weatherbench/data/esgf/cmip6/5.625deg/temperature/1980*.nc\n",
      "/data0/datasets/weatherbench/data/esgf/cmip6/5.625deg/geopotential/1980*.nc\n",
      "/data0/datasets/weatherbench/data/esgf/cmip6/5.625deg/air_temperature/1980*.nc\n",
      "/data0/datasets/weatherbench/data/esgf/cmip6/5.625deg/temperature/1980*.nc\n",
      "/data0/datasets/weatherbench/data/esgf/cmip6/5.625deg/geopotential/1980*.nc\n",
      "/data0/datasets/weatherbench/data/esgf/cmip6/5.625deg/air_temperature/1980*.nc\n",
      "/data0/datasets/weatherbench/data/esgf/cmip6/5.625deg/temperature/1980*.nc\n",
      "/data0/datasets/weatherbench/data/esgf/cmip6/5.625deg/geopotential/1980*.nc\n",
      "/data0/datasets/weatherbench/data/esgf/cmip6/5.625deg/air_temperature/1980*.nc\n",
      "/data0/datasets/weatherbench/data/esgf/cmip6/5.625deg/temperature/1985*.nc\n",
      "/data0/datasets/weatherbench/data/esgf/cmip6/5.625deg/geopotential/1985*.nc\n",
      "/data0/datasets/weatherbench/data/esgf/cmip6/5.625deg/air_temperature/1985*.nc\n",
      "/data0/datasets/weatherbench/data/esgf/cmip6/5.625deg/temperature/1985*.nc\n",
      "/data0/datasets/weatherbench/data/esgf/cmip6/5.625deg/geopotential/1985*.nc\n",
      "/data0/datasets/weatherbench/data/esgf/cmip6/5.625deg/air_temperature/1985*.nc\n",
      "/data0/datasets/weatherbench/data/esgf/cmip6/5.625deg/temperature/1985*.nc\n",
      "/data0/datasets/weatherbench/data/esgf/cmip6/5.625deg/geopotential/1985*.nc\n",
      "/data0/datasets/weatherbench/data/esgf/cmip6/5.625deg/air_temperature/1985*.nc\n",
      "/data0/datasets/weatherbench/data/esgf/cmip6/5.625deg/temperature/1985*.nc\n",
      "/data0/datasets/weatherbench/data/esgf/cmip6/5.625deg/geopotential/1985*.nc\n",
      "/data0/datasets/weatherbench/data/esgf/cmip6/5.625deg/air_temperature/1985*.nc\n",
      "/data0/datasets/weatherbench/data/esgf/cmip6/5.625deg/temperature/1985*.nc\n",
      "/data0/datasets/weatherbench/data/esgf/cmip6/5.625deg/geopotential/1985*.nc\n",
      "/data0/datasets/weatherbench/data/esgf/cmip6/5.625deg/air_temperature/1985*.nc\n",
      "/data0/datasets/weatherbench/data/esgf/cmip6/5.625deg/temperature/1990*.nc\n",
      "/data0/datasets/weatherbench/data/esgf/cmip6/5.625deg/geopotential/1990*.nc\n",
      "/data0/datasets/weatherbench/data/esgf/cmip6/5.625deg/air_temperature/1990*.nc\n",
      "/data0/datasets/weatherbench/data/esgf/cmip6/5.625deg/temperature/1990*.nc\n",
      "/data0/datasets/weatherbench/data/esgf/cmip6/5.625deg/geopotential/1990*.nc\n",
      "/data0/datasets/weatherbench/data/esgf/cmip6/5.625deg/air_temperature/1990*.nc\n",
      "/data0/datasets/weatherbench/data/esgf/cmip6/5.625deg/temperature/1990*.nc\n",
      "/data0/datasets/weatherbench/data/esgf/cmip6/5.625deg/geopotential/1990*.nc\n",
      "/data0/datasets/weatherbench/data/esgf/cmip6/5.625deg/air_temperature/1990*.nc\n",
      "/data0/datasets/weatherbench/data/esgf/cmip6/5.625deg/temperature/1990*.nc\n",
      "/data0/datasets/weatherbench/data/esgf/cmip6/5.625deg/geopotential/1990*.nc\n",
      "/data0/datasets/weatherbench/data/esgf/cmip6/5.625deg/air_temperature/1990*.nc\n",
      "/data0/datasets/weatherbench/data/esgf/cmip6/5.625deg/temperature/1990*.nc\n",
      "/data0/datasets/weatherbench/data/esgf/cmip6/5.625deg/geopotential/1990*.nc\n",
      "/data0/datasets/weatherbench/data/esgf/cmip6/5.625deg/air_temperature/1990*.nc\n",
      "/data0/datasets/weatherbench/data/esgf/cmip6/5.625deg/temperature/1995*.nc\n",
      "/data0/datasets/weatherbench/data/esgf/cmip6/5.625deg/geopotential/1995*.nc\n",
      "/data0/datasets/weatherbench/data/esgf/cmip6/5.625deg/air_temperature/1995*.nc\n",
      "/data0/datasets/weatherbench/data/esgf/cmip6/5.625deg/temperature/1995*.nc\n",
      "/data0/datasets/weatherbench/data/esgf/cmip6/5.625deg/geopotential/1995*.nc\n",
      "/data0/datasets/weatherbench/data/esgf/cmip6/5.625deg/air_temperature/1995*.nc\n",
      "/data0/datasets/weatherbench/data/esgf/cmip6/5.625deg/temperature/1995*.nc\n",
      "/data0/datasets/weatherbench/data/esgf/cmip6/5.625deg/geopotential/1995*.nc\n",
      "/data0/datasets/weatherbench/data/esgf/cmip6/5.625deg/air_temperature/1995*.nc\n",
      "/data0/datasets/weatherbench/data/esgf/cmip6/5.625deg/temperature/1995*.nc\n",
      "/data0/datasets/weatherbench/data/esgf/cmip6/5.625deg/geopotential/1995*.nc\n",
      "/data0/datasets/weatherbench/data/esgf/cmip6/5.625deg/air_temperature/1995*.nc\n",
      "/data0/datasets/weatherbench/data/esgf/cmip6/5.625deg/temperature/1995*.nc\n",
      "/data0/datasets/weatherbench/data/esgf/cmip6/5.625deg/geopotential/1995*.nc\n",
      "/data0/datasets/weatherbench/data/esgf/cmip6/5.625deg/air_temperature/1995*.nc\n",
      "/data0/datasets/weatherbench/data/esgf/cmip6/5.625deg/temperature/2000*.nc\n",
      "/data0/datasets/weatherbench/data/esgf/cmip6/5.625deg/geopotential/2000*.nc\n",
      "/data0/datasets/weatherbench/data/esgf/cmip6/5.625deg/air_temperature/2000*.nc\n",
      "/data0/datasets/weatherbench/data/esgf/cmip6/5.625deg/temperature/2000*.nc\n",
      "/data0/datasets/weatherbench/data/esgf/cmip6/5.625deg/geopotential/2000*.nc\n",
      "/data0/datasets/weatherbench/data/esgf/cmip6/5.625deg/air_temperature/2000*.nc\n",
      "/data0/datasets/weatherbench/data/esgf/cmip6/5.625deg/temperature/2000*.nc\n",
      "/data0/datasets/weatherbench/data/esgf/cmip6/5.625deg/geopotential/2000*.nc\n",
      "/data0/datasets/weatherbench/data/esgf/cmip6/5.625deg/air_temperature/2000*.nc\n",
      "/data0/datasets/weatherbench/data/esgf/cmip6/5.625deg/temperature/2000*.nc\n",
      "/data0/datasets/weatherbench/data/esgf/cmip6/5.625deg/geopotential/2000*.nc\n",
      "/data0/datasets/weatherbench/data/esgf/cmip6/5.625deg/air_temperature/2000*.nc\n",
      "/data0/datasets/weatherbench/data/esgf/cmip6/5.625deg/temperature/2000*.nc\n",
      "/data0/datasets/weatherbench/data/esgf/cmip6/5.625deg/geopotential/2000*.nc\n",
      "/data0/datasets/weatherbench/data/esgf/cmip6/5.625deg/air_temperature/2000*.nc\n",
      "/data0/datasets/weatherbench/data/esgf/cmip6/5.625deg/temperature/2005*.nc\n",
      "/data0/datasets/weatherbench/data/esgf/cmip6/5.625deg/geopotential/2005*.nc\n",
      "/data0/datasets/weatherbench/data/esgf/cmip6/5.625deg/air_temperature/2005*.nc\n",
      "/data0/datasets/weatherbench/data/esgf/cmip6/5.625deg/temperature/2005*.nc\n",
      "/data0/datasets/weatherbench/data/esgf/cmip6/5.625deg/geopotential/2005*.nc\n",
      "/data0/datasets/weatherbench/data/esgf/cmip6/5.625deg/air_temperature/2005*.nc\n",
      "/data0/datasets/weatherbench/data/esgf/cmip6/5.625deg/temperature/2005*.nc\n",
      "/data0/datasets/weatherbench/data/esgf/cmip6/5.625deg/geopotential/2005*.nc\n",
      "/data0/datasets/weatherbench/data/esgf/cmip6/5.625deg/air_temperature/2005*.nc\n",
      "/data0/datasets/weatherbench/data/esgf/cmip6/5.625deg/temperature/2005*.nc\n",
      "/data0/datasets/weatherbench/data/esgf/cmip6/5.625deg/geopotential/2005*.nc\n",
      "/data0/datasets/weatherbench/data/esgf/cmip6/5.625deg/air_temperature/2005*.nc\n",
      "/data0/datasets/weatherbench/data/esgf/cmip6/5.625deg/temperature/2005*.nc\n",
      "/data0/datasets/weatherbench/data/esgf/cmip6/5.625deg/geopotential/2005*.nc\n",
      "/data0/datasets/weatherbench/data/esgf/cmip6/5.625deg/air_temperature/2005*.nc\n",
      "/data0/datasets/weatherbench/data/esgf/cmip6/5.625deg/temperature/2010*.nc\n",
      "/data0/datasets/weatherbench/data/esgf/cmip6/5.625deg/geopotential/2010*.nc\n",
      "/data0/datasets/weatherbench/data/esgf/cmip6/5.625deg/air_temperature/2010*.nc\n",
      "/data0/datasets/weatherbench/data/esgf/cmip6/5.625deg/temperature/2010*.nc\n",
      "/data0/datasets/weatherbench/data/esgf/cmip6/5.625deg/geopotential/2010*.nc\n",
      "/data0/datasets/weatherbench/data/esgf/cmip6/5.625deg/air_temperature/2010*.nc\n",
      "in 48187\n",
      "out 48187\n",
      "Creating val dataset\n"
     ]
    },
    {
     "data": {
      "application/json": {
       "ascii": false,
       "bar_format": null,
       "colour": null,
       "elapsed": 0.013149023056030273,
       "initial": 0,
       "n": 0,
       "ncols": null,
       "nrows": 16,
       "postfix": null,
       "prefix": "",
       "rate": null,
       "total": 1,
       "unit": "it",
       "unit_divisor": 1000,
       "unit_scale": false
      },
      "application/vnd.jupyter.widget-view+json": {
       "model_id": "2789693ed2ba462ebdfae0d97bca42b7",
       "version_major": 2,
       "version_minor": 0
      },
      "text/plain": [
       "  0%|          | 0/1 [00:00<?, ?it/s]"
      ]
     },
     "metadata": {},
     "output_type": "display_data"
    },
    {
     "name": "stdout",
     "output_type": "stream",
     "text": [
      "/data0/datasets/weatherbench/data/esgf/cmip6/5.625deg/temperature/2010*.nc\n",
      "/data0/datasets/weatherbench/data/esgf/cmip6/5.625deg/geopotential/2010*.nc\n",
      "/data0/datasets/weatherbench/data/esgf/cmip6/5.625deg/air_temperature/2010*.nc\n",
      "in 1459\n",
      "out 1459\n",
      "Creating test dataset\n"
     ]
    },
    {
     "data": {
      "application/json": {
       "ascii": false,
       "bar_format": null,
       "colour": null,
       "elapsed": 0.010228872299194336,
       "initial": 0,
       "n": 0,
       "ncols": null,
       "nrows": 16,
       "postfix": null,
       "prefix": "",
       "rate": null,
       "total": 2,
       "unit": "it",
       "unit_divisor": 1000,
       "unit_scale": false
      },
      "application/vnd.jupyter.widget-view+json": {
       "model_id": "b84d7c4c4d0f4519aaee26a3998189b5",
       "version_major": 2,
       "version_minor": 0
      },
      "text/plain": [
       "  0%|          | 0/2 [00:00<?, ?it/s]"
      ]
     },
     "metadata": {},
     "output_type": "display_data"
    },
    {
     "name": "stdout",
     "output_type": "stream",
     "text": [
      "/data0/datasets/weatherbench/data/esgf/cmip6/5.625deg/temperature/2010*.nc\n",
      "/data0/datasets/weatherbench/data/esgf/cmip6/5.625deg/geopotential/2010*.nc\n",
      "/data0/datasets/weatherbench/data/esgf/cmip6/5.625deg/air_temperature/2010*.nc\n",
      "/data0/datasets/weatherbench/data/esgf/cmip6/5.625deg/temperature/2010*.nc\n",
      "/data0/datasets/weatherbench/data/esgf/cmip6/5.625deg/geopotential/2010*.nc\n",
      "/data0/datasets/weatherbench/data/esgf/cmip6/5.625deg/air_temperature/2010*.nc\n",
      "in 2918\n",
      "out 2918\n"
     ]
    }
   ],
   "source": [
    "cmip6_data_module = DataModule(\n",
    "    dataset = \"CMIP6\",\n",
    "    task = \"forecasting\",\n",
    "    root_dir = cmip_path,\n",
    "    in_vars = [\"temperature\", \"geopotential\", \"air_temperature\"],\n",
    "    out_vars = [\"temperature_850\", \"geopotential_500\", \"air_temperature\"],\n",
    "    train_start_year = Year(1979),\n",
    "    val_start_year = Year(2012),\n",
    "    test_start_year = Year(2013),\n",
    "    end_year = Year(2014),\n",
    "    pred_range = Days(3),\n",
    "    batch_size = 32,\n",
    "    num_workers = 64\n",
    ") "
   ]
  },
  {
   "cell_type": "code",
   "execution_count": 8,
   "id": "a95ad0b9",
   "metadata": {},
   "outputs": [
    {
     "data": {
      "text/plain": [
       "(1, 1505, 1504)"
      ]
     },
     "execution_count": 8,
     "metadata": {},
     "output_type": "execute_result"
    }
   ],
   "source": [
    "cmip6_nb = len(cmip6_data_module.train_dataloader())\n",
    "cmip6_wepochs = 1000 // cmip6_nb + 1\n",
    "cmip6_wepochs, len(era5_data_module.train_dataloader()), len(cmip6_data_module.train_dataloader())"
   ]
  },
  {
   "cell_type": "code",
   "execution_count": 9,
   "id": "3d8e643d",
   "metadata": {
    "scrolled": true
   },
   "outputs": [],
   "source": [
    "from climate_learn.models import load_model"
   ]
  },
  {
   "cell_type": "code",
   "execution_count": 10,
   "id": "a61a9300",
   "metadata": {},
   "outputs": [],
   "source": [
    "cmip_model_kwargs = {\n",
    "    \"in_channels\": len(cmip6_data_module.hparams.in_vars),\n",
    "    \"out_channels\": len(cmip6_data_module.hparams.out_vars),\n",
    "    \"n_blocks\": 19\n",
    "}\n",
    "\n",
    "optim_kwargs = {\n",
    "    \"lr\": 1e-4,\n",
    "    \"weight_decay\": 1e-5,\n",
    "    \"warmup_epochs\": cmip6_wepochs,\n",
    "    \"max_epochs\": 100,\n",
    "}\n",
    "\n",
    "cmip_model_module = load_model(name = \"resnet\", task = \"forecasting\", model_kwargs = cmip_model_kwargs, optim_kwargs = optim_kwargs)"
   ]
  },
  {
   "cell_type": "code",
   "execution_count": 11,
   "id": "c37fc253",
   "metadata": {},
   "outputs": [],
   "source": [
    "from climate_learn.models import set_climatology\n",
    "from climate_learn.training import Trainer, WandbLogger"
   ]
  },
  {
   "cell_type": "code",
   "execution_count": 12,
   "id": "72ab84e7",
   "metadata": {},
   "outputs": [],
   "source": [
    "set_climatology(cmip_model_module, cmip6_data_module)"
   ]
  },
  {
   "cell_type": "code",
   "execution_count": 13,
   "id": "8e004994",
   "metadata": {},
   "outputs": [],
   "source": [
    "cmip_trainer = Trainer(\n",
    "    seed = 0,\n",
    "    accelerator = \"gpu\",\n",
    "    precision = 16,\n",
    "    max_epochs = 100,\n",
    "    # logger = WandbLogger(project = \"climate_tutorial\", name = \"forecast-vit\")\n",
    ")"
   ]
  },
  {
   "cell_type": "code",
   "execution_count": 14,
   "id": "28427d13",
   "metadata": {
    "scrolled": false
   },
   "outputs": [
    {
     "data": {
      "text/html": [
       "<pre style=\"white-space:pre;overflow-x:auto;line-height:normal;font-family:Menlo,'DejaVu Sans Mono',consolas,'Courier New',monospace\">┏━━━━━┳━━━━━━━━━━━━━━━━━━━━━━━━━━━━━┳━━━━━━━━━━━━━━━━━━━┳━━━━━━━━┓\n",
       "┃<span style=\"color: #800080; text-decoration-color: #800080; font-weight: bold\">     </span>┃<span style=\"color: #800080; text-decoration-color: #800080; font-weight: bold\"> Name                        </span>┃<span style=\"color: #800080; text-decoration-color: #800080; font-weight: bold\"> Type              </span>┃<span style=\"color: #800080; text-decoration-color: #800080; font-weight: bold\"> Params </span>┃\n",
       "┡━━━━━╇━━━━━━━━━━━━━━━━━━━━━━━━━━━━━╇━━━━━━━━━━━━━━━━━━━╇━━━━━━━━┩\n",
       "│<span style=\"color: #7f7f7f; text-decoration-color: #7f7f7f\"> 0   </span>│ net                         │ ResNet            │  5.7 M │\n",
       "│<span style=\"color: #7f7f7f; text-decoration-color: #7f7f7f\"> 1   </span>│ net.activation              │ LeakyReLU         │      0 │\n",
       "│<span style=\"color: #7f7f7f; text-decoration-color: #7f7f7f\"> 2   </span>│ net.image_proj              │ PeriodicConv2D    │ 18.9 K │\n",
       "│<span style=\"color: #7f7f7f; text-decoration-color: #7f7f7f\"> 3   </span>│ net.image_proj.padding      │ PeriodicPadding2D │      0 │\n",
       "│<span style=\"color: #7f7f7f; text-decoration-color: #7f7f7f\"> 4   </span>│ net.image_proj.conv         │ Conv2d            │ 18.9 K │\n",
       "│<span style=\"color: #7f7f7f; text-decoration-color: #7f7f7f\"> 5   </span>│ net.blocks                  │ ModuleList        │  5.6 M │\n",
       "│<span style=\"color: #7f7f7f; text-decoration-color: #7f7f7f\"> 6   </span>│ net.blocks.0                │ ResidualBlock     │  295 K │\n",
       "│<span style=\"color: #7f7f7f; text-decoration-color: #7f7f7f\"> 7   </span>│ net.blocks.0.activation     │ LeakyReLU         │      0 │\n",
       "│<span style=\"color: #7f7f7f; text-decoration-color: #7f7f7f\"> 8   </span>│ net.blocks.0.conv1          │ PeriodicConv2D    │  147 K │\n",
       "│<span style=\"color: #7f7f7f; text-decoration-color: #7f7f7f\"> 9   </span>│ net.blocks.0.conv1.padding  │ PeriodicPadding2D │      0 │\n",
       "│<span style=\"color: #7f7f7f; text-decoration-color: #7f7f7f\"> 10  </span>│ net.blocks.0.conv1.conv     │ Conv2d            │  147 K │\n",
       "│<span style=\"color: #7f7f7f; text-decoration-color: #7f7f7f\"> 11  </span>│ net.blocks.0.conv2          │ PeriodicConv2D    │  147 K │\n",
       "│<span style=\"color: #7f7f7f; text-decoration-color: #7f7f7f\"> 12  </span>│ net.blocks.0.conv2.padding  │ PeriodicPadding2D │      0 │\n",
       "│<span style=\"color: #7f7f7f; text-decoration-color: #7f7f7f\"> 13  </span>│ net.blocks.0.conv2.conv     │ Conv2d            │  147 K │\n",
       "│<span style=\"color: #7f7f7f; text-decoration-color: #7f7f7f\"> 14  </span>│ net.blocks.0.shortcut       │ Identity          │      0 │\n",
       "│<span style=\"color: #7f7f7f; text-decoration-color: #7f7f7f\"> 15  </span>│ net.blocks.0.norm1          │ BatchNorm2d       │    256 │\n",
       "│<span style=\"color: #7f7f7f; text-decoration-color: #7f7f7f\"> 16  </span>│ net.blocks.0.norm2          │ BatchNorm2d       │    256 │\n",
       "│<span style=\"color: #7f7f7f; text-decoration-color: #7f7f7f\"> 17  </span>│ net.blocks.0.drop           │ Dropout           │      0 │\n",
       "│<span style=\"color: #7f7f7f; text-decoration-color: #7f7f7f\"> 18  </span>│ net.blocks.1                │ ResidualBlock     │  295 K │\n",
       "│<span style=\"color: #7f7f7f; text-decoration-color: #7f7f7f\"> 19  </span>│ net.blocks.1.activation     │ LeakyReLU         │      0 │\n",
       "│<span style=\"color: #7f7f7f; text-decoration-color: #7f7f7f\"> 20  </span>│ net.blocks.1.conv1          │ PeriodicConv2D    │  147 K │\n",
       "│<span style=\"color: #7f7f7f; text-decoration-color: #7f7f7f\"> 21  </span>│ net.blocks.1.conv1.padding  │ PeriodicPadding2D │      0 │\n",
       "│<span style=\"color: #7f7f7f; text-decoration-color: #7f7f7f\"> 22  </span>│ net.blocks.1.conv1.conv     │ Conv2d            │  147 K │\n",
       "│<span style=\"color: #7f7f7f; text-decoration-color: #7f7f7f\"> 23  </span>│ net.blocks.1.conv2          │ PeriodicConv2D    │  147 K │\n",
       "│<span style=\"color: #7f7f7f; text-decoration-color: #7f7f7f\"> 24  </span>│ net.blocks.1.conv2.padding  │ PeriodicPadding2D │      0 │\n",
       "│<span style=\"color: #7f7f7f; text-decoration-color: #7f7f7f\"> 25  </span>│ net.blocks.1.conv2.conv     │ Conv2d            │  147 K │\n",
       "│<span style=\"color: #7f7f7f; text-decoration-color: #7f7f7f\"> 26  </span>│ net.blocks.1.shortcut       │ Identity          │      0 │\n",
       "│<span style=\"color: #7f7f7f; text-decoration-color: #7f7f7f\"> 27  </span>│ net.blocks.1.norm1          │ BatchNorm2d       │    256 │\n",
       "│<span style=\"color: #7f7f7f; text-decoration-color: #7f7f7f\"> 28  </span>│ net.blocks.1.norm2          │ BatchNorm2d       │    256 │\n",
       "│<span style=\"color: #7f7f7f; text-decoration-color: #7f7f7f\"> 29  </span>│ net.blocks.1.drop           │ Dropout           │      0 │\n",
       "│<span style=\"color: #7f7f7f; text-decoration-color: #7f7f7f\"> 30  </span>│ net.blocks.2                │ ResidualBlock     │  295 K │\n",
       "│<span style=\"color: #7f7f7f; text-decoration-color: #7f7f7f\"> 31  </span>│ net.blocks.2.activation     │ LeakyReLU         │      0 │\n",
       "│<span style=\"color: #7f7f7f; text-decoration-color: #7f7f7f\"> 32  </span>│ net.blocks.2.conv1          │ PeriodicConv2D    │  147 K │\n",
       "│<span style=\"color: #7f7f7f; text-decoration-color: #7f7f7f\"> 33  </span>│ net.blocks.2.conv1.padding  │ PeriodicPadding2D │      0 │\n",
       "│<span style=\"color: #7f7f7f; text-decoration-color: #7f7f7f\"> 34  </span>│ net.blocks.2.conv1.conv     │ Conv2d            │  147 K │\n",
       "│<span style=\"color: #7f7f7f; text-decoration-color: #7f7f7f\"> 35  </span>│ net.blocks.2.conv2          │ PeriodicConv2D    │  147 K │\n",
       "│<span style=\"color: #7f7f7f; text-decoration-color: #7f7f7f\"> 36  </span>│ net.blocks.2.conv2.padding  │ PeriodicPadding2D │      0 │\n",
       "│<span style=\"color: #7f7f7f; text-decoration-color: #7f7f7f\"> 37  </span>│ net.blocks.2.conv2.conv     │ Conv2d            │  147 K │\n",
       "│<span style=\"color: #7f7f7f; text-decoration-color: #7f7f7f\"> 38  </span>│ net.blocks.2.shortcut       │ Identity          │      0 │\n",
       "│<span style=\"color: #7f7f7f; text-decoration-color: #7f7f7f\"> 39  </span>│ net.blocks.2.norm1          │ BatchNorm2d       │    256 │\n",
       "│<span style=\"color: #7f7f7f; text-decoration-color: #7f7f7f\"> 40  </span>│ net.blocks.2.norm2          │ BatchNorm2d       │    256 │\n",
       "│<span style=\"color: #7f7f7f; text-decoration-color: #7f7f7f\"> 41  </span>│ net.blocks.2.drop           │ Dropout           │      0 │\n",
       "│<span style=\"color: #7f7f7f; text-decoration-color: #7f7f7f\"> 42  </span>│ net.blocks.3                │ ResidualBlock     │  295 K │\n",
       "│<span style=\"color: #7f7f7f; text-decoration-color: #7f7f7f\"> 43  </span>│ net.blocks.3.activation     │ LeakyReLU         │      0 │\n",
       "│<span style=\"color: #7f7f7f; text-decoration-color: #7f7f7f\"> 44  </span>│ net.blocks.3.conv1          │ PeriodicConv2D    │  147 K │\n",
       "│<span style=\"color: #7f7f7f; text-decoration-color: #7f7f7f\"> 45  </span>│ net.blocks.3.conv1.padding  │ PeriodicPadding2D │      0 │\n",
       "│<span style=\"color: #7f7f7f; text-decoration-color: #7f7f7f\"> 46  </span>│ net.blocks.3.conv1.conv     │ Conv2d            │  147 K │\n",
       "│<span style=\"color: #7f7f7f; text-decoration-color: #7f7f7f\"> 47  </span>│ net.blocks.3.conv2          │ PeriodicConv2D    │  147 K │\n",
       "│<span style=\"color: #7f7f7f; text-decoration-color: #7f7f7f\"> 48  </span>│ net.blocks.3.conv2.padding  │ PeriodicPadding2D │      0 │\n",
       "│<span style=\"color: #7f7f7f; text-decoration-color: #7f7f7f\"> 49  </span>│ net.blocks.3.conv2.conv     │ Conv2d            │  147 K │\n",
       "│<span style=\"color: #7f7f7f; text-decoration-color: #7f7f7f\"> 50  </span>│ net.blocks.3.shortcut       │ Identity          │      0 │\n",
       "│<span style=\"color: #7f7f7f; text-decoration-color: #7f7f7f\"> 51  </span>│ net.blocks.3.norm1          │ BatchNorm2d       │    256 │\n",
       "│<span style=\"color: #7f7f7f; text-decoration-color: #7f7f7f\"> 52  </span>│ net.blocks.3.norm2          │ BatchNorm2d       │    256 │\n",
       "│<span style=\"color: #7f7f7f; text-decoration-color: #7f7f7f\"> 53  </span>│ net.blocks.3.drop           │ Dropout           │      0 │\n",
       "│<span style=\"color: #7f7f7f; text-decoration-color: #7f7f7f\"> 54  </span>│ net.blocks.4                │ ResidualBlock     │  295 K │\n",
       "│<span style=\"color: #7f7f7f; text-decoration-color: #7f7f7f\"> 55  </span>│ net.blocks.4.activation     │ LeakyReLU         │      0 │\n",
       "│<span style=\"color: #7f7f7f; text-decoration-color: #7f7f7f\"> 56  </span>│ net.blocks.4.conv1          │ PeriodicConv2D    │  147 K │\n",
       "│<span style=\"color: #7f7f7f; text-decoration-color: #7f7f7f\"> 57  </span>│ net.blocks.4.conv1.padding  │ PeriodicPadding2D │      0 │\n",
       "│<span style=\"color: #7f7f7f; text-decoration-color: #7f7f7f\"> 58  </span>│ net.blocks.4.conv1.conv     │ Conv2d            │  147 K │\n",
       "│<span style=\"color: #7f7f7f; text-decoration-color: #7f7f7f\"> 59  </span>│ net.blocks.4.conv2          │ PeriodicConv2D    │  147 K │\n",
       "│<span style=\"color: #7f7f7f; text-decoration-color: #7f7f7f\"> 60  </span>│ net.blocks.4.conv2.padding  │ PeriodicPadding2D │      0 │\n",
       "│<span style=\"color: #7f7f7f; text-decoration-color: #7f7f7f\"> 61  </span>│ net.blocks.4.conv2.conv     │ Conv2d            │  147 K │\n",
       "│<span style=\"color: #7f7f7f; text-decoration-color: #7f7f7f\"> 62  </span>│ net.blocks.4.shortcut       │ Identity          │      0 │\n",
       "│<span style=\"color: #7f7f7f; text-decoration-color: #7f7f7f\"> 63  </span>│ net.blocks.4.norm1          │ BatchNorm2d       │    256 │\n",
       "│<span style=\"color: #7f7f7f; text-decoration-color: #7f7f7f\"> 64  </span>│ net.blocks.4.norm2          │ BatchNorm2d       │    256 │\n",
       "│<span style=\"color: #7f7f7f; text-decoration-color: #7f7f7f\"> 65  </span>│ net.blocks.4.drop           │ Dropout           │      0 │\n",
       "│<span style=\"color: #7f7f7f; text-decoration-color: #7f7f7f\"> 66  </span>│ net.blocks.5                │ ResidualBlock     │  295 K │\n",
       "│<span style=\"color: #7f7f7f; text-decoration-color: #7f7f7f\"> 67  </span>│ net.blocks.5.activation     │ LeakyReLU         │      0 │\n",
       "│<span style=\"color: #7f7f7f; text-decoration-color: #7f7f7f\"> 68  </span>│ net.blocks.5.conv1          │ PeriodicConv2D    │  147 K │\n",
       "│<span style=\"color: #7f7f7f; text-decoration-color: #7f7f7f\"> 69  </span>│ net.blocks.5.conv1.padding  │ PeriodicPadding2D │      0 │\n",
       "│<span style=\"color: #7f7f7f; text-decoration-color: #7f7f7f\"> 70  </span>│ net.blocks.5.conv1.conv     │ Conv2d            │  147 K │\n",
       "│<span style=\"color: #7f7f7f; text-decoration-color: #7f7f7f\"> 71  </span>│ net.blocks.5.conv2          │ PeriodicConv2D    │  147 K │\n",
       "│<span style=\"color: #7f7f7f; text-decoration-color: #7f7f7f\"> 72  </span>│ net.blocks.5.conv2.padding  │ PeriodicPadding2D │      0 │\n",
       "│<span style=\"color: #7f7f7f; text-decoration-color: #7f7f7f\"> 73  </span>│ net.blocks.5.conv2.conv     │ Conv2d            │  147 K │\n",
       "│<span style=\"color: #7f7f7f; text-decoration-color: #7f7f7f\"> 74  </span>│ net.blocks.5.shortcut       │ Identity          │      0 │\n",
       "│<span style=\"color: #7f7f7f; text-decoration-color: #7f7f7f\"> 75  </span>│ net.blocks.5.norm1          │ BatchNorm2d       │    256 │\n",
       "│<span style=\"color: #7f7f7f; text-decoration-color: #7f7f7f\"> 76  </span>│ net.blocks.5.norm2          │ BatchNorm2d       │    256 │\n",
       "│<span style=\"color: #7f7f7f; text-decoration-color: #7f7f7f\"> 77  </span>│ net.blocks.5.drop           │ Dropout           │      0 │\n",
       "│<span style=\"color: #7f7f7f; text-decoration-color: #7f7f7f\"> 78  </span>│ net.blocks.6                │ ResidualBlock     │  295 K │\n",
       "│<span style=\"color: #7f7f7f; text-decoration-color: #7f7f7f\"> 79  </span>│ net.blocks.6.activation     │ LeakyReLU         │      0 │\n",
       "│<span style=\"color: #7f7f7f; text-decoration-color: #7f7f7f\"> 80  </span>│ net.blocks.6.conv1          │ PeriodicConv2D    │  147 K │\n",
       "│<span style=\"color: #7f7f7f; text-decoration-color: #7f7f7f\"> 81  </span>│ net.blocks.6.conv1.padding  │ PeriodicPadding2D │      0 │\n",
       "│<span style=\"color: #7f7f7f; text-decoration-color: #7f7f7f\"> 82  </span>│ net.blocks.6.conv1.conv     │ Conv2d            │  147 K │\n",
       "│<span style=\"color: #7f7f7f; text-decoration-color: #7f7f7f\"> 83  </span>│ net.blocks.6.conv2          │ PeriodicConv2D    │  147 K │\n",
       "│<span style=\"color: #7f7f7f; text-decoration-color: #7f7f7f\"> 84  </span>│ net.blocks.6.conv2.padding  │ PeriodicPadding2D │      0 │\n",
       "│<span style=\"color: #7f7f7f; text-decoration-color: #7f7f7f\"> 85  </span>│ net.blocks.6.conv2.conv     │ Conv2d            │  147 K │\n",
       "│<span style=\"color: #7f7f7f; text-decoration-color: #7f7f7f\"> 86  </span>│ net.blocks.6.shortcut       │ Identity          │      0 │\n",
       "│<span style=\"color: #7f7f7f; text-decoration-color: #7f7f7f\"> 87  </span>│ net.blocks.6.norm1          │ BatchNorm2d       │    256 │\n",
       "│<span style=\"color: #7f7f7f; text-decoration-color: #7f7f7f\"> 88  </span>│ net.blocks.6.norm2          │ BatchNorm2d       │    256 │\n",
       "│<span style=\"color: #7f7f7f; text-decoration-color: #7f7f7f\"> 89  </span>│ net.blocks.6.drop           │ Dropout           │      0 │\n",
       "│<span style=\"color: #7f7f7f; text-decoration-color: #7f7f7f\"> 90  </span>│ net.blocks.7                │ ResidualBlock     │  295 K │\n",
       "│<span style=\"color: #7f7f7f; text-decoration-color: #7f7f7f\"> 91  </span>│ net.blocks.7.activation     │ LeakyReLU         │      0 │\n",
       "│<span style=\"color: #7f7f7f; text-decoration-color: #7f7f7f\"> 92  </span>│ net.blocks.7.conv1          │ PeriodicConv2D    │  147 K │\n",
       "│<span style=\"color: #7f7f7f; text-decoration-color: #7f7f7f\"> 93  </span>│ net.blocks.7.conv1.padding  │ PeriodicPadding2D │      0 │\n",
       "│<span style=\"color: #7f7f7f; text-decoration-color: #7f7f7f\"> 94  </span>│ net.blocks.7.conv1.conv     │ Conv2d            │  147 K │\n",
       "│<span style=\"color: #7f7f7f; text-decoration-color: #7f7f7f\"> 95  </span>│ net.blocks.7.conv2          │ PeriodicConv2D    │  147 K │\n",
       "│<span style=\"color: #7f7f7f; text-decoration-color: #7f7f7f\"> 96  </span>│ net.blocks.7.conv2.padding  │ PeriodicPadding2D │      0 │\n",
       "│<span style=\"color: #7f7f7f; text-decoration-color: #7f7f7f\"> 97  </span>│ net.blocks.7.conv2.conv     │ Conv2d            │  147 K │\n",
       "│<span style=\"color: #7f7f7f; text-decoration-color: #7f7f7f\"> 98  </span>│ net.blocks.7.shortcut       │ Identity          │      0 │\n",
       "│<span style=\"color: #7f7f7f; text-decoration-color: #7f7f7f\"> 99  </span>│ net.blocks.7.norm1          │ BatchNorm2d       │    256 │\n",
       "│<span style=\"color: #7f7f7f; text-decoration-color: #7f7f7f\"> 100 </span>│ net.blocks.7.norm2          │ BatchNorm2d       │    256 │\n",
       "│<span style=\"color: #7f7f7f; text-decoration-color: #7f7f7f\"> 101 </span>│ net.blocks.7.drop           │ Dropout           │      0 │\n",
       "│<span style=\"color: #7f7f7f; text-decoration-color: #7f7f7f\"> 102 </span>│ net.blocks.8                │ ResidualBlock     │  295 K │\n",
       "│<span style=\"color: #7f7f7f; text-decoration-color: #7f7f7f\"> 103 </span>│ net.blocks.8.activation     │ LeakyReLU         │      0 │\n",
       "│<span style=\"color: #7f7f7f; text-decoration-color: #7f7f7f\"> 104 </span>│ net.blocks.8.conv1          │ PeriodicConv2D    │  147 K │\n",
       "│<span style=\"color: #7f7f7f; text-decoration-color: #7f7f7f\"> 105 </span>│ net.blocks.8.conv1.padding  │ PeriodicPadding2D │      0 │\n",
       "│<span style=\"color: #7f7f7f; text-decoration-color: #7f7f7f\"> 106 </span>│ net.blocks.8.conv1.conv     │ Conv2d            │  147 K │\n",
       "│<span style=\"color: #7f7f7f; text-decoration-color: #7f7f7f\"> 107 </span>│ net.blocks.8.conv2          │ PeriodicConv2D    │  147 K │\n",
       "│<span style=\"color: #7f7f7f; text-decoration-color: #7f7f7f\"> 108 </span>│ net.blocks.8.conv2.padding  │ PeriodicPadding2D │      0 │\n",
       "│<span style=\"color: #7f7f7f; text-decoration-color: #7f7f7f\"> 109 </span>│ net.blocks.8.conv2.conv     │ Conv2d            │  147 K │\n",
       "│<span style=\"color: #7f7f7f; text-decoration-color: #7f7f7f\"> 110 </span>│ net.blocks.8.shortcut       │ Identity          │      0 │\n",
       "│<span style=\"color: #7f7f7f; text-decoration-color: #7f7f7f\"> 111 </span>│ net.blocks.8.norm1          │ BatchNorm2d       │    256 │\n",
       "│<span style=\"color: #7f7f7f; text-decoration-color: #7f7f7f\"> 112 </span>│ net.blocks.8.norm2          │ BatchNorm2d       │    256 │\n",
       "│<span style=\"color: #7f7f7f; text-decoration-color: #7f7f7f\"> 113 </span>│ net.blocks.8.drop           │ Dropout           │      0 │\n",
       "│<span style=\"color: #7f7f7f; text-decoration-color: #7f7f7f\"> 114 </span>│ net.blocks.9                │ ResidualBlock     │  295 K │\n",
       "│<span style=\"color: #7f7f7f; text-decoration-color: #7f7f7f\"> 115 </span>│ net.blocks.9.activation     │ LeakyReLU         │      0 │\n",
       "│<span style=\"color: #7f7f7f; text-decoration-color: #7f7f7f\"> 116 </span>│ net.blocks.9.conv1          │ PeriodicConv2D    │  147 K │\n",
       "│<span style=\"color: #7f7f7f; text-decoration-color: #7f7f7f\"> 117 </span>│ net.blocks.9.conv1.padding  │ PeriodicPadding2D │      0 │\n",
       "│<span style=\"color: #7f7f7f; text-decoration-color: #7f7f7f\"> 118 </span>│ net.blocks.9.conv1.conv     │ Conv2d            │  147 K │\n",
       "│<span style=\"color: #7f7f7f; text-decoration-color: #7f7f7f\"> 119 </span>│ net.blocks.9.conv2          │ PeriodicConv2D    │  147 K │\n",
       "│<span style=\"color: #7f7f7f; text-decoration-color: #7f7f7f\"> 120 </span>│ net.blocks.9.conv2.padding  │ PeriodicPadding2D │      0 │\n",
       "│<span style=\"color: #7f7f7f; text-decoration-color: #7f7f7f\"> 121 </span>│ net.blocks.9.conv2.conv     │ Conv2d            │  147 K │\n",
       "│<span style=\"color: #7f7f7f; text-decoration-color: #7f7f7f\"> 122 </span>│ net.blocks.9.shortcut       │ Identity          │      0 │\n",
       "│<span style=\"color: #7f7f7f; text-decoration-color: #7f7f7f\"> 123 </span>│ net.blocks.9.norm1          │ BatchNorm2d       │    256 │\n",
       "│<span style=\"color: #7f7f7f; text-decoration-color: #7f7f7f\"> 124 </span>│ net.blocks.9.norm2          │ BatchNorm2d       │    256 │\n",
       "│<span style=\"color: #7f7f7f; text-decoration-color: #7f7f7f\"> 125 </span>│ net.blocks.9.drop           │ Dropout           │      0 │\n",
       "│<span style=\"color: #7f7f7f; text-decoration-color: #7f7f7f\"> 126 </span>│ net.blocks.10               │ ResidualBlock     │  295 K │\n",
       "│<span style=\"color: #7f7f7f; text-decoration-color: #7f7f7f\"> 127 </span>│ net.blocks.10.activation    │ LeakyReLU         │      0 │\n",
       "│<span style=\"color: #7f7f7f; text-decoration-color: #7f7f7f\"> 128 </span>│ net.blocks.10.conv1         │ PeriodicConv2D    │  147 K │\n",
       "│<span style=\"color: #7f7f7f; text-decoration-color: #7f7f7f\"> 129 </span>│ net.blocks.10.conv1.padding │ PeriodicPadding2D │      0 │\n",
       "│<span style=\"color: #7f7f7f; text-decoration-color: #7f7f7f\"> 130 </span>│ net.blocks.10.conv1.conv    │ Conv2d            │  147 K │\n",
       "│<span style=\"color: #7f7f7f; text-decoration-color: #7f7f7f\"> 131 </span>│ net.blocks.10.conv2         │ PeriodicConv2D    │  147 K │\n",
       "│<span style=\"color: #7f7f7f; text-decoration-color: #7f7f7f\"> 132 </span>│ net.blocks.10.conv2.padding │ PeriodicPadding2D │      0 │\n",
       "│<span style=\"color: #7f7f7f; text-decoration-color: #7f7f7f\"> 133 </span>│ net.blocks.10.conv2.conv    │ Conv2d            │  147 K │\n",
       "│<span style=\"color: #7f7f7f; text-decoration-color: #7f7f7f\"> 134 </span>│ net.blocks.10.shortcut      │ Identity          │      0 │\n",
       "│<span style=\"color: #7f7f7f; text-decoration-color: #7f7f7f\"> 135 </span>│ net.blocks.10.norm1         │ BatchNorm2d       │    256 │\n",
       "│<span style=\"color: #7f7f7f; text-decoration-color: #7f7f7f\"> 136 </span>│ net.blocks.10.norm2         │ BatchNorm2d       │    256 │\n",
       "│<span style=\"color: #7f7f7f; text-decoration-color: #7f7f7f\"> 137 </span>│ net.blocks.10.drop          │ Dropout           │      0 │\n",
       "│<span style=\"color: #7f7f7f; text-decoration-color: #7f7f7f\"> 138 </span>│ net.blocks.11               │ ResidualBlock     │  295 K │\n",
       "│<span style=\"color: #7f7f7f; text-decoration-color: #7f7f7f\"> 139 </span>│ net.blocks.11.activation    │ LeakyReLU         │      0 │\n",
       "│<span style=\"color: #7f7f7f; text-decoration-color: #7f7f7f\"> 140 </span>│ net.blocks.11.conv1         │ PeriodicConv2D    │  147 K │\n",
       "│<span style=\"color: #7f7f7f; text-decoration-color: #7f7f7f\"> 141 </span>│ net.blocks.11.conv1.padding │ PeriodicPadding2D │      0 │\n",
       "│<span style=\"color: #7f7f7f; text-decoration-color: #7f7f7f\"> 142 </span>│ net.blocks.11.conv1.conv    │ Conv2d            │  147 K │\n",
       "│<span style=\"color: #7f7f7f; text-decoration-color: #7f7f7f\"> 143 </span>│ net.blocks.11.conv2         │ PeriodicConv2D    │  147 K │\n",
       "│<span style=\"color: #7f7f7f; text-decoration-color: #7f7f7f\"> 144 </span>│ net.blocks.11.conv2.padding │ PeriodicPadding2D │      0 │\n",
       "│<span style=\"color: #7f7f7f; text-decoration-color: #7f7f7f\"> 145 </span>│ net.blocks.11.conv2.conv    │ Conv2d            │  147 K │\n",
       "│<span style=\"color: #7f7f7f; text-decoration-color: #7f7f7f\"> 146 </span>│ net.blocks.11.shortcut      │ Identity          │      0 │\n",
       "│<span style=\"color: #7f7f7f; text-decoration-color: #7f7f7f\"> 147 </span>│ net.blocks.11.norm1         │ BatchNorm2d       │    256 │\n",
       "│<span style=\"color: #7f7f7f; text-decoration-color: #7f7f7f\"> 148 </span>│ net.blocks.11.norm2         │ BatchNorm2d       │    256 │\n",
       "│<span style=\"color: #7f7f7f; text-decoration-color: #7f7f7f\"> 149 </span>│ net.blocks.11.drop          │ Dropout           │      0 │\n",
       "│<span style=\"color: #7f7f7f; text-decoration-color: #7f7f7f\"> 150 </span>│ net.blocks.12               │ ResidualBlock     │  295 K │\n",
       "│<span style=\"color: #7f7f7f; text-decoration-color: #7f7f7f\"> 151 </span>│ net.blocks.12.activation    │ LeakyReLU         │      0 │\n",
       "│<span style=\"color: #7f7f7f; text-decoration-color: #7f7f7f\"> 152 </span>│ net.blocks.12.conv1         │ PeriodicConv2D    │  147 K │\n",
       "│<span style=\"color: #7f7f7f; text-decoration-color: #7f7f7f\"> 153 </span>│ net.blocks.12.conv1.padding │ PeriodicPadding2D │      0 │\n",
       "│<span style=\"color: #7f7f7f; text-decoration-color: #7f7f7f\"> 154 </span>│ net.blocks.12.conv1.conv    │ Conv2d            │  147 K │\n",
       "│<span style=\"color: #7f7f7f; text-decoration-color: #7f7f7f\"> 155 </span>│ net.blocks.12.conv2         │ PeriodicConv2D    │  147 K │\n",
       "│<span style=\"color: #7f7f7f; text-decoration-color: #7f7f7f\"> 156 </span>│ net.blocks.12.conv2.padding │ PeriodicPadding2D │      0 │\n",
       "│<span style=\"color: #7f7f7f; text-decoration-color: #7f7f7f\"> 157 </span>│ net.blocks.12.conv2.conv    │ Conv2d            │  147 K │\n",
       "│<span style=\"color: #7f7f7f; text-decoration-color: #7f7f7f\"> 158 </span>│ net.blocks.12.shortcut      │ Identity          │      0 │\n",
       "│<span style=\"color: #7f7f7f; text-decoration-color: #7f7f7f\"> 159 </span>│ net.blocks.12.norm1         │ BatchNorm2d       │    256 │\n",
       "│<span style=\"color: #7f7f7f; text-decoration-color: #7f7f7f\"> 160 </span>│ net.blocks.12.norm2         │ BatchNorm2d       │    256 │\n",
       "│<span style=\"color: #7f7f7f; text-decoration-color: #7f7f7f\"> 161 </span>│ net.blocks.12.drop          │ Dropout           │      0 │\n",
       "│<span style=\"color: #7f7f7f; text-decoration-color: #7f7f7f\"> 162 </span>│ net.blocks.13               │ ResidualBlock     │  295 K │\n",
       "│<span style=\"color: #7f7f7f; text-decoration-color: #7f7f7f\"> 163 </span>│ net.blocks.13.activation    │ LeakyReLU         │      0 │\n",
       "│<span style=\"color: #7f7f7f; text-decoration-color: #7f7f7f\"> 164 </span>│ net.blocks.13.conv1         │ PeriodicConv2D    │  147 K │\n",
       "│<span style=\"color: #7f7f7f; text-decoration-color: #7f7f7f\"> 165 </span>│ net.blocks.13.conv1.padding │ PeriodicPadding2D │      0 │\n",
       "│<span style=\"color: #7f7f7f; text-decoration-color: #7f7f7f\"> 166 </span>│ net.blocks.13.conv1.conv    │ Conv2d            │  147 K │\n",
       "│<span style=\"color: #7f7f7f; text-decoration-color: #7f7f7f\"> 167 </span>│ net.blocks.13.conv2         │ PeriodicConv2D    │  147 K │\n",
       "│<span style=\"color: #7f7f7f; text-decoration-color: #7f7f7f\"> 168 </span>│ net.blocks.13.conv2.padding │ PeriodicPadding2D │      0 │\n",
       "│<span style=\"color: #7f7f7f; text-decoration-color: #7f7f7f\"> 169 </span>│ net.blocks.13.conv2.conv    │ Conv2d            │  147 K │\n",
       "│<span style=\"color: #7f7f7f; text-decoration-color: #7f7f7f\"> 170 </span>│ net.blocks.13.shortcut      │ Identity          │      0 │\n",
       "│<span style=\"color: #7f7f7f; text-decoration-color: #7f7f7f\"> 171 </span>│ net.blocks.13.norm1         │ BatchNorm2d       │    256 │\n",
       "│<span style=\"color: #7f7f7f; text-decoration-color: #7f7f7f\"> 172 </span>│ net.blocks.13.norm2         │ BatchNorm2d       │    256 │\n",
       "│<span style=\"color: #7f7f7f; text-decoration-color: #7f7f7f\"> 173 </span>│ net.blocks.13.drop          │ Dropout           │      0 │\n",
       "│<span style=\"color: #7f7f7f; text-decoration-color: #7f7f7f\"> 174 </span>│ net.blocks.14               │ ResidualBlock     │  295 K │\n",
       "│<span style=\"color: #7f7f7f; text-decoration-color: #7f7f7f\"> 175 </span>│ net.blocks.14.activation    │ LeakyReLU         │      0 │\n",
       "│<span style=\"color: #7f7f7f; text-decoration-color: #7f7f7f\"> 176 </span>│ net.blocks.14.conv1         │ PeriodicConv2D    │  147 K │\n",
       "│<span style=\"color: #7f7f7f; text-decoration-color: #7f7f7f\"> 177 </span>│ net.blocks.14.conv1.padding │ PeriodicPadding2D │      0 │\n",
       "│<span style=\"color: #7f7f7f; text-decoration-color: #7f7f7f\"> 178 </span>│ net.blocks.14.conv1.conv    │ Conv2d            │  147 K │\n",
       "│<span style=\"color: #7f7f7f; text-decoration-color: #7f7f7f\"> 179 </span>│ net.blocks.14.conv2         │ PeriodicConv2D    │  147 K │\n",
       "│<span style=\"color: #7f7f7f; text-decoration-color: #7f7f7f\"> 180 </span>│ net.blocks.14.conv2.padding │ PeriodicPadding2D │      0 │\n",
       "│<span style=\"color: #7f7f7f; text-decoration-color: #7f7f7f\"> 181 </span>│ net.blocks.14.conv2.conv    │ Conv2d            │  147 K │\n",
       "│<span style=\"color: #7f7f7f; text-decoration-color: #7f7f7f\"> 182 </span>│ net.blocks.14.shortcut      │ Identity          │      0 │\n",
       "│<span style=\"color: #7f7f7f; text-decoration-color: #7f7f7f\"> 183 </span>│ net.blocks.14.norm1         │ BatchNorm2d       │    256 │\n",
       "│<span style=\"color: #7f7f7f; text-decoration-color: #7f7f7f\"> 184 </span>│ net.blocks.14.norm2         │ BatchNorm2d       │    256 │\n",
       "│<span style=\"color: #7f7f7f; text-decoration-color: #7f7f7f\"> 185 </span>│ net.blocks.14.drop          │ Dropout           │      0 │\n",
       "│<span style=\"color: #7f7f7f; text-decoration-color: #7f7f7f\"> 186 </span>│ net.blocks.15               │ ResidualBlock     │  295 K │\n",
       "│<span style=\"color: #7f7f7f; text-decoration-color: #7f7f7f\"> 187 </span>│ net.blocks.15.activation    │ LeakyReLU         │      0 │\n",
       "│<span style=\"color: #7f7f7f; text-decoration-color: #7f7f7f\"> 188 </span>│ net.blocks.15.conv1         │ PeriodicConv2D    │  147 K │\n",
       "│<span style=\"color: #7f7f7f; text-decoration-color: #7f7f7f\"> 189 </span>│ net.blocks.15.conv1.padding │ PeriodicPadding2D │      0 │\n",
       "│<span style=\"color: #7f7f7f; text-decoration-color: #7f7f7f\"> 190 </span>│ net.blocks.15.conv1.conv    │ Conv2d            │  147 K │\n",
       "│<span style=\"color: #7f7f7f; text-decoration-color: #7f7f7f\"> 191 </span>│ net.blocks.15.conv2         │ PeriodicConv2D    │  147 K │\n",
       "│<span style=\"color: #7f7f7f; text-decoration-color: #7f7f7f\"> 192 </span>│ net.blocks.15.conv2.padding │ PeriodicPadding2D │      0 │\n",
       "│<span style=\"color: #7f7f7f; text-decoration-color: #7f7f7f\"> 193 </span>│ net.blocks.15.conv2.conv    │ Conv2d            │  147 K │\n",
       "│<span style=\"color: #7f7f7f; text-decoration-color: #7f7f7f\"> 194 </span>│ net.blocks.15.shortcut      │ Identity          │      0 │\n",
       "│<span style=\"color: #7f7f7f; text-decoration-color: #7f7f7f\"> 195 </span>│ net.blocks.15.norm1         │ BatchNorm2d       │    256 │\n",
       "│<span style=\"color: #7f7f7f; text-decoration-color: #7f7f7f\"> 196 </span>│ net.blocks.15.norm2         │ BatchNorm2d       │    256 │\n",
       "│<span style=\"color: #7f7f7f; text-decoration-color: #7f7f7f\"> 197 </span>│ net.blocks.15.drop          │ Dropout           │      0 │\n",
       "│<span style=\"color: #7f7f7f; text-decoration-color: #7f7f7f\"> 198 </span>│ net.blocks.16               │ ResidualBlock     │  295 K │\n",
       "│<span style=\"color: #7f7f7f; text-decoration-color: #7f7f7f\"> 199 </span>│ net.blocks.16.activation    │ LeakyReLU         │      0 │\n",
       "│<span style=\"color: #7f7f7f; text-decoration-color: #7f7f7f\"> 200 </span>│ net.blocks.16.conv1         │ PeriodicConv2D    │  147 K │\n",
       "│<span style=\"color: #7f7f7f; text-decoration-color: #7f7f7f\"> 201 </span>│ net.blocks.16.conv1.padding │ PeriodicPadding2D │      0 │\n",
       "│<span style=\"color: #7f7f7f; text-decoration-color: #7f7f7f\"> 202 </span>│ net.blocks.16.conv1.conv    │ Conv2d            │  147 K │\n",
       "│<span style=\"color: #7f7f7f; text-decoration-color: #7f7f7f\"> 203 </span>│ net.blocks.16.conv2         │ PeriodicConv2D    │  147 K │\n",
       "│<span style=\"color: #7f7f7f; text-decoration-color: #7f7f7f\"> 204 </span>│ net.blocks.16.conv2.padding │ PeriodicPadding2D │      0 │\n",
       "│<span style=\"color: #7f7f7f; text-decoration-color: #7f7f7f\"> 205 </span>│ net.blocks.16.conv2.conv    │ Conv2d            │  147 K │\n",
       "│<span style=\"color: #7f7f7f; text-decoration-color: #7f7f7f\"> 206 </span>│ net.blocks.16.shortcut      │ Identity          │      0 │\n",
       "│<span style=\"color: #7f7f7f; text-decoration-color: #7f7f7f\"> 207 </span>│ net.blocks.16.norm1         │ BatchNorm2d       │    256 │\n",
       "│<span style=\"color: #7f7f7f; text-decoration-color: #7f7f7f\"> 208 </span>│ net.blocks.16.norm2         │ BatchNorm2d       │    256 │\n",
       "│<span style=\"color: #7f7f7f; text-decoration-color: #7f7f7f\"> 209 </span>│ net.blocks.16.drop          │ Dropout           │      0 │\n",
       "│<span style=\"color: #7f7f7f; text-decoration-color: #7f7f7f\"> 210 </span>│ net.blocks.17               │ ResidualBlock     │  295 K │\n",
       "│<span style=\"color: #7f7f7f; text-decoration-color: #7f7f7f\"> 211 </span>│ net.blocks.17.activation    │ LeakyReLU         │      0 │\n",
       "│<span style=\"color: #7f7f7f; text-decoration-color: #7f7f7f\"> 212 </span>│ net.blocks.17.conv1         │ PeriodicConv2D    │  147 K │\n",
       "│<span style=\"color: #7f7f7f; text-decoration-color: #7f7f7f\"> 213 </span>│ net.blocks.17.conv1.padding │ PeriodicPadding2D │      0 │\n",
       "│<span style=\"color: #7f7f7f; text-decoration-color: #7f7f7f\"> 214 </span>│ net.blocks.17.conv1.conv    │ Conv2d            │  147 K │\n",
       "│<span style=\"color: #7f7f7f; text-decoration-color: #7f7f7f\"> 215 </span>│ net.blocks.17.conv2         │ PeriodicConv2D    │  147 K │\n",
       "│<span style=\"color: #7f7f7f; text-decoration-color: #7f7f7f\"> 216 </span>│ net.blocks.17.conv2.padding │ PeriodicPadding2D │      0 │\n",
       "│<span style=\"color: #7f7f7f; text-decoration-color: #7f7f7f\"> 217 </span>│ net.blocks.17.conv2.conv    │ Conv2d            │  147 K │\n",
       "│<span style=\"color: #7f7f7f; text-decoration-color: #7f7f7f\"> 218 </span>│ net.blocks.17.shortcut      │ Identity          │      0 │\n",
       "│<span style=\"color: #7f7f7f; text-decoration-color: #7f7f7f\"> 219 </span>│ net.blocks.17.norm1         │ BatchNorm2d       │    256 │\n",
       "│<span style=\"color: #7f7f7f; text-decoration-color: #7f7f7f\"> 220 </span>│ net.blocks.17.norm2         │ BatchNorm2d       │    256 │\n",
       "│<span style=\"color: #7f7f7f; text-decoration-color: #7f7f7f\"> 221 </span>│ net.blocks.17.drop          │ Dropout           │      0 │\n",
       "│<span style=\"color: #7f7f7f; text-decoration-color: #7f7f7f\"> 222 </span>│ net.blocks.18               │ ResidualBlock     │  295 K │\n",
       "│<span style=\"color: #7f7f7f; text-decoration-color: #7f7f7f\"> 223 </span>│ net.blocks.18.activation    │ LeakyReLU         │      0 │\n",
       "│<span style=\"color: #7f7f7f; text-decoration-color: #7f7f7f\"> 224 </span>│ net.blocks.18.conv1         │ PeriodicConv2D    │  147 K │\n",
       "│<span style=\"color: #7f7f7f; text-decoration-color: #7f7f7f\"> 225 </span>│ net.blocks.18.conv1.padding │ PeriodicPadding2D │      0 │\n",
       "│<span style=\"color: #7f7f7f; text-decoration-color: #7f7f7f\"> 226 </span>│ net.blocks.18.conv1.conv    │ Conv2d            │  147 K │\n",
       "│<span style=\"color: #7f7f7f; text-decoration-color: #7f7f7f\"> 227 </span>│ net.blocks.18.conv2         │ PeriodicConv2D    │  147 K │\n",
       "│<span style=\"color: #7f7f7f; text-decoration-color: #7f7f7f\"> 228 </span>│ net.blocks.18.conv2.padding │ PeriodicPadding2D │      0 │\n",
       "│<span style=\"color: #7f7f7f; text-decoration-color: #7f7f7f\"> 229 </span>│ net.blocks.18.conv2.conv    │ Conv2d            │  147 K │\n",
       "│<span style=\"color: #7f7f7f; text-decoration-color: #7f7f7f\"> 230 </span>│ net.blocks.18.shortcut      │ Identity          │      0 │\n",
       "│<span style=\"color: #7f7f7f; text-decoration-color: #7f7f7f\"> 231 </span>│ net.blocks.18.norm1         │ BatchNorm2d       │    256 │\n",
       "│<span style=\"color: #7f7f7f; text-decoration-color: #7f7f7f\"> 232 </span>│ net.blocks.18.norm2         │ BatchNorm2d       │    256 │\n",
       "│<span style=\"color: #7f7f7f; text-decoration-color: #7f7f7f\"> 233 </span>│ net.blocks.18.drop          │ Dropout           │      0 │\n",
       "│<span style=\"color: #7f7f7f; text-decoration-color: #7f7f7f\"> 234 </span>│ net.norm                    │ BatchNorm2d       │    256 │\n",
       "│<span style=\"color: #7f7f7f; text-decoration-color: #7f7f7f\"> 235 </span>│ net.final                   │ PeriodicConv2D    │ 18.8 K │\n",
       "│<span style=\"color: #7f7f7f; text-decoration-color: #7f7f7f\"> 236 </span>│ net.final.padding           │ PeriodicPadding2D │      0 │\n",
       "│<span style=\"color: #7f7f7f; text-decoration-color: #7f7f7f\"> 237 </span>│ net.final.conv              │ Conv2d            │ 18.8 K │\n",
       "│<span style=\"color: #7f7f7f; text-decoration-color: #7f7f7f\"> 238 </span>│ denormalization             │ Normalize         │      0 │\n",
       "│<span style=\"color: #7f7f7f; text-decoration-color: #7f7f7f\"> 239 </span>│ mean_denormalize            │ Normalize         │      0 │\n",
       "│<span style=\"color: #7f7f7f; text-decoration-color: #7f7f7f\"> 240 </span>│ std_denormalize             │ Normalize         │      0 │\n",
       "└─────┴─────────────────────────────┴───────────────────┴────────┘\n",
       "</pre>\n"
      ],
      "text/plain": [
       "┏━━━━━┳━━━━━━━━━━━━━━━━━━━━━━━━━━━━━┳━━━━━━━━━━━━━━━━━━━┳━━━━━━━━┓\n",
       "┃\u001b[1;35m \u001b[0m\u001b[1;35m   \u001b[0m\u001b[1;35m \u001b[0m┃\u001b[1;35m \u001b[0m\u001b[1;35mName                       \u001b[0m\u001b[1;35m \u001b[0m┃\u001b[1;35m \u001b[0m\u001b[1;35mType             \u001b[0m\u001b[1;35m \u001b[0m┃\u001b[1;35m \u001b[0m\u001b[1;35mParams\u001b[0m\u001b[1;35m \u001b[0m┃\n",
       "┡━━━━━╇━━━━━━━━━━━━━━━━━━━━━━━━━━━━━╇━━━━━━━━━━━━━━━━━━━╇━━━━━━━━┩\n",
       "│\u001b[2m \u001b[0m\u001b[2m0  \u001b[0m\u001b[2m \u001b[0m│ net                         │ ResNet            │  5.7 M │\n",
       "│\u001b[2m \u001b[0m\u001b[2m1  \u001b[0m\u001b[2m \u001b[0m│ net.activation              │ LeakyReLU         │      0 │\n",
       "│\u001b[2m \u001b[0m\u001b[2m2  \u001b[0m\u001b[2m \u001b[0m│ net.image_proj              │ PeriodicConv2D    │ 18.9 K │\n",
       "│\u001b[2m \u001b[0m\u001b[2m3  \u001b[0m\u001b[2m \u001b[0m│ net.image_proj.padding      │ PeriodicPadding2D │      0 │\n",
       "│\u001b[2m \u001b[0m\u001b[2m4  \u001b[0m\u001b[2m \u001b[0m│ net.image_proj.conv         │ Conv2d            │ 18.9 K │\n",
       "│\u001b[2m \u001b[0m\u001b[2m5  \u001b[0m\u001b[2m \u001b[0m│ net.blocks                  │ ModuleList        │  5.6 M │\n",
       "│\u001b[2m \u001b[0m\u001b[2m6  \u001b[0m\u001b[2m \u001b[0m│ net.blocks.0                │ ResidualBlock     │  295 K │\n",
       "│\u001b[2m \u001b[0m\u001b[2m7  \u001b[0m\u001b[2m \u001b[0m│ net.blocks.0.activation     │ LeakyReLU         │      0 │\n",
       "│\u001b[2m \u001b[0m\u001b[2m8  \u001b[0m\u001b[2m \u001b[0m│ net.blocks.0.conv1          │ PeriodicConv2D    │  147 K │\n",
       "│\u001b[2m \u001b[0m\u001b[2m9  \u001b[0m\u001b[2m \u001b[0m│ net.blocks.0.conv1.padding  │ PeriodicPadding2D │      0 │\n",
       "│\u001b[2m \u001b[0m\u001b[2m10 \u001b[0m\u001b[2m \u001b[0m│ net.blocks.0.conv1.conv     │ Conv2d            │  147 K │\n",
       "│\u001b[2m \u001b[0m\u001b[2m11 \u001b[0m\u001b[2m \u001b[0m│ net.blocks.0.conv2          │ PeriodicConv2D    │  147 K │\n",
       "│\u001b[2m \u001b[0m\u001b[2m12 \u001b[0m\u001b[2m \u001b[0m│ net.blocks.0.conv2.padding  │ PeriodicPadding2D │      0 │\n",
       "│\u001b[2m \u001b[0m\u001b[2m13 \u001b[0m\u001b[2m \u001b[0m│ net.blocks.0.conv2.conv     │ Conv2d            │  147 K │\n",
       "│\u001b[2m \u001b[0m\u001b[2m14 \u001b[0m\u001b[2m \u001b[0m│ net.blocks.0.shortcut       │ Identity          │      0 │\n",
       "│\u001b[2m \u001b[0m\u001b[2m15 \u001b[0m\u001b[2m \u001b[0m│ net.blocks.0.norm1          │ BatchNorm2d       │    256 │\n",
       "│\u001b[2m \u001b[0m\u001b[2m16 \u001b[0m\u001b[2m \u001b[0m│ net.blocks.0.norm2          │ BatchNorm2d       │    256 │\n",
       "│\u001b[2m \u001b[0m\u001b[2m17 \u001b[0m\u001b[2m \u001b[0m│ net.blocks.0.drop           │ Dropout           │      0 │\n",
       "│\u001b[2m \u001b[0m\u001b[2m18 \u001b[0m\u001b[2m \u001b[0m│ net.blocks.1                │ ResidualBlock     │  295 K │\n",
       "│\u001b[2m \u001b[0m\u001b[2m19 \u001b[0m\u001b[2m \u001b[0m│ net.blocks.1.activation     │ LeakyReLU         │      0 │\n",
       "│\u001b[2m \u001b[0m\u001b[2m20 \u001b[0m\u001b[2m \u001b[0m│ net.blocks.1.conv1          │ PeriodicConv2D    │  147 K │\n",
       "│\u001b[2m \u001b[0m\u001b[2m21 \u001b[0m\u001b[2m \u001b[0m│ net.blocks.1.conv1.padding  │ PeriodicPadding2D │      0 │\n",
       "│\u001b[2m \u001b[0m\u001b[2m22 \u001b[0m\u001b[2m \u001b[0m│ net.blocks.1.conv1.conv     │ Conv2d            │  147 K │\n",
       "│\u001b[2m \u001b[0m\u001b[2m23 \u001b[0m\u001b[2m \u001b[0m│ net.blocks.1.conv2          │ PeriodicConv2D    │  147 K │\n",
       "│\u001b[2m \u001b[0m\u001b[2m24 \u001b[0m\u001b[2m \u001b[0m│ net.blocks.1.conv2.padding  │ PeriodicPadding2D │      0 │\n",
       "│\u001b[2m \u001b[0m\u001b[2m25 \u001b[0m\u001b[2m \u001b[0m│ net.blocks.1.conv2.conv     │ Conv2d            │  147 K │\n",
       "│\u001b[2m \u001b[0m\u001b[2m26 \u001b[0m\u001b[2m \u001b[0m│ net.blocks.1.shortcut       │ Identity          │      0 │\n",
       "│\u001b[2m \u001b[0m\u001b[2m27 \u001b[0m\u001b[2m \u001b[0m│ net.blocks.1.norm1          │ BatchNorm2d       │    256 │\n",
       "│\u001b[2m \u001b[0m\u001b[2m28 \u001b[0m\u001b[2m \u001b[0m│ net.blocks.1.norm2          │ BatchNorm2d       │    256 │\n",
       "│\u001b[2m \u001b[0m\u001b[2m29 \u001b[0m\u001b[2m \u001b[0m│ net.blocks.1.drop           │ Dropout           │      0 │\n",
       "│\u001b[2m \u001b[0m\u001b[2m30 \u001b[0m\u001b[2m \u001b[0m│ net.blocks.2                │ ResidualBlock     │  295 K │\n",
       "│\u001b[2m \u001b[0m\u001b[2m31 \u001b[0m\u001b[2m \u001b[0m│ net.blocks.2.activation     │ LeakyReLU         │      0 │\n",
       "│\u001b[2m \u001b[0m\u001b[2m32 \u001b[0m\u001b[2m \u001b[0m│ net.blocks.2.conv1          │ PeriodicConv2D    │  147 K │\n",
       "│\u001b[2m \u001b[0m\u001b[2m33 \u001b[0m\u001b[2m \u001b[0m│ net.blocks.2.conv1.padding  │ PeriodicPadding2D │      0 │\n",
       "│\u001b[2m \u001b[0m\u001b[2m34 \u001b[0m\u001b[2m \u001b[0m│ net.blocks.2.conv1.conv     │ Conv2d            │  147 K │\n",
       "│\u001b[2m \u001b[0m\u001b[2m35 \u001b[0m\u001b[2m \u001b[0m│ net.blocks.2.conv2          │ PeriodicConv2D    │  147 K │\n",
       "│\u001b[2m \u001b[0m\u001b[2m36 \u001b[0m\u001b[2m \u001b[0m│ net.blocks.2.conv2.padding  │ PeriodicPadding2D │      0 │\n",
       "│\u001b[2m \u001b[0m\u001b[2m37 \u001b[0m\u001b[2m \u001b[0m│ net.blocks.2.conv2.conv     │ Conv2d            │  147 K │\n",
       "│\u001b[2m \u001b[0m\u001b[2m38 \u001b[0m\u001b[2m \u001b[0m│ net.blocks.2.shortcut       │ Identity          │      0 │\n",
       "│\u001b[2m \u001b[0m\u001b[2m39 \u001b[0m\u001b[2m \u001b[0m│ net.blocks.2.norm1          │ BatchNorm2d       │    256 │\n",
       "│\u001b[2m \u001b[0m\u001b[2m40 \u001b[0m\u001b[2m \u001b[0m│ net.blocks.2.norm2          │ BatchNorm2d       │    256 │\n",
       "│\u001b[2m \u001b[0m\u001b[2m41 \u001b[0m\u001b[2m \u001b[0m│ net.blocks.2.drop           │ Dropout           │      0 │\n",
       "│\u001b[2m \u001b[0m\u001b[2m42 \u001b[0m\u001b[2m \u001b[0m│ net.blocks.3                │ ResidualBlock     │  295 K │\n",
       "│\u001b[2m \u001b[0m\u001b[2m43 \u001b[0m\u001b[2m \u001b[0m│ net.blocks.3.activation     │ LeakyReLU         │      0 │\n",
       "│\u001b[2m \u001b[0m\u001b[2m44 \u001b[0m\u001b[2m \u001b[0m│ net.blocks.3.conv1          │ PeriodicConv2D    │  147 K │\n",
       "│\u001b[2m \u001b[0m\u001b[2m45 \u001b[0m\u001b[2m \u001b[0m│ net.blocks.3.conv1.padding  │ PeriodicPadding2D │      0 │\n",
       "│\u001b[2m \u001b[0m\u001b[2m46 \u001b[0m\u001b[2m \u001b[0m│ net.blocks.3.conv1.conv     │ Conv2d            │  147 K │\n",
       "│\u001b[2m \u001b[0m\u001b[2m47 \u001b[0m\u001b[2m \u001b[0m│ net.blocks.3.conv2          │ PeriodicConv2D    │  147 K │\n",
       "│\u001b[2m \u001b[0m\u001b[2m48 \u001b[0m\u001b[2m \u001b[0m│ net.blocks.3.conv2.padding  │ PeriodicPadding2D │      0 │\n",
       "│\u001b[2m \u001b[0m\u001b[2m49 \u001b[0m\u001b[2m \u001b[0m│ net.blocks.3.conv2.conv     │ Conv2d            │  147 K │\n",
       "│\u001b[2m \u001b[0m\u001b[2m50 \u001b[0m\u001b[2m \u001b[0m│ net.blocks.3.shortcut       │ Identity          │      0 │\n",
       "│\u001b[2m \u001b[0m\u001b[2m51 \u001b[0m\u001b[2m \u001b[0m│ net.blocks.3.norm1          │ BatchNorm2d       │    256 │\n",
       "│\u001b[2m \u001b[0m\u001b[2m52 \u001b[0m\u001b[2m \u001b[0m│ net.blocks.3.norm2          │ BatchNorm2d       │    256 │\n",
       "│\u001b[2m \u001b[0m\u001b[2m53 \u001b[0m\u001b[2m \u001b[0m│ net.blocks.3.drop           │ Dropout           │      0 │\n",
       "│\u001b[2m \u001b[0m\u001b[2m54 \u001b[0m\u001b[2m \u001b[0m│ net.blocks.4                │ ResidualBlock     │  295 K │\n",
       "│\u001b[2m \u001b[0m\u001b[2m55 \u001b[0m\u001b[2m \u001b[0m│ net.blocks.4.activation     │ LeakyReLU         │      0 │\n",
       "│\u001b[2m \u001b[0m\u001b[2m56 \u001b[0m\u001b[2m \u001b[0m│ net.blocks.4.conv1          │ PeriodicConv2D    │  147 K │\n",
       "│\u001b[2m \u001b[0m\u001b[2m57 \u001b[0m\u001b[2m \u001b[0m│ net.blocks.4.conv1.padding  │ PeriodicPadding2D │      0 │\n",
       "│\u001b[2m \u001b[0m\u001b[2m58 \u001b[0m\u001b[2m \u001b[0m│ net.blocks.4.conv1.conv     │ Conv2d            │  147 K │\n",
       "│\u001b[2m \u001b[0m\u001b[2m59 \u001b[0m\u001b[2m \u001b[0m│ net.blocks.4.conv2          │ PeriodicConv2D    │  147 K │\n",
       "│\u001b[2m \u001b[0m\u001b[2m60 \u001b[0m\u001b[2m \u001b[0m│ net.blocks.4.conv2.padding  │ PeriodicPadding2D │      0 │\n",
       "│\u001b[2m \u001b[0m\u001b[2m61 \u001b[0m\u001b[2m \u001b[0m│ net.blocks.4.conv2.conv     │ Conv2d            │  147 K │\n",
       "│\u001b[2m \u001b[0m\u001b[2m62 \u001b[0m\u001b[2m \u001b[0m│ net.blocks.4.shortcut       │ Identity          │      0 │\n",
       "│\u001b[2m \u001b[0m\u001b[2m63 \u001b[0m\u001b[2m \u001b[0m│ net.blocks.4.norm1          │ BatchNorm2d       │    256 │\n",
       "│\u001b[2m \u001b[0m\u001b[2m64 \u001b[0m\u001b[2m \u001b[0m│ net.blocks.4.norm2          │ BatchNorm2d       │    256 │\n",
       "│\u001b[2m \u001b[0m\u001b[2m65 \u001b[0m\u001b[2m \u001b[0m│ net.blocks.4.drop           │ Dropout           │      0 │\n",
       "│\u001b[2m \u001b[0m\u001b[2m66 \u001b[0m\u001b[2m \u001b[0m│ net.blocks.5                │ ResidualBlock     │  295 K │\n",
       "│\u001b[2m \u001b[0m\u001b[2m67 \u001b[0m\u001b[2m \u001b[0m│ net.blocks.5.activation     │ LeakyReLU         │      0 │\n",
       "│\u001b[2m \u001b[0m\u001b[2m68 \u001b[0m\u001b[2m \u001b[0m│ net.blocks.5.conv1          │ PeriodicConv2D    │  147 K │\n",
       "│\u001b[2m \u001b[0m\u001b[2m69 \u001b[0m\u001b[2m \u001b[0m│ net.blocks.5.conv1.padding  │ PeriodicPadding2D │      0 │\n",
       "│\u001b[2m \u001b[0m\u001b[2m70 \u001b[0m\u001b[2m \u001b[0m│ net.blocks.5.conv1.conv     │ Conv2d            │  147 K │\n",
       "│\u001b[2m \u001b[0m\u001b[2m71 \u001b[0m\u001b[2m \u001b[0m│ net.blocks.5.conv2          │ PeriodicConv2D    │  147 K │\n",
       "│\u001b[2m \u001b[0m\u001b[2m72 \u001b[0m\u001b[2m \u001b[0m│ net.blocks.5.conv2.padding  │ PeriodicPadding2D │      0 │\n",
       "│\u001b[2m \u001b[0m\u001b[2m73 \u001b[0m\u001b[2m \u001b[0m│ net.blocks.5.conv2.conv     │ Conv2d            │  147 K │\n",
       "│\u001b[2m \u001b[0m\u001b[2m74 \u001b[0m\u001b[2m \u001b[0m│ net.blocks.5.shortcut       │ Identity          │      0 │\n",
       "│\u001b[2m \u001b[0m\u001b[2m75 \u001b[0m\u001b[2m \u001b[0m│ net.blocks.5.norm1          │ BatchNorm2d       │    256 │\n",
       "│\u001b[2m \u001b[0m\u001b[2m76 \u001b[0m\u001b[2m \u001b[0m│ net.blocks.5.norm2          │ BatchNorm2d       │    256 │\n",
       "│\u001b[2m \u001b[0m\u001b[2m77 \u001b[0m\u001b[2m \u001b[0m│ net.blocks.5.drop           │ Dropout           │      0 │\n",
       "│\u001b[2m \u001b[0m\u001b[2m78 \u001b[0m\u001b[2m \u001b[0m│ net.blocks.6                │ ResidualBlock     │  295 K │\n",
       "│\u001b[2m \u001b[0m\u001b[2m79 \u001b[0m\u001b[2m \u001b[0m│ net.blocks.6.activation     │ LeakyReLU         │      0 │\n",
       "│\u001b[2m \u001b[0m\u001b[2m80 \u001b[0m\u001b[2m \u001b[0m│ net.blocks.6.conv1          │ PeriodicConv2D    │  147 K │\n",
       "│\u001b[2m \u001b[0m\u001b[2m81 \u001b[0m\u001b[2m \u001b[0m│ net.blocks.6.conv1.padding  │ PeriodicPadding2D │      0 │\n",
       "│\u001b[2m \u001b[0m\u001b[2m82 \u001b[0m\u001b[2m \u001b[0m│ net.blocks.6.conv1.conv     │ Conv2d            │  147 K │\n",
       "│\u001b[2m \u001b[0m\u001b[2m83 \u001b[0m\u001b[2m \u001b[0m│ net.blocks.6.conv2          │ PeriodicConv2D    │  147 K │\n",
       "│\u001b[2m \u001b[0m\u001b[2m84 \u001b[0m\u001b[2m \u001b[0m│ net.blocks.6.conv2.padding  │ PeriodicPadding2D │      0 │\n",
       "│\u001b[2m \u001b[0m\u001b[2m85 \u001b[0m\u001b[2m \u001b[0m│ net.blocks.6.conv2.conv     │ Conv2d            │  147 K │\n",
       "│\u001b[2m \u001b[0m\u001b[2m86 \u001b[0m\u001b[2m \u001b[0m│ net.blocks.6.shortcut       │ Identity          │      0 │\n",
       "│\u001b[2m \u001b[0m\u001b[2m87 \u001b[0m\u001b[2m \u001b[0m│ net.blocks.6.norm1          │ BatchNorm2d       │    256 │\n",
       "│\u001b[2m \u001b[0m\u001b[2m88 \u001b[0m\u001b[2m \u001b[0m│ net.blocks.6.norm2          │ BatchNorm2d       │    256 │\n",
       "│\u001b[2m \u001b[0m\u001b[2m89 \u001b[0m\u001b[2m \u001b[0m│ net.blocks.6.drop           │ Dropout           │      0 │\n",
       "│\u001b[2m \u001b[0m\u001b[2m90 \u001b[0m\u001b[2m \u001b[0m│ net.blocks.7                │ ResidualBlock     │  295 K │\n",
       "│\u001b[2m \u001b[0m\u001b[2m91 \u001b[0m\u001b[2m \u001b[0m│ net.blocks.7.activation     │ LeakyReLU         │      0 │\n",
       "│\u001b[2m \u001b[0m\u001b[2m92 \u001b[0m\u001b[2m \u001b[0m│ net.blocks.7.conv1          │ PeriodicConv2D    │  147 K │\n",
       "│\u001b[2m \u001b[0m\u001b[2m93 \u001b[0m\u001b[2m \u001b[0m│ net.blocks.7.conv1.padding  │ PeriodicPadding2D │      0 │\n",
       "│\u001b[2m \u001b[0m\u001b[2m94 \u001b[0m\u001b[2m \u001b[0m│ net.blocks.7.conv1.conv     │ Conv2d            │  147 K │\n",
       "│\u001b[2m \u001b[0m\u001b[2m95 \u001b[0m\u001b[2m \u001b[0m│ net.blocks.7.conv2          │ PeriodicConv2D    │  147 K │\n",
       "│\u001b[2m \u001b[0m\u001b[2m96 \u001b[0m\u001b[2m \u001b[0m│ net.blocks.7.conv2.padding  │ PeriodicPadding2D │      0 │\n",
       "│\u001b[2m \u001b[0m\u001b[2m97 \u001b[0m\u001b[2m \u001b[0m│ net.blocks.7.conv2.conv     │ Conv2d            │  147 K │\n",
       "│\u001b[2m \u001b[0m\u001b[2m98 \u001b[0m\u001b[2m \u001b[0m│ net.blocks.7.shortcut       │ Identity          │      0 │\n",
       "│\u001b[2m \u001b[0m\u001b[2m99 \u001b[0m\u001b[2m \u001b[0m│ net.blocks.7.norm1          │ BatchNorm2d       │    256 │\n",
       "│\u001b[2m \u001b[0m\u001b[2m100\u001b[0m\u001b[2m \u001b[0m│ net.blocks.7.norm2          │ BatchNorm2d       │    256 │\n",
       "│\u001b[2m \u001b[0m\u001b[2m101\u001b[0m\u001b[2m \u001b[0m│ net.blocks.7.drop           │ Dropout           │      0 │\n",
       "│\u001b[2m \u001b[0m\u001b[2m102\u001b[0m\u001b[2m \u001b[0m│ net.blocks.8                │ ResidualBlock     │  295 K │\n",
       "│\u001b[2m \u001b[0m\u001b[2m103\u001b[0m\u001b[2m \u001b[0m│ net.blocks.8.activation     │ LeakyReLU         │      0 │\n",
       "│\u001b[2m \u001b[0m\u001b[2m104\u001b[0m\u001b[2m \u001b[0m│ net.blocks.8.conv1          │ PeriodicConv2D    │  147 K │\n",
       "│\u001b[2m \u001b[0m\u001b[2m105\u001b[0m\u001b[2m \u001b[0m│ net.blocks.8.conv1.padding  │ PeriodicPadding2D │      0 │\n",
       "│\u001b[2m \u001b[0m\u001b[2m106\u001b[0m\u001b[2m \u001b[0m│ net.blocks.8.conv1.conv     │ Conv2d            │  147 K │\n",
       "│\u001b[2m \u001b[0m\u001b[2m107\u001b[0m\u001b[2m \u001b[0m│ net.blocks.8.conv2          │ PeriodicConv2D    │  147 K │\n",
       "│\u001b[2m \u001b[0m\u001b[2m108\u001b[0m\u001b[2m \u001b[0m│ net.blocks.8.conv2.padding  │ PeriodicPadding2D │      0 │\n",
       "│\u001b[2m \u001b[0m\u001b[2m109\u001b[0m\u001b[2m \u001b[0m│ net.blocks.8.conv2.conv     │ Conv2d            │  147 K │\n",
       "│\u001b[2m \u001b[0m\u001b[2m110\u001b[0m\u001b[2m \u001b[0m│ net.blocks.8.shortcut       │ Identity          │      0 │\n",
       "│\u001b[2m \u001b[0m\u001b[2m111\u001b[0m\u001b[2m \u001b[0m│ net.blocks.8.norm1          │ BatchNorm2d       │    256 │\n",
       "│\u001b[2m \u001b[0m\u001b[2m112\u001b[0m\u001b[2m \u001b[0m│ net.blocks.8.norm2          │ BatchNorm2d       │    256 │\n",
       "│\u001b[2m \u001b[0m\u001b[2m113\u001b[0m\u001b[2m \u001b[0m│ net.blocks.8.drop           │ Dropout           │      0 │\n",
       "│\u001b[2m \u001b[0m\u001b[2m114\u001b[0m\u001b[2m \u001b[0m│ net.blocks.9                │ ResidualBlock     │  295 K │\n",
       "│\u001b[2m \u001b[0m\u001b[2m115\u001b[0m\u001b[2m \u001b[0m│ net.blocks.9.activation     │ LeakyReLU         │      0 │\n",
       "│\u001b[2m \u001b[0m\u001b[2m116\u001b[0m\u001b[2m \u001b[0m│ net.blocks.9.conv1          │ PeriodicConv2D    │  147 K │\n",
       "│\u001b[2m \u001b[0m\u001b[2m117\u001b[0m\u001b[2m \u001b[0m│ net.blocks.9.conv1.padding  │ PeriodicPadding2D │      0 │\n",
       "│\u001b[2m \u001b[0m\u001b[2m118\u001b[0m\u001b[2m \u001b[0m│ net.blocks.9.conv1.conv     │ Conv2d            │  147 K │\n",
       "│\u001b[2m \u001b[0m\u001b[2m119\u001b[0m\u001b[2m \u001b[0m│ net.blocks.9.conv2          │ PeriodicConv2D    │  147 K │\n",
       "│\u001b[2m \u001b[0m\u001b[2m120\u001b[0m\u001b[2m \u001b[0m│ net.blocks.9.conv2.padding  │ PeriodicPadding2D │      0 │\n",
       "│\u001b[2m \u001b[0m\u001b[2m121\u001b[0m\u001b[2m \u001b[0m│ net.blocks.9.conv2.conv     │ Conv2d            │  147 K │\n",
       "│\u001b[2m \u001b[0m\u001b[2m122\u001b[0m\u001b[2m \u001b[0m│ net.blocks.9.shortcut       │ Identity          │      0 │\n",
       "│\u001b[2m \u001b[0m\u001b[2m123\u001b[0m\u001b[2m \u001b[0m│ net.blocks.9.norm1          │ BatchNorm2d       │    256 │\n",
       "│\u001b[2m \u001b[0m\u001b[2m124\u001b[0m\u001b[2m \u001b[0m│ net.blocks.9.norm2          │ BatchNorm2d       │    256 │\n",
       "│\u001b[2m \u001b[0m\u001b[2m125\u001b[0m\u001b[2m \u001b[0m│ net.blocks.9.drop           │ Dropout           │      0 │\n",
       "│\u001b[2m \u001b[0m\u001b[2m126\u001b[0m\u001b[2m \u001b[0m│ net.blocks.10               │ ResidualBlock     │  295 K │\n",
       "│\u001b[2m \u001b[0m\u001b[2m127\u001b[0m\u001b[2m \u001b[0m│ net.blocks.10.activation    │ LeakyReLU         │      0 │\n",
       "│\u001b[2m \u001b[0m\u001b[2m128\u001b[0m\u001b[2m \u001b[0m│ net.blocks.10.conv1         │ PeriodicConv2D    │  147 K │\n",
       "│\u001b[2m \u001b[0m\u001b[2m129\u001b[0m\u001b[2m \u001b[0m│ net.blocks.10.conv1.padding │ PeriodicPadding2D │      0 │\n",
       "│\u001b[2m \u001b[0m\u001b[2m130\u001b[0m\u001b[2m \u001b[0m│ net.blocks.10.conv1.conv    │ Conv2d            │  147 K │\n",
       "│\u001b[2m \u001b[0m\u001b[2m131\u001b[0m\u001b[2m \u001b[0m│ net.blocks.10.conv2         │ PeriodicConv2D    │  147 K │\n",
       "│\u001b[2m \u001b[0m\u001b[2m132\u001b[0m\u001b[2m \u001b[0m│ net.blocks.10.conv2.padding │ PeriodicPadding2D │      0 │\n",
       "│\u001b[2m \u001b[0m\u001b[2m133\u001b[0m\u001b[2m \u001b[0m│ net.blocks.10.conv2.conv    │ Conv2d            │  147 K │\n",
       "│\u001b[2m \u001b[0m\u001b[2m134\u001b[0m\u001b[2m \u001b[0m│ net.blocks.10.shortcut      │ Identity          │      0 │\n",
       "│\u001b[2m \u001b[0m\u001b[2m135\u001b[0m\u001b[2m \u001b[0m│ net.blocks.10.norm1         │ BatchNorm2d       │    256 │\n",
       "│\u001b[2m \u001b[0m\u001b[2m136\u001b[0m\u001b[2m \u001b[0m│ net.blocks.10.norm2         │ BatchNorm2d       │    256 │\n",
       "│\u001b[2m \u001b[0m\u001b[2m137\u001b[0m\u001b[2m \u001b[0m│ net.blocks.10.drop          │ Dropout           │      0 │\n",
       "│\u001b[2m \u001b[0m\u001b[2m138\u001b[0m\u001b[2m \u001b[0m│ net.blocks.11               │ ResidualBlock     │  295 K │\n",
       "│\u001b[2m \u001b[0m\u001b[2m139\u001b[0m\u001b[2m \u001b[0m│ net.blocks.11.activation    │ LeakyReLU         │      0 │\n",
       "│\u001b[2m \u001b[0m\u001b[2m140\u001b[0m\u001b[2m \u001b[0m│ net.blocks.11.conv1         │ PeriodicConv2D    │  147 K │\n",
       "│\u001b[2m \u001b[0m\u001b[2m141\u001b[0m\u001b[2m \u001b[0m│ net.blocks.11.conv1.padding │ PeriodicPadding2D │      0 │\n",
       "│\u001b[2m \u001b[0m\u001b[2m142\u001b[0m\u001b[2m \u001b[0m│ net.blocks.11.conv1.conv    │ Conv2d            │  147 K │\n",
       "│\u001b[2m \u001b[0m\u001b[2m143\u001b[0m\u001b[2m \u001b[0m│ net.blocks.11.conv2         │ PeriodicConv2D    │  147 K │\n",
       "│\u001b[2m \u001b[0m\u001b[2m144\u001b[0m\u001b[2m \u001b[0m│ net.blocks.11.conv2.padding │ PeriodicPadding2D │      0 │\n",
       "│\u001b[2m \u001b[0m\u001b[2m145\u001b[0m\u001b[2m \u001b[0m│ net.blocks.11.conv2.conv    │ Conv2d            │  147 K │\n",
       "│\u001b[2m \u001b[0m\u001b[2m146\u001b[0m\u001b[2m \u001b[0m│ net.blocks.11.shortcut      │ Identity          │      0 │\n",
       "│\u001b[2m \u001b[0m\u001b[2m147\u001b[0m\u001b[2m \u001b[0m│ net.blocks.11.norm1         │ BatchNorm2d       │    256 │\n",
       "│\u001b[2m \u001b[0m\u001b[2m148\u001b[0m\u001b[2m \u001b[0m│ net.blocks.11.norm2         │ BatchNorm2d       │    256 │\n",
       "│\u001b[2m \u001b[0m\u001b[2m149\u001b[0m\u001b[2m \u001b[0m│ net.blocks.11.drop          │ Dropout           │      0 │\n",
       "│\u001b[2m \u001b[0m\u001b[2m150\u001b[0m\u001b[2m \u001b[0m│ net.blocks.12               │ ResidualBlock     │  295 K │\n",
       "│\u001b[2m \u001b[0m\u001b[2m151\u001b[0m\u001b[2m \u001b[0m│ net.blocks.12.activation    │ LeakyReLU         │      0 │\n",
       "│\u001b[2m \u001b[0m\u001b[2m152\u001b[0m\u001b[2m \u001b[0m│ net.blocks.12.conv1         │ PeriodicConv2D    │  147 K │\n",
       "│\u001b[2m \u001b[0m\u001b[2m153\u001b[0m\u001b[2m \u001b[0m│ net.blocks.12.conv1.padding │ PeriodicPadding2D │      0 │\n",
       "│\u001b[2m \u001b[0m\u001b[2m154\u001b[0m\u001b[2m \u001b[0m│ net.blocks.12.conv1.conv    │ Conv2d            │  147 K │\n",
       "│\u001b[2m \u001b[0m\u001b[2m155\u001b[0m\u001b[2m \u001b[0m│ net.blocks.12.conv2         │ PeriodicConv2D    │  147 K │\n",
       "│\u001b[2m \u001b[0m\u001b[2m156\u001b[0m\u001b[2m \u001b[0m│ net.blocks.12.conv2.padding │ PeriodicPadding2D │      0 │\n",
       "│\u001b[2m \u001b[0m\u001b[2m157\u001b[0m\u001b[2m \u001b[0m│ net.blocks.12.conv2.conv    │ Conv2d            │  147 K │\n",
       "│\u001b[2m \u001b[0m\u001b[2m158\u001b[0m\u001b[2m \u001b[0m│ net.blocks.12.shortcut      │ Identity          │      0 │\n",
       "│\u001b[2m \u001b[0m\u001b[2m159\u001b[0m\u001b[2m \u001b[0m│ net.blocks.12.norm1         │ BatchNorm2d       │    256 │\n",
       "│\u001b[2m \u001b[0m\u001b[2m160\u001b[0m\u001b[2m \u001b[0m│ net.blocks.12.norm2         │ BatchNorm2d       │    256 │\n",
       "│\u001b[2m \u001b[0m\u001b[2m161\u001b[0m\u001b[2m \u001b[0m│ net.blocks.12.drop          │ Dropout           │      0 │\n",
       "│\u001b[2m \u001b[0m\u001b[2m162\u001b[0m\u001b[2m \u001b[0m│ net.blocks.13               │ ResidualBlock     │  295 K │\n",
       "│\u001b[2m \u001b[0m\u001b[2m163\u001b[0m\u001b[2m \u001b[0m│ net.blocks.13.activation    │ LeakyReLU         │      0 │\n",
       "│\u001b[2m \u001b[0m\u001b[2m164\u001b[0m\u001b[2m \u001b[0m│ net.blocks.13.conv1         │ PeriodicConv2D    │  147 K │\n",
       "│\u001b[2m \u001b[0m\u001b[2m165\u001b[0m\u001b[2m \u001b[0m│ net.blocks.13.conv1.padding │ PeriodicPadding2D │      0 │\n",
       "│\u001b[2m \u001b[0m\u001b[2m166\u001b[0m\u001b[2m \u001b[0m│ net.blocks.13.conv1.conv    │ Conv2d            │  147 K │\n",
       "│\u001b[2m \u001b[0m\u001b[2m167\u001b[0m\u001b[2m \u001b[0m│ net.blocks.13.conv2         │ PeriodicConv2D    │  147 K │\n",
       "│\u001b[2m \u001b[0m\u001b[2m168\u001b[0m\u001b[2m \u001b[0m│ net.blocks.13.conv2.padding │ PeriodicPadding2D │      0 │\n",
       "│\u001b[2m \u001b[0m\u001b[2m169\u001b[0m\u001b[2m \u001b[0m│ net.blocks.13.conv2.conv    │ Conv2d            │  147 K │\n",
       "│\u001b[2m \u001b[0m\u001b[2m170\u001b[0m\u001b[2m \u001b[0m│ net.blocks.13.shortcut      │ Identity          │      0 │\n",
       "│\u001b[2m \u001b[0m\u001b[2m171\u001b[0m\u001b[2m \u001b[0m│ net.blocks.13.norm1         │ BatchNorm2d       │    256 │\n",
       "│\u001b[2m \u001b[0m\u001b[2m172\u001b[0m\u001b[2m \u001b[0m│ net.blocks.13.norm2         │ BatchNorm2d       │    256 │\n",
       "│\u001b[2m \u001b[0m\u001b[2m173\u001b[0m\u001b[2m \u001b[0m│ net.blocks.13.drop          │ Dropout           │      0 │\n",
       "│\u001b[2m \u001b[0m\u001b[2m174\u001b[0m\u001b[2m \u001b[0m│ net.blocks.14               │ ResidualBlock     │  295 K │\n",
       "│\u001b[2m \u001b[0m\u001b[2m175\u001b[0m\u001b[2m \u001b[0m│ net.blocks.14.activation    │ LeakyReLU         │      0 │\n",
       "│\u001b[2m \u001b[0m\u001b[2m176\u001b[0m\u001b[2m \u001b[0m│ net.blocks.14.conv1         │ PeriodicConv2D    │  147 K │\n",
       "│\u001b[2m \u001b[0m\u001b[2m177\u001b[0m\u001b[2m \u001b[0m│ net.blocks.14.conv1.padding │ PeriodicPadding2D │      0 │\n",
       "│\u001b[2m \u001b[0m\u001b[2m178\u001b[0m\u001b[2m \u001b[0m│ net.blocks.14.conv1.conv    │ Conv2d            │  147 K │\n",
       "│\u001b[2m \u001b[0m\u001b[2m179\u001b[0m\u001b[2m \u001b[0m│ net.blocks.14.conv2         │ PeriodicConv2D    │  147 K │\n",
       "│\u001b[2m \u001b[0m\u001b[2m180\u001b[0m\u001b[2m \u001b[0m│ net.blocks.14.conv2.padding │ PeriodicPadding2D │      0 │\n",
       "│\u001b[2m \u001b[0m\u001b[2m181\u001b[0m\u001b[2m \u001b[0m│ net.blocks.14.conv2.conv    │ Conv2d            │  147 K │\n",
       "│\u001b[2m \u001b[0m\u001b[2m182\u001b[0m\u001b[2m \u001b[0m│ net.blocks.14.shortcut      │ Identity          │      0 │\n",
       "│\u001b[2m \u001b[0m\u001b[2m183\u001b[0m\u001b[2m \u001b[0m│ net.blocks.14.norm1         │ BatchNorm2d       │    256 │\n",
       "│\u001b[2m \u001b[0m\u001b[2m184\u001b[0m\u001b[2m \u001b[0m│ net.blocks.14.norm2         │ BatchNorm2d       │    256 │\n",
       "│\u001b[2m \u001b[0m\u001b[2m185\u001b[0m\u001b[2m \u001b[0m│ net.blocks.14.drop          │ Dropout           │      0 │\n",
       "│\u001b[2m \u001b[0m\u001b[2m186\u001b[0m\u001b[2m \u001b[0m│ net.blocks.15               │ ResidualBlock     │  295 K │\n",
       "│\u001b[2m \u001b[0m\u001b[2m187\u001b[0m\u001b[2m \u001b[0m│ net.blocks.15.activation    │ LeakyReLU         │      0 │\n",
       "│\u001b[2m \u001b[0m\u001b[2m188\u001b[0m\u001b[2m \u001b[0m│ net.blocks.15.conv1         │ PeriodicConv2D    │  147 K │\n",
       "│\u001b[2m \u001b[0m\u001b[2m189\u001b[0m\u001b[2m \u001b[0m│ net.blocks.15.conv1.padding │ PeriodicPadding2D │      0 │\n",
       "│\u001b[2m \u001b[0m\u001b[2m190\u001b[0m\u001b[2m \u001b[0m│ net.blocks.15.conv1.conv    │ Conv2d            │  147 K │\n",
       "│\u001b[2m \u001b[0m\u001b[2m191\u001b[0m\u001b[2m \u001b[0m│ net.blocks.15.conv2         │ PeriodicConv2D    │  147 K │\n",
       "│\u001b[2m \u001b[0m\u001b[2m192\u001b[0m\u001b[2m \u001b[0m│ net.blocks.15.conv2.padding │ PeriodicPadding2D │      0 │\n",
       "│\u001b[2m \u001b[0m\u001b[2m193\u001b[0m\u001b[2m \u001b[0m│ net.blocks.15.conv2.conv    │ Conv2d            │  147 K │\n",
       "│\u001b[2m \u001b[0m\u001b[2m194\u001b[0m\u001b[2m \u001b[0m│ net.blocks.15.shortcut      │ Identity          │      0 │\n",
       "│\u001b[2m \u001b[0m\u001b[2m195\u001b[0m\u001b[2m \u001b[0m│ net.blocks.15.norm1         │ BatchNorm2d       │    256 │\n",
       "│\u001b[2m \u001b[0m\u001b[2m196\u001b[0m\u001b[2m \u001b[0m│ net.blocks.15.norm2         │ BatchNorm2d       │    256 │\n",
       "│\u001b[2m \u001b[0m\u001b[2m197\u001b[0m\u001b[2m \u001b[0m│ net.blocks.15.drop          │ Dropout           │      0 │\n",
       "│\u001b[2m \u001b[0m\u001b[2m198\u001b[0m\u001b[2m \u001b[0m│ net.blocks.16               │ ResidualBlock     │  295 K │\n",
       "│\u001b[2m \u001b[0m\u001b[2m199\u001b[0m\u001b[2m \u001b[0m│ net.blocks.16.activation    │ LeakyReLU         │      0 │\n",
       "│\u001b[2m \u001b[0m\u001b[2m200\u001b[0m\u001b[2m \u001b[0m│ net.blocks.16.conv1         │ PeriodicConv2D    │  147 K │\n",
       "│\u001b[2m \u001b[0m\u001b[2m201\u001b[0m\u001b[2m \u001b[0m│ net.blocks.16.conv1.padding │ PeriodicPadding2D │      0 │\n",
       "│\u001b[2m \u001b[0m\u001b[2m202\u001b[0m\u001b[2m \u001b[0m│ net.blocks.16.conv1.conv    │ Conv2d            │  147 K │\n",
       "│\u001b[2m \u001b[0m\u001b[2m203\u001b[0m\u001b[2m \u001b[0m│ net.blocks.16.conv2         │ PeriodicConv2D    │  147 K │\n",
       "│\u001b[2m \u001b[0m\u001b[2m204\u001b[0m\u001b[2m \u001b[0m│ net.blocks.16.conv2.padding │ PeriodicPadding2D │      0 │\n",
       "│\u001b[2m \u001b[0m\u001b[2m205\u001b[0m\u001b[2m \u001b[0m│ net.blocks.16.conv2.conv    │ Conv2d            │  147 K │\n",
       "│\u001b[2m \u001b[0m\u001b[2m206\u001b[0m\u001b[2m \u001b[0m│ net.blocks.16.shortcut      │ Identity          │      0 │\n",
       "│\u001b[2m \u001b[0m\u001b[2m207\u001b[0m\u001b[2m \u001b[0m│ net.blocks.16.norm1         │ BatchNorm2d       │    256 │\n",
       "│\u001b[2m \u001b[0m\u001b[2m208\u001b[0m\u001b[2m \u001b[0m│ net.blocks.16.norm2         │ BatchNorm2d       │    256 │\n",
       "│\u001b[2m \u001b[0m\u001b[2m209\u001b[0m\u001b[2m \u001b[0m│ net.blocks.16.drop          │ Dropout           │      0 │\n",
       "│\u001b[2m \u001b[0m\u001b[2m210\u001b[0m\u001b[2m \u001b[0m│ net.blocks.17               │ ResidualBlock     │  295 K │\n",
       "│\u001b[2m \u001b[0m\u001b[2m211\u001b[0m\u001b[2m \u001b[0m│ net.blocks.17.activation    │ LeakyReLU         │      0 │\n",
       "│\u001b[2m \u001b[0m\u001b[2m212\u001b[0m\u001b[2m \u001b[0m│ net.blocks.17.conv1         │ PeriodicConv2D    │  147 K │\n",
       "│\u001b[2m \u001b[0m\u001b[2m213\u001b[0m\u001b[2m \u001b[0m│ net.blocks.17.conv1.padding │ PeriodicPadding2D │      0 │\n",
       "│\u001b[2m \u001b[0m\u001b[2m214\u001b[0m\u001b[2m \u001b[0m│ net.blocks.17.conv1.conv    │ Conv2d            │  147 K │\n",
       "│\u001b[2m \u001b[0m\u001b[2m215\u001b[0m\u001b[2m \u001b[0m│ net.blocks.17.conv2         │ PeriodicConv2D    │  147 K │\n",
       "│\u001b[2m \u001b[0m\u001b[2m216\u001b[0m\u001b[2m \u001b[0m│ net.blocks.17.conv2.padding │ PeriodicPadding2D │      0 │\n",
       "│\u001b[2m \u001b[0m\u001b[2m217\u001b[0m\u001b[2m \u001b[0m│ net.blocks.17.conv2.conv    │ Conv2d            │  147 K │\n",
       "│\u001b[2m \u001b[0m\u001b[2m218\u001b[0m\u001b[2m \u001b[0m│ net.blocks.17.shortcut      │ Identity          │      0 │\n",
       "│\u001b[2m \u001b[0m\u001b[2m219\u001b[0m\u001b[2m \u001b[0m│ net.blocks.17.norm1         │ BatchNorm2d       │    256 │\n",
       "│\u001b[2m \u001b[0m\u001b[2m220\u001b[0m\u001b[2m \u001b[0m│ net.blocks.17.norm2         │ BatchNorm2d       │    256 │\n",
       "│\u001b[2m \u001b[0m\u001b[2m221\u001b[0m\u001b[2m \u001b[0m│ net.blocks.17.drop          │ Dropout           │      0 │\n",
       "│\u001b[2m \u001b[0m\u001b[2m222\u001b[0m\u001b[2m \u001b[0m│ net.blocks.18               │ ResidualBlock     │  295 K │\n",
       "│\u001b[2m \u001b[0m\u001b[2m223\u001b[0m\u001b[2m \u001b[0m│ net.blocks.18.activation    │ LeakyReLU         │      0 │\n",
       "│\u001b[2m \u001b[0m\u001b[2m224\u001b[0m\u001b[2m \u001b[0m│ net.blocks.18.conv1         │ PeriodicConv2D    │  147 K │\n",
       "│\u001b[2m \u001b[0m\u001b[2m225\u001b[0m\u001b[2m \u001b[0m│ net.blocks.18.conv1.padding │ PeriodicPadding2D │      0 │\n",
       "│\u001b[2m \u001b[0m\u001b[2m226\u001b[0m\u001b[2m \u001b[0m│ net.blocks.18.conv1.conv    │ Conv2d            │  147 K │\n",
       "│\u001b[2m \u001b[0m\u001b[2m227\u001b[0m\u001b[2m \u001b[0m│ net.blocks.18.conv2         │ PeriodicConv2D    │  147 K │\n",
       "│\u001b[2m \u001b[0m\u001b[2m228\u001b[0m\u001b[2m \u001b[0m│ net.blocks.18.conv2.padding │ PeriodicPadding2D │      0 │\n",
       "│\u001b[2m \u001b[0m\u001b[2m229\u001b[0m\u001b[2m \u001b[0m│ net.blocks.18.conv2.conv    │ Conv2d            │  147 K │\n",
       "│\u001b[2m \u001b[0m\u001b[2m230\u001b[0m\u001b[2m \u001b[0m│ net.blocks.18.shortcut      │ Identity          │      0 │\n",
       "│\u001b[2m \u001b[0m\u001b[2m231\u001b[0m\u001b[2m \u001b[0m│ net.blocks.18.norm1         │ BatchNorm2d       │    256 │\n",
       "│\u001b[2m \u001b[0m\u001b[2m232\u001b[0m\u001b[2m \u001b[0m│ net.blocks.18.norm2         │ BatchNorm2d       │    256 │\n",
       "│\u001b[2m \u001b[0m\u001b[2m233\u001b[0m\u001b[2m \u001b[0m│ net.blocks.18.drop          │ Dropout           │      0 │\n",
       "│\u001b[2m \u001b[0m\u001b[2m234\u001b[0m\u001b[2m \u001b[0m│ net.norm                    │ BatchNorm2d       │    256 │\n",
       "│\u001b[2m \u001b[0m\u001b[2m235\u001b[0m\u001b[2m \u001b[0m│ net.final                   │ PeriodicConv2D    │ 18.8 K │\n",
       "│\u001b[2m \u001b[0m\u001b[2m236\u001b[0m\u001b[2m \u001b[0m│ net.final.padding           │ PeriodicPadding2D │      0 │\n",
       "│\u001b[2m \u001b[0m\u001b[2m237\u001b[0m\u001b[2m \u001b[0m│ net.final.conv              │ Conv2d            │ 18.8 K │\n",
       "│\u001b[2m \u001b[0m\u001b[2m238\u001b[0m\u001b[2m \u001b[0m│ denormalization             │ Normalize         │      0 │\n",
       "│\u001b[2m \u001b[0m\u001b[2m239\u001b[0m\u001b[2m \u001b[0m│ mean_denormalize            │ Normalize         │      0 │\n",
       "│\u001b[2m \u001b[0m\u001b[2m240\u001b[0m\u001b[2m \u001b[0m│ std_denormalize             │ Normalize         │      0 │\n",
       "└─────┴─────────────────────────────┴───────────────────┴────────┘\n"
      ]
     },
     "metadata": {},
     "output_type": "display_data"
    },
    {
     "data": {
      "text/html": [
       "<pre style=\"white-space:pre;overflow-x:auto;line-height:normal;font-family:Menlo,'DejaVu Sans Mono',consolas,'Courier New',monospace\"><span style=\"font-weight: bold\">Trainable params</span>: 5.7 M                                                                      \n",
       "<span style=\"font-weight: bold\">Non-trainable params</span>: 0                                                                      \n",
       "<span style=\"font-weight: bold\">Total params</span>: 5.7 M                                                                          \n",
       "<span style=\"font-weight: bold\">Total estimated model params size (MB)</span>: 11                                                   \n",
       "</pre>\n"
      ],
      "text/plain": [
       "\u001b[1mTrainable params\u001b[0m: 5.7 M                                                                      \n",
       "\u001b[1mNon-trainable params\u001b[0m: 0                                                                      \n",
       "\u001b[1mTotal params\u001b[0m: 5.7 M                                                                          \n",
       "\u001b[1mTotal estimated model params size (MB)\u001b[0m: 11                                                   \n"
      ]
     },
     "metadata": {},
     "output_type": "display_data"
    },
    {
     "data": {
      "application/vnd.jupyter.widget-view+json": {
       "model_id": "532112ed5ecc4138af997f0eb8435dd5",
       "version_major": 2,
       "version_minor": 0
      },
      "text/plain": [
       "Output()"
      ]
     },
     "metadata": {},
     "output_type": "display_data"
    },
    {
     "data": {
      "text/html": [
       "<pre style=\"white-space:pre;overflow-x:auto;line-height:normal;font-family:Menlo,'DejaVu Sans Mono',consolas,'Courier New',monospace\"></pre>\n"
      ],
      "text/plain": []
     },
     "metadata": {},
     "output_type": "display_data"
    },
    {
     "data": {
      "text/html": [
       "<pre style=\"white-space:pre;overflow-x:auto;line-height:normal;font-family:Menlo,'DejaVu Sans Mono',consolas,'Courier New',monospace\">\n",
       "</pre>\n"
      ],
      "text/plain": [
       "\n"
      ]
     },
     "metadata": {},
     "output_type": "display_data"
    }
   ],
   "source": [
    "cmip_trainer.fit(cmip_model_module, cmip6_data_module)"
   ]
  },
  {
   "cell_type": "code",
   "execution_count": 15,
   "id": "a3fc0f6e",
   "metadata": {},
   "outputs": [],
   "source": [
    "from climate_learn.models import fit_lin_reg_baseline"
   ]
  },
  {
   "cell_type": "code",
   "execution_count": 16,
   "id": "a7014efc",
   "metadata": {},
   "outputs": [],
   "source": [
    "fit_lin_reg_baseline(cmip_model_module, cmip6_data_module, reg_hparam=0.0)"
   ]
  },
  {
   "cell_type": "markdown",
   "id": "37a0d2b3",
   "metadata": {},
   "source": [
    "## Train on ERA5"
   ]
  },
  {
   "cell_type": "code",
   "execution_count": 17,
   "id": "8ecf2469",
   "metadata": {},
   "outputs": [],
   "source": [
    "era5_model_kwargs = {\n",
    "    \"in_channels\": len(era5_data_module.hparams.in_vars),\n",
    "    \"out_channels\": len(era5_data_module.hparams.out_vars),\n",
    "    \"n_blocks\": 19\n",
    "}\n",
    "\n",
    "optim_kwargs = {\n",
    "    \"lr\": 1e-4,\n",
    "    \"weight_decay\": 1e-5,\n",
    "    \"warmup_epochs\": era5_wepochs,\n",
    "    \"max_epochs\": 100,\n",
    "}\n",
    "\n",
    "era5_model_module = load_model(name = \"resnet\", task = \"forecasting\", model_kwargs = era5_model_kwargs, optim_kwargs = optim_kwargs)"
   ]
  },
  {
   "cell_type": "code",
   "execution_count": 18,
   "id": "f0ed8efb",
   "metadata": {},
   "outputs": [],
   "source": [
    "set_climatology(era5_model_module, era5_data_module)"
   ]
  },
  {
   "cell_type": "code",
   "execution_count": 19,
   "id": "d12f09b3",
   "metadata": {},
   "outputs": [],
   "source": [
    "era5_trainer = Trainer(\n",
    "    seed = 0,\n",
    "    accelerator = \"gpu\",\n",
    "    precision = 16,\n",
    "    max_epochs = 100,\n",
    "    # logger = WandbLogger(project = \"climate_tutorial\", name = \"forecast-vit\")\n",
    ")"
   ]
  },
  {
   "cell_type": "code",
   "execution_count": 23,
   "id": "4d467075",
   "metadata": {
    "scrolled": true
   },
   "outputs": [
    {
     "name": "stderr",
     "output_type": "stream",
     "text": [
      "/home/seongbin/miniconda3/envs/climate_pretrain/lib/python3.8/site-packages/pytorch_lightning/callbacks/model_checkpoint.py:611: UserWarning: Checkpoint directory /data0/ckpts/seongbin/data-cross-train/checkpoints exists and is not empty.\n",
      "  rank_zero_warn(f\"Checkpoint directory {dirpath} exists and is not empty.\")\n"
     ]
    },
    {
     "data": {
      "text/html": [
       "<pre style=\"white-space:pre;overflow-x:auto;line-height:normal;font-family:Menlo,'DejaVu Sans Mono',consolas,'Courier New',monospace\">┏━━━━━┳━━━━━━━━━━━━━━━━━━━━━━━━━━━━━┳━━━━━━━━━━━━━━━━━━━┳━━━━━━━━┓\n",
       "┃<span style=\"color: #800080; text-decoration-color: #800080; font-weight: bold\">     </span>┃<span style=\"color: #800080; text-decoration-color: #800080; font-weight: bold\"> Name                        </span>┃<span style=\"color: #800080; text-decoration-color: #800080; font-weight: bold\"> Type              </span>┃<span style=\"color: #800080; text-decoration-color: #800080; font-weight: bold\"> Params </span>┃\n",
       "┡━━━━━╇━━━━━━━━━━━━━━━━━━━━━━━━━━━━━╇━━━━━━━━━━━━━━━━━━━╇━━━━━━━━┩\n",
       "│<span style=\"color: #7f7f7f; text-decoration-color: #7f7f7f\"> 0   </span>│ net                         │ ResNet            │  5.7 M │\n",
       "│<span style=\"color: #7f7f7f; text-decoration-color: #7f7f7f\"> 1   </span>│ net.activation              │ LeakyReLU         │      0 │\n",
       "│<span style=\"color: #7f7f7f; text-decoration-color: #7f7f7f\"> 2   </span>│ net.image_proj              │ PeriodicConv2D    │ 18.9 K │\n",
       "│<span style=\"color: #7f7f7f; text-decoration-color: #7f7f7f\"> 3   </span>│ net.image_proj.padding      │ PeriodicPadding2D │      0 │\n",
       "│<span style=\"color: #7f7f7f; text-decoration-color: #7f7f7f\"> 4   </span>│ net.image_proj.conv         │ Conv2d            │ 18.9 K │\n",
       "│<span style=\"color: #7f7f7f; text-decoration-color: #7f7f7f\"> 5   </span>│ net.blocks                  │ ModuleList        │  5.6 M │\n",
       "│<span style=\"color: #7f7f7f; text-decoration-color: #7f7f7f\"> 6   </span>│ net.blocks.0                │ ResidualBlock     │  295 K │\n",
       "│<span style=\"color: #7f7f7f; text-decoration-color: #7f7f7f\"> 7   </span>│ net.blocks.0.activation     │ LeakyReLU         │      0 │\n",
       "│<span style=\"color: #7f7f7f; text-decoration-color: #7f7f7f\"> 8   </span>│ net.blocks.0.conv1          │ PeriodicConv2D    │  147 K │\n",
       "│<span style=\"color: #7f7f7f; text-decoration-color: #7f7f7f\"> 9   </span>│ net.blocks.0.conv1.padding  │ PeriodicPadding2D │      0 │\n",
       "│<span style=\"color: #7f7f7f; text-decoration-color: #7f7f7f\"> 10  </span>│ net.blocks.0.conv1.conv     │ Conv2d            │  147 K │\n",
       "│<span style=\"color: #7f7f7f; text-decoration-color: #7f7f7f\"> 11  </span>│ net.blocks.0.conv2          │ PeriodicConv2D    │  147 K │\n",
       "│<span style=\"color: #7f7f7f; text-decoration-color: #7f7f7f\"> 12  </span>│ net.blocks.0.conv2.padding  │ PeriodicPadding2D │      0 │\n",
       "│<span style=\"color: #7f7f7f; text-decoration-color: #7f7f7f\"> 13  </span>│ net.blocks.0.conv2.conv     │ Conv2d            │  147 K │\n",
       "│<span style=\"color: #7f7f7f; text-decoration-color: #7f7f7f\"> 14  </span>│ net.blocks.0.shortcut       │ Identity          │      0 │\n",
       "│<span style=\"color: #7f7f7f; text-decoration-color: #7f7f7f\"> 15  </span>│ net.blocks.0.norm1          │ BatchNorm2d       │    256 │\n",
       "│<span style=\"color: #7f7f7f; text-decoration-color: #7f7f7f\"> 16  </span>│ net.blocks.0.norm2          │ BatchNorm2d       │    256 │\n",
       "│<span style=\"color: #7f7f7f; text-decoration-color: #7f7f7f\"> 17  </span>│ net.blocks.0.drop           │ Dropout           │      0 │\n",
       "│<span style=\"color: #7f7f7f; text-decoration-color: #7f7f7f\"> 18  </span>│ net.blocks.1                │ ResidualBlock     │  295 K │\n",
       "│<span style=\"color: #7f7f7f; text-decoration-color: #7f7f7f\"> 19  </span>│ net.blocks.1.activation     │ LeakyReLU         │      0 │\n",
       "│<span style=\"color: #7f7f7f; text-decoration-color: #7f7f7f\"> 20  </span>│ net.blocks.1.conv1          │ PeriodicConv2D    │  147 K │\n",
       "│<span style=\"color: #7f7f7f; text-decoration-color: #7f7f7f\"> 21  </span>│ net.blocks.1.conv1.padding  │ PeriodicPadding2D │      0 │\n",
       "│<span style=\"color: #7f7f7f; text-decoration-color: #7f7f7f\"> 22  </span>│ net.blocks.1.conv1.conv     │ Conv2d            │  147 K │\n",
       "│<span style=\"color: #7f7f7f; text-decoration-color: #7f7f7f\"> 23  </span>│ net.blocks.1.conv2          │ PeriodicConv2D    │  147 K │\n",
       "│<span style=\"color: #7f7f7f; text-decoration-color: #7f7f7f\"> 24  </span>│ net.blocks.1.conv2.padding  │ PeriodicPadding2D │      0 │\n",
       "│<span style=\"color: #7f7f7f; text-decoration-color: #7f7f7f\"> 25  </span>│ net.blocks.1.conv2.conv     │ Conv2d            │  147 K │\n",
       "│<span style=\"color: #7f7f7f; text-decoration-color: #7f7f7f\"> 26  </span>│ net.blocks.1.shortcut       │ Identity          │      0 │\n",
       "│<span style=\"color: #7f7f7f; text-decoration-color: #7f7f7f\"> 27  </span>│ net.blocks.1.norm1          │ BatchNorm2d       │    256 │\n",
       "│<span style=\"color: #7f7f7f; text-decoration-color: #7f7f7f\"> 28  </span>│ net.blocks.1.norm2          │ BatchNorm2d       │    256 │\n",
       "│<span style=\"color: #7f7f7f; text-decoration-color: #7f7f7f\"> 29  </span>│ net.blocks.1.drop           │ Dropout           │      0 │\n",
       "│<span style=\"color: #7f7f7f; text-decoration-color: #7f7f7f\"> 30  </span>│ net.blocks.2                │ ResidualBlock     │  295 K │\n",
       "│<span style=\"color: #7f7f7f; text-decoration-color: #7f7f7f\"> 31  </span>│ net.blocks.2.activation     │ LeakyReLU         │      0 │\n",
       "│<span style=\"color: #7f7f7f; text-decoration-color: #7f7f7f\"> 32  </span>│ net.blocks.2.conv1          │ PeriodicConv2D    │  147 K │\n",
       "│<span style=\"color: #7f7f7f; text-decoration-color: #7f7f7f\"> 33  </span>│ net.blocks.2.conv1.padding  │ PeriodicPadding2D │      0 │\n",
       "│<span style=\"color: #7f7f7f; text-decoration-color: #7f7f7f\"> 34  </span>│ net.blocks.2.conv1.conv     │ Conv2d            │  147 K │\n",
       "│<span style=\"color: #7f7f7f; text-decoration-color: #7f7f7f\"> 35  </span>│ net.blocks.2.conv2          │ PeriodicConv2D    │  147 K │\n",
       "│<span style=\"color: #7f7f7f; text-decoration-color: #7f7f7f\"> 36  </span>│ net.blocks.2.conv2.padding  │ PeriodicPadding2D │      0 │\n",
       "│<span style=\"color: #7f7f7f; text-decoration-color: #7f7f7f\"> 37  </span>│ net.blocks.2.conv2.conv     │ Conv2d            │  147 K │\n",
       "│<span style=\"color: #7f7f7f; text-decoration-color: #7f7f7f\"> 38  </span>│ net.blocks.2.shortcut       │ Identity          │      0 │\n",
       "│<span style=\"color: #7f7f7f; text-decoration-color: #7f7f7f\"> 39  </span>│ net.blocks.2.norm1          │ BatchNorm2d       │    256 │\n",
       "│<span style=\"color: #7f7f7f; text-decoration-color: #7f7f7f\"> 40  </span>│ net.blocks.2.norm2          │ BatchNorm2d       │    256 │\n",
       "│<span style=\"color: #7f7f7f; text-decoration-color: #7f7f7f\"> 41  </span>│ net.blocks.2.drop           │ Dropout           │      0 │\n",
       "│<span style=\"color: #7f7f7f; text-decoration-color: #7f7f7f\"> 42  </span>│ net.blocks.3                │ ResidualBlock     │  295 K │\n",
       "│<span style=\"color: #7f7f7f; text-decoration-color: #7f7f7f\"> 43  </span>│ net.blocks.3.activation     │ LeakyReLU         │      0 │\n",
       "│<span style=\"color: #7f7f7f; text-decoration-color: #7f7f7f\"> 44  </span>│ net.blocks.3.conv1          │ PeriodicConv2D    │  147 K │\n",
       "│<span style=\"color: #7f7f7f; text-decoration-color: #7f7f7f\"> 45  </span>│ net.blocks.3.conv1.padding  │ PeriodicPadding2D │      0 │\n",
       "│<span style=\"color: #7f7f7f; text-decoration-color: #7f7f7f\"> 46  </span>│ net.blocks.3.conv1.conv     │ Conv2d            │  147 K │\n",
       "│<span style=\"color: #7f7f7f; text-decoration-color: #7f7f7f\"> 47  </span>│ net.blocks.3.conv2          │ PeriodicConv2D    │  147 K │\n",
       "│<span style=\"color: #7f7f7f; text-decoration-color: #7f7f7f\"> 48  </span>│ net.blocks.3.conv2.padding  │ PeriodicPadding2D │      0 │\n",
       "│<span style=\"color: #7f7f7f; text-decoration-color: #7f7f7f\"> 49  </span>│ net.blocks.3.conv2.conv     │ Conv2d            │  147 K │\n",
       "│<span style=\"color: #7f7f7f; text-decoration-color: #7f7f7f\"> 50  </span>│ net.blocks.3.shortcut       │ Identity          │      0 │\n",
       "│<span style=\"color: #7f7f7f; text-decoration-color: #7f7f7f\"> 51  </span>│ net.blocks.3.norm1          │ BatchNorm2d       │    256 │\n",
       "│<span style=\"color: #7f7f7f; text-decoration-color: #7f7f7f\"> 52  </span>│ net.blocks.3.norm2          │ BatchNorm2d       │    256 │\n",
       "│<span style=\"color: #7f7f7f; text-decoration-color: #7f7f7f\"> 53  </span>│ net.blocks.3.drop           │ Dropout           │      0 │\n",
       "│<span style=\"color: #7f7f7f; text-decoration-color: #7f7f7f\"> 54  </span>│ net.blocks.4                │ ResidualBlock     │  295 K │\n",
       "│<span style=\"color: #7f7f7f; text-decoration-color: #7f7f7f\"> 55  </span>│ net.blocks.4.activation     │ LeakyReLU         │      0 │\n",
       "│<span style=\"color: #7f7f7f; text-decoration-color: #7f7f7f\"> 56  </span>│ net.blocks.4.conv1          │ PeriodicConv2D    │  147 K │\n",
       "│<span style=\"color: #7f7f7f; text-decoration-color: #7f7f7f\"> 57  </span>│ net.blocks.4.conv1.padding  │ PeriodicPadding2D │      0 │\n",
       "│<span style=\"color: #7f7f7f; text-decoration-color: #7f7f7f\"> 58  </span>│ net.blocks.4.conv1.conv     │ Conv2d            │  147 K │\n",
       "│<span style=\"color: #7f7f7f; text-decoration-color: #7f7f7f\"> 59  </span>│ net.blocks.4.conv2          │ PeriodicConv2D    │  147 K │\n",
       "│<span style=\"color: #7f7f7f; text-decoration-color: #7f7f7f\"> 60  </span>│ net.blocks.4.conv2.padding  │ PeriodicPadding2D │      0 │\n",
       "│<span style=\"color: #7f7f7f; text-decoration-color: #7f7f7f\"> 61  </span>│ net.blocks.4.conv2.conv     │ Conv2d            │  147 K │\n",
       "│<span style=\"color: #7f7f7f; text-decoration-color: #7f7f7f\"> 62  </span>│ net.blocks.4.shortcut       │ Identity          │      0 │\n",
       "│<span style=\"color: #7f7f7f; text-decoration-color: #7f7f7f\"> 63  </span>│ net.blocks.4.norm1          │ BatchNorm2d       │    256 │\n",
       "│<span style=\"color: #7f7f7f; text-decoration-color: #7f7f7f\"> 64  </span>│ net.blocks.4.norm2          │ BatchNorm2d       │    256 │\n",
       "│<span style=\"color: #7f7f7f; text-decoration-color: #7f7f7f\"> 65  </span>│ net.blocks.4.drop           │ Dropout           │      0 │\n",
       "│<span style=\"color: #7f7f7f; text-decoration-color: #7f7f7f\"> 66  </span>│ net.blocks.5                │ ResidualBlock     │  295 K │\n",
       "│<span style=\"color: #7f7f7f; text-decoration-color: #7f7f7f\"> 67  </span>│ net.blocks.5.activation     │ LeakyReLU         │      0 │\n",
       "│<span style=\"color: #7f7f7f; text-decoration-color: #7f7f7f\"> 68  </span>│ net.blocks.5.conv1          │ PeriodicConv2D    │  147 K │\n",
       "│<span style=\"color: #7f7f7f; text-decoration-color: #7f7f7f\"> 69  </span>│ net.blocks.5.conv1.padding  │ PeriodicPadding2D │      0 │\n",
       "│<span style=\"color: #7f7f7f; text-decoration-color: #7f7f7f\"> 70  </span>│ net.blocks.5.conv1.conv     │ Conv2d            │  147 K │\n",
       "│<span style=\"color: #7f7f7f; text-decoration-color: #7f7f7f\"> 71  </span>│ net.blocks.5.conv2          │ PeriodicConv2D    │  147 K │\n",
       "│<span style=\"color: #7f7f7f; text-decoration-color: #7f7f7f\"> 72  </span>│ net.blocks.5.conv2.padding  │ PeriodicPadding2D │      0 │\n",
       "│<span style=\"color: #7f7f7f; text-decoration-color: #7f7f7f\"> 73  </span>│ net.blocks.5.conv2.conv     │ Conv2d            │  147 K │\n",
       "│<span style=\"color: #7f7f7f; text-decoration-color: #7f7f7f\"> 74  </span>│ net.blocks.5.shortcut       │ Identity          │      0 │\n",
       "│<span style=\"color: #7f7f7f; text-decoration-color: #7f7f7f\"> 75  </span>│ net.blocks.5.norm1          │ BatchNorm2d       │    256 │\n",
       "│<span style=\"color: #7f7f7f; text-decoration-color: #7f7f7f\"> 76  </span>│ net.blocks.5.norm2          │ BatchNorm2d       │    256 │\n",
       "│<span style=\"color: #7f7f7f; text-decoration-color: #7f7f7f\"> 77  </span>│ net.blocks.5.drop           │ Dropout           │      0 │\n",
       "│<span style=\"color: #7f7f7f; text-decoration-color: #7f7f7f\"> 78  </span>│ net.blocks.6                │ ResidualBlock     │  295 K │\n",
       "│<span style=\"color: #7f7f7f; text-decoration-color: #7f7f7f\"> 79  </span>│ net.blocks.6.activation     │ LeakyReLU         │      0 │\n",
       "│<span style=\"color: #7f7f7f; text-decoration-color: #7f7f7f\"> 80  </span>│ net.blocks.6.conv1          │ PeriodicConv2D    │  147 K │\n",
       "│<span style=\"color: #7f7f7f; text-decoration-color: #7f7f7f\"> 81  </span>│ net.blocks.6.conv1.padding  │ PeriodicPadding2D │      0 │\n",
       "│<span style=\"color: #7f7f7f; text-decoration-color: #7f7f7f\"> 82  </span>│ net.blocks.6.conv1.conv     │ Conv2d            │  147 K │\n",
       "│<span style=\"color: #7f7f7f; text-decoration-color: #7f7f7f\"> 83  </span>│ net.blocks.6.conv2          │ PeriodicConv2D    │  147 K │\n",
       "│<span style=\"color: #7f7f7f; text-decoration-color: #7f7f7f\"> 84  </span>│ net.blocks.6.conv2.padding  │ PeriodicPadding2D │      0 │\n",
       "│<span style=\"color: #7f7f7f; text-decoration-color: #7f7f7f\"> 85  </span>│ net.blocks.6.conv2.conv     │ Conv2d            │  147 K │\n",
       "│<span style=\"color: #7f7f7f; text-decoration-color: #7f7f7f\"> 86  </span>│ net.blocks.6.shortcut       │ Identity          │      0 │\n",
       "│<span style=\"color: #7f7f7f; text-decoration-color: #7f7f7f\"> 87  </span>│ net.blocks.6.norm1          │ BatchNorm2d       │    256 │\n",
       "│<span style=\"color: #7f7f7f; text-decoration-color: #7f7f7f\"> 88  </span>│ net.blocks.6.norm2          │ BatchNorm2d       │    256 │\n",
       "│<span style=\"color: #7f7f7f; text-decoration-color: #7f7f7f\"> 89  </span>│ net.blocks.6.drop           │ Dropout           │      0 │\n",
       "│<span style=\"color: #7f7f7f; text-decoration-color: #7f7f7f\"> 90  </span>│ net.blocks.7                │ ResidualBlock     │  295 K │\n",
       "│<span style=\"color: #7f7f7f; text-decoration-color: #7f7f7f\"> 91  </span>│ net.blocks.7.activation     │ LeakyReLU         │      0 │\n",
       "│<span style=\"color: #7f7f7f; text-decoration-color: #7f7f7f\"> 92  </span>│ net.blocks.7.conv1          │ PeriodicConv2D    │  147 K │\n",
       "│<span style=\"color: #7f7f7f; text-decoration-color: #7f7f7f\"> 93  </span>│ net.blocks.7.conv1.padding  │ PeriodicPadding2D │      0 │\n",
       "│<span style=\"color: #7f7f7f; text-decoration-color: #7f7f7f\"> 94  </span>│ net.blocks.7.conv1.conv     │ Conv2d            │  147 K │\n",
       "│<span style=\"color: #7f7f7f; text-decoration-color: #7f7f7f\"> 95  </span>│ net.blocks.7.conv2          │ PeriodicConv2D    │  147 K │\n",
       "│<span style=\"color: #7f7f7f; text-decoration-color: #7f7f7f\"> 96  </span>│ net.blocks.7.conv2.padding  │ PeriodicPadding2D │      0 │\n",
       "│<span style=\"color: #7f7f7f; text-decoration-color: #7f7f7f\"> 97  </span>│ net.blocks.7.conv2.conv     │ Conv2d            │  147 K │\n",
       "│<span style=\"color: #7f7f7f; text-decoration-color: #7f7f7f\"> 98  </span>│ net.blocks.7.shortcut       │ Identity          │      0 │\n",
       "│<span style=\"color: #7f7f7f; text-decoration-color: #7f7f7f\"> 99  </span>│ net.blocks.7.norm1          │ BatchNorm2d       │    256 │\n",
       "│<span style=\"color: #7f7f7f; text-decoration-color: #7f7f7f\"> 100 </span>│ net.blocks.7.norm2          │ BatchNorm2d       │    256 │\n",
       "│<span style=\"color: #7f7f7f; text-decoration-color: #7f7f7f\"> 101 </span>│ net.blocks.7.drop           │ Dropout           │      0 │\n",
       "│<span style=\"color: #7f7f7f; text-decoration-color: #7f7f7f\"> 102 </span>│ net.blocks.8                │ ResidualBlock     │  295 K │\n",
       "│<span style=\"color: #7f7f7f; text-decoration-color: #7f7f7f\"> 103 </span>│ net.blocks.8.activation     │ LeakyReLU         │      0 │\n",
       "│<span style=\"color: #7f7f7f; text-decoration-color: #7f7f7f\"> 104 </span>│ net.blocks.8.conv1          │ PeriodicConv2D    │  147 K │\n",
       "│<span style=\"color: #7f7f7f; text-decoration-color: #7f7f7f\"> 105 </span>│ net.blocks.8.conv1.padding  │ PeriodicPadding2D │      0 │\n",
       "│<span style=\"color: #7f7f7f; text-decoration-color: #7f7f7f\"> 106 </span>│ net.blocks.8.conv1.conv     │ Conv2d            │  147 K │\n",
       "│<span style=\"color: #7f7f7f; text-decoration-color: #7f7f7f\"> 107 </span>│ net.blocks.8.conv2          │ PeriodicConv2D    │  147 K │\n",
       "│<span style=\"color: #7f7f7f; text-decoration-color: #7f7f7f\"> 108 </span>│ net.blocks.8.conv2.padding  │ PeriodicPadding2D │      0 │\n",
       "│<span style=\"color: #7f7f7f; text-decoration-color: #7f7f7f\"> 109 </span>│ net.blocks.8.conv2.conv     │ Conv2d            │  147 K │\n",
       "│<span style=\"color: #7f7f7f; text-decoration-color: #7f7f7f\"> 110 </span>│ net.blocks.8.shortcut       │ Identity          │      0 │\n",
       "│<span style=\"color: #7f7f7f; text-decoration-color: #7f7f7f\"> 111 </span>│ net.blocks.8.norm1          │ BatchNorm2d       │    256 │\n",
       "│<span style=\"color: #7f7f7f; text-decoration-color: #7f7f7f\"> 112 </span>│ net.blocks.8.norm2          │ BatchNorm2d       │    256 │\n",
       "│<span style=\"color: #7f7f7f; text-decoration-color: #7f7f7f\"> 113 </span>│ net.blocks.8.drop           │ Dropout           │      0 │\n",
       "│<span style=\"color: #7f7f7f; text-decoration-color: #7f7f7f\"> 114 </span>│ net.blocks.9                │ ResidualBlock     │  295 K │\n",
       "│<span style=\"color: #7f7f7f; text-decoration-color: #7f7f7f\"> 115 </span>│ net.blocks.9.activation     │ LeakyReLU         │      0 │\n",
       "│<span style=\"color: #7f7f7f; text-decoration-color: #7f7f7f\"> 116 </span>│ net.blocks.9.conv1          │ PeriodicConv2D    │  147 K │\n",
       "│<span style=\"color: #7f7f7f; text-decoration-color: #7f7f7f\"> 117 </span>│ net.blocks.9.conv1.padding  │ PeriodicPadding2D │      0 │\n",
       "│<span style=\"color: #7f7f7f; text-decoration-color: #7f7f7f\"> 118 </span>│ net.blocks.9.conv1.conv     │ Conv2d            │  147 K │\n",
       "│<span style=\"color: #7f7f7f; text-decoration-color: #7f7f7f\"> 119 </span>│ net.blocks.9.conv2          │ PeriodicConv2D    │  147 K │\n",
       "│<span style=\"color: #7f7f7f; text-decoration-color: #7f7f7f\"> 120 </span>│ net.blocks.9.conv2.padding  │ PeriodicPadding2D │      0 │\n",
       "│<span style=\"color: #7f7f7f; text-decoration-color: #7f7f7f\"> 121 </span>│ net.blocks.9.conv2.conv     │ Conv2d            │  147 K │\n",
       "│<span style=\"color: #7f7f7f; text-decoration-color: #7f7f7f\"> 122 </span>│ net.blocks.9.shortcut       │ Identity          │      0 │\n",
       "│<span style=\"color: #7f7f7f; text-decoration-color: #7f7f7f\"> 123 </span>│ net.blocks.9.norm1          │ BatchNorm2d       │    256 │\n",
       "│<span style=\"color: #7f7f7f; text-decoration-color: #7f7f7f\"> 124 </span>│ net.blocks.9.norm2          │ BatchNorm2d       │    256 │\n",
       "│<span style=\"color: #7f7f7f; text-decoration-color: #7f7f7f\"> 125 </span>│ net.blocks.9.drop           │ Dropout           │      0 │\n",
       "│<span style=\"color: #7f7f7f; text-decoration-color: #7f7f7f\"> 126 </span>│ net.blocks.10               │ ResidualBlock     │  295 K │\n",
       "│<span style=\"color: #7f7f7f; text-decoration-color: #7f7f7f\"> 127 </span>│ net.blocks.10.activation    │ LeakyReLU         │      0 │\n",
       "│<span style=\"color: #7f7f7f; text-decoration-color: #7f7f7f\"> 128 </span>│ net.blocks.10.conv1         │ PeriodicConv2D    │  147 K │\n",
       "│<span style=\"color: #7f7f7f; text-decoration-color: #7f7f7f\"> 129 </span>│ net.blocks.10.conv1.padding │ PeriodicPadding2D │      0 │\n",
       "│<span style=\"color: #7f7f7f; text-decoration-color: #7f7f7f\"> 130 </span>│ net.blocks.10.conv1.conv    │ Conv2d            │  147 K │\n",
       "│<span style=\"color: #7f7f7f; text-decoration-color: #7f7f7f\"> 131 </span>│ net.blocks.10.conv2         │ PeriodicConv2D    │  147 K │\n",
       "│<span style=\"color: #7f7f7f; text-decoration-color: #7f7f7f\"> 132 </span>│ net.blocks.10.conv2.padding │ PeriodicPadding2D │      0 │\n",
       "│<span style=\"color: #7f7f7f; text-decoration-color: #7f7f7f\"> 133 </span>│ net.blocks.10.conv2.conv    │ Conv2d            │  147 K │\n",
       "│<span style=\"color: #7f7f7f; text-decoration-color: #7f7f7f\"> 134 </span>│ net.blocks.10.shortcut      │ Identity          │      0 │\n",
       "│<span style=\"color: #7f7f7f; text-decoration-color: #7f7f7f\"> 135 </span>│ net.blocks.10.norm1         │ BatchNorm2d       │    256 │\n",
       "│<span style=\"color: #7f7f7f; text-decoration-color: #7f7f7f\"> 136 </span>│ net.blocks.10.norm2         │ BatchNorm2d       │    256 │\n",
       "│<span style=\"color: #7f7f7f; text-decoration-color: #7f7f7f\"> 137 </span>│ net.blocks.10.drop          │ Dropout           │      0 │\n",
       "│<span style=\"color: #7f7f7f; text-decoration-color: #7f7f7f\"> 138 </span>│ net.blocks.11               │ ResidualBlock     │  295 K │\n",
       "│<span style=\"color: #7f7f7f; text-decoration-color: #7f7f7f\"> 139 </span>│ net.blocks.11.activation    │ LeakyReLU         │      0 │\n",
       "│<span style=\"color: #7f7f7f; text-decoration-color: #7f7f7f\"> 140 </span>│ net.blocks.11.conv1         │ PeriodicConv2D    │  147 K │\n",
       "│<span style=\"color: #7f7f7f; text-decoration-color: #7f7f7f\"> 141 </span>│ net.blocks.11.conv1.padding │ PeriodicPadding2D │      0 │\n",
       "│<span style=\"color: #7f7f7f; text-decoration-color: #7f7f7f\"> 142 </span>│ net.blocks.11.conv1.conv    │ Conv2d            │  147 K │\n",
       "│<span style=\"color: #7f7f7f; text-decoration-color: #7f7f7f\"> 143 </span>│ net.blocks.11.conv2         │ PeriodicConv2D    │  147 K │\n",
       "│<span style=\"color: #7f7f7f; text-decoration-color: #7f7f7f\"> 144 </span>│ net.blocks.11.conv2.padding │ PeriodicPadding2D │      0 │\n",
       "│<span style=\"color: #7f7f7f; text-decoration-color: #7f7f7f\"> 145 </span>│ net.blocks.11.conv2.conv    │ Conv2d            │  147 K │\n",
       "│<span style=\"color: #7f7f7f; text-decoration-color: #7f7f7f\"> 146 </span>│ net.blocks.11.shortcut      │ Identity          │      0 │\n",
       "│<span style=\"color: #7f7f7f; text-decoration-color: #7f7f7f\"> 147 </span>│ net.blocks.11.norm1         │ BatchNorm2d       │    256 │\n",
       "│<span style=\"color: #7f7f7f; text-decoration-color: #7f7f7f\"> 148 </span>│ net.blocks.11.norm2         │ BatchNorm2d       │    256 │\n",
       "│<span style=\"color: #7f7f7f; text-decoration-color: #7f7f7f\"> 149 </span>│ net.blocks.11.drop          │ Dropout           │      0 │\n",
       "│<span style=\"color: #7f7f7f; text-decoration-color: #7f7f7f\"> 150 </span>│ net.blocks.12               │ ResidualBlock     │  295 K │\n",
       "│<span style=\"color: #7f7f7f; text-decoration-color: #7f7f7f\"> 151 </span>│ net.blocks.12.activation    │ LeakyReLU         │      0 │\n",
       "│<span style=\"color: #7f7f7f; text-decoration-color: #7f7f7f\"> 152 </span>│ net.blocks.12.conv1         │ PeriodicConv2D    │  147 K │\n",
       "│<span style=\"color: #7f7f7f; text-decoration-color: #7f7f7f\"> 153 </span>│ net.blocks.12.conv1.padding │ PeriodicPadding2D │      0 │\n",
       "│<span style=\"color: #7f7f7f; text-decoration-color: #7f7f7f\"> 154 </span>│ net.blocks.12.conv1.conv    │ Conv2d            │  147 K │\n",
       "│<span style=\"color: #7f7f7f; text-decoration-color: #7f7f7f\"> 155 </span>│ net.blocks.12.conv2         │ PeriodicConv2D    │  147 K │\n",
       "│<span style=\"color: #7f7f7f; text-decoration-color: #7f7f7f\"> 156 </span>│ net.blocks.12.conv2.padding │ PeriodicPadding2D │      0 │\n",
       "│<span style=\"color: #7f7f7f; text-decoration-color: #7f7f7f\"> 157 </span>│ net.blocks.12.conv2.conv    │ Conv2d            │  147 K │\n",
       "│<span style=\"color: #7f7f7f; text-decoration-color: #7f7f7f\"> 158 </span>│ net.blocks.12.shortcut      │ Identity          │      0 │\n",
       "│<span style=\"color: #7f7f7f; text-decoration-color: #7f7f7f\"> 159 </span>│ net.blocks.12.norm1         │ BatchNorm2d       │    256 │\n",
       "│<span style=\"color: #7f7f7f; text-decoration-color: #7f7f7f\"> 160 </span>│ net.blocks.12.norm2         │ BatchNorm2d       │    256 │\n",
       "│<span style=\"color: #7f7f7f; text-decoration-color: #7f7f7f\"> 161 </span>│ net.blocks.12.drop          │ Dropout           │      0 │\n",
       "│<span style=\"color: #7f7f7f; text-decoration-color: #7f7f7f\"> 162 </span>│ net.blocks.13               │ ResidualBlock     │  295 K │\n",
       "│<span style=\"color: #7f7f7f; text-decoration-color: #7f7f7f\"> 163 </span>│ net.blocks.13.activation    │ LeakyReLU         │      0 │\n",
       "│<span style=\"color: #7f7f7f; text-decoration-color: #7f7f7f\"> 164 </span>│ net.blocks.13.conv1         │ PeriodicConv2D    │  147 K │\n",
       "│<span style=\"color: #7f7f7f; text-decoration-color: #7f7f7f\"> 165 </span>│ net.blocks.13.conv1.padding │ PeriodicPadding2D │      0 │\n",
       "│<span style=\"color: #7f7f7f; text-decoration-color: #7f7f7f\"> 166 </span>│ net.blocks.13.conv1.conv    │ Conv2d            │  147 K │\n",
       "│<span style=\"color: #7f7f7f; text-decoration-color: #7f7f7f\"> 167 </span>│ net.blocks.13.conv2         │ PeriodicConv2D    │  147 K │\n",
       "│<span style=\"color: #7f7f7f; text-decoration-color: #7f7f7f\"> 168 </span>│ net.blocks.13.conv2.padding │ PeriodicPadding2D │      0 │\n",
       "│<span style=\"color: #7f7f7f; text-decoration-color: #7f7f7f\"> 169 </span>│ net.blocks.13.conv2.conv    │ Conv2d            │  147 K │\n",
       "│<span style=\"color: #7f7f7f; text-decoration-color: #7f7f7f\"> 170 </span>│ net.blocks.13.shortcut      │ Identity          │      0 │\n",
       "│<span style=\"color: #7f7f7f; text-decoration-color: #7f7f7f\"> 171 </span>│ net.blocks.13.norm1         │ BatchNorm2d       │    256 │\n",
       "│<span style=\"color: #7f7f7f; text-decoration-color: #7f7f7f\"> 172 </span>│ net.blocks.13.norm2         │ BatchNorm2d       │    256 │\n",
       "│<span style=\"color: #7f7f7f; text-decoration-color: #7f7f7f\"> 173 </span>│ net.blocks.13.drop          │ Dropout           │      0 │\n",
       "│<span style=\"color: #7f7f7f; text-decoration-color: #7f7f7f\"> 174 </span>│ net.blocks.14               │ ResidualBlock     │  295 K │\n",
       "│<span style=\"color: #7f7f7f; text-decoration-color: #7f7f7f\"> 175 </span>│ net.blocks.14.activation    │ LeakyReLU         │      0 │\n",
       "│<span style=\"color: #7f7f7f; text-decoration-color: #7f7f7f\"> 176 </span>│ net.blocks.14.conv1         │ PeriodicConv2D    │  147 K │\n",
       "│<span style=\"color: #7f7f7f; text-decoration-color: #7f7f7f\"> 177 </span>│ net.blocks.14.conv1.padding │ PeriodicPadding2D │      0 │\n",
       "│<span style=\"color: #7f7f7f; text-decoration-color: #7f7f7f\"> 178 </span>│ net.blocks.14.conv1.conv    │ Conv2d            │  147 K │\n",
       "│<span style=\"color: #7f7f7f; text-decoration-color: #7f7f7f\"> 179 </span>│ net.blocks.14.conv2         │ PeriodicConv2D    │  147 K │\n",
       "│<span style=\"color: #7f7f7f; text-decoration-color: #7f7f7f\"> 180 </span>│ net.blocks.14.conv2.padding │ PeriodicPadding2D │      0 │\n",
       "│<span style=\"color: #7f7f7f; text-decoration-color: #7f7f7f\"> 181 </span>│ net.blocks.14.conv2.conv    │ Conv2d            │  147 K │\n",
       "│<span style=\"color: #7f7f7f; text-decoration-color: #7f7f7f\"> 182 </span>│ net.blocks.14.shortcut      │ Identity          │      0 │\n",
       "│<span style=\"color: #7f7f7f; text-decoration-color: #7f7f7f\"> 183 </span>│ net.blocks.14.norm1         │ BatchNorm2d       │    256 │\n",
       "│<span style=\"color: #7f7f7f; text-decoration-color: #7f7f7f\"> 184 </span>│ net.blocks.14.norm2         │ BatchNorm2d       │    256 │\n",
       "│<span style=\"color: #7f7f7f; text-decoration-color: #7f7f7f\"> 185 </span>│ net.blocks.14.drop          │ Dropout           │      0 │\n",
       "│<span style=\"color: #7f7f7f; text-decoration-color: #7f7f7f\"> 186 </span>│ net.blocks.15               │ ResidualBlock     │  295 K │\n",
       "│<span style=\"color: #7f7f7f; text-decoration-color: #7f7f7f\"> 187 </span>│ net.blocks.15.activation    │ LeakyReLU         │      0 │\n",
       "│<span style=\"color: #7f7f7f; text-decoration-color: #7f7f7f\"> 188 </span>│ net.blocks.15.conv1         │ PeriodicConv2D    │  147 K │\n",
       "│<span style=\"color: #7f7f7f; text-decoration-color: #7f7f7f\"> 189 </span>│ net.blocks.15.conv1.padding │ PeriodicPadding2D │      0 │\n",
       "│<span style=\"color: #7f7f7f; text-decoration-color: #7f7f7f\"> 190 </span>│ net.blocks.15.conv1.conv    │ Conv2d            │  147 K │\n",
       "│<span style=\"color: #7f7f7f; text-decoration-color: #7f7f7f\"> 191 </span>│ net.blocks.15.conv2         │ PeriodicConv2D    │  147 K │\n",
       "│<span style=\"color: #7f7f7f; text-decoration-color: #7f7f7f\"> 192 </span>│ net.blocks.15.conv2.padding │ PeriodicPadding2D │      0 │\n",
       "│<span style=\"color: #7f7f7f; text-decoration-color: #7f7f7f\"> 193 </span>│ net.blocks.15.conv2.conv    │ Conv2d            │  147 K │\n",
       "│<span style=\"color: #7f7f7f; text-decoration-color: #7f7f7f\"> 194 </span>│ net.blocks.15.shortcut      │ Identity          │      0 │\n",
       "│<span style=\"color: #7f7f7f; text-decoration-color: #7f7f7f\"> 195 </span>│ net.blocks.15.norm1         │ BatchNorm2d       │    256 │\n",
       "│<span style=\"color: #7f7f7f; text-decoration-color: #7f7f7f\"> 196 </span>│ net.blocks.15.norm2         │ BatchNorm2d       │    256 │\n",
       "│<span style=\"color: #7f7f7f; text-decoration-color: #7f7f7f\"> 197 </span>│ net.blocks.15.drop          │ Dropout           │      0 │\n",
       "│<span style=\"color: #7f7f7f; text-decoration-color: #7f7f7f\"> 198 </span>│ net.blocks.16               │ ResidualBlock     │  295 K │\n",
       "│<span style=\"color: #7f7f7f; text-decoration-color: #7f7f7f\"> 199 </span>│ net.blocks.16.activation    │ LeakyReLU         │      0 │\n",
       "│<span style=\"color: #7f7f7f; text-decoration-color: #7f7f7f\"> 200 </span>│ net.blocks.16.conv1         │ PeriodicConv2D    │  147 K │\n",
       "│<span style=\"color: #7f7f7f; text-decoration-color: #7f7f7f\"> 201 </span>│ net.blocks.16.conv1.padding │ PeriodicPadding2D │      0 │\n",
       "│<span style=\"color: #7f7f7f; text-decoration-color: #7f7f7f\"> 202 </span>│ net.blocks.16.conv1.conv    │ Conv2d            │  147 K │\n",
       "│<span style=\"color: #7f7f7f; text-decoration-color: #7f7f7f\"> 203 </span>│ net.blocks.16.conv2         │ PeriodicConv2D    │  147 K │\n",
       "│<span style=\"color: #7f7f7f; text-decoration-color: #7f7f7f\"> 204 </span>│ net.blocks.16.conv2.padding │ PeriodicPadding2D │      0 │\n",
       "│<span style=\"color: #7f7f7f; text-decoration-color: #7f7f7f\"> 205 </span>│ net.blocks.16.conv2.conv    │ Conv2d            │  147 K │\n",
       "│<span style=\"color: #7f7f7f; text-decoration-color: #7f7f7f\"> 206 </span>│ net.blocks.16.shortcut      │ Identity          │      0 │\n",
       "│<span style=\"color: #7f7f7f; text-decoration-color: #7f7f7f\"> 207 </span>│ net.blocks.16.norm1         │ BatchNorm2d       │    256 │\n",
       "│<span style=\"color: #7f7f7f; text-decoration-color: #7f7f7f\"> 208 </span>│ net.blocks.16.norm2         │ BatchNorm2d       │    256 │\n",
       "│<span style=\"color: #7f7f7f; text-decoration-color: #7f7f7f\"> 209 </span>│ net.blocks.16.drop          │ Dropout           │      0 │\n",
       "│<span style=\"color: #7f7f7f; text-decoration-color: #7f7f7f\"> 210 </span>│ net.blocks.17               │ ResidualBlock     │  295 K │\n",
       "│<span style=\"color: #7f7f7f; text-decoration-color: #7f7f7f\"> 211 </span>│ net.blocks.17.activation    │ LeakyReLU         │      0 │\n",
       "│<span style=\"color: #7f7f7f; text-decoration-color: #7f7f7f\"> 212 </span>│ net.blocks.17.conv1         │ PeriodicConv2D    │  147 K │\n",
       "│<span style=\"color: #7f7f7f; text-decoration-color: #7f7f7f\"> 213 </span>│ net.blocks.17.conv1.padding │ PeriodicPadding2D │      0 │\n",
       "│<span style=\"color: #7f7f7f; text-decoration-color: #7f7f7f\"> 214 </span>│ net.blocks.17.conv1.conv    │ Conv2d            │  147 K │\n",
       "│<span style=\"color: #7f7f7f; text-decoration-color: #7f7f7f\"> 215 </span>│ net.blocks.17.conv2         │ PeriodicConv2D    │  147 K │\n",
       "│<span style=\"color: #7f7f7f; text-decoration-color: #7f7f7f\"> 216 </span>│ net.blocks.17.conv2.padding │ PeriodicPadding2D │      0 │\n",
       "│<span style=\"color: #7f7f7f; text-decoration-color: #7f7f7f\"> 217 </span>│ net.blocks.17.conv2.conv    │ Conv2d            │  147 K │\n",
       "│<span style=\"color: #7f7f7f; text-decoration-color: #7f7f7f\"> 218 </span>│ net.blocks.17.shortcut      │ Identity          │      0 │\n",
       "│<span style=\"color: #7f7f7f; text-decoration-color: #7f7f7f\"> 219 </span>│ net.blocks.17.norm1         │ BatchNorm2d       │    256 │\n",
       "│<span style=\"color: #7f7f7f; text-decoration-color: #7f7f7f\"> 220 </span>│ net.blocks.17.norm2         │ BatchNorm2d       │    256 │\n",
       "│<span style=\"color: #7f7f7f; text-decoration-color: #7f7f7f\"> 221 </span>│ net.blocks.17.drop          │ Dropout           │      0 │\n",
       "│<span style=\"color: #7f7f7f; text-decoration-color: #7f7f7f\"> 222 </span>│ net.blocks.18               │ ResidualBlock     │  295 K │\n",
       "│<span style=\"color: #7f7f7f; text-decoration-color: #7f7f7f\"> 223 </span>│ net.blocks.18.activation    │ LeakyReLU         │      0 │\n",
       "│<span style=\"color: #7f7f7f; text-decoration-color: #7f7f7f\"> 224 </span>│ net.blocks.18.conv1         │ PeriodicConv2D    │  147 K │\n",
       "│<span style=\"color: #7f7f7f; text-decoration-color: #7f7f7f\"> 225 </span>│ net.blocks.18.conv1.padding │ PeriodicPadding2D │      0 │\n",
       "│<span style=\"color: #7f7f7f; text-decoration-color: #7f7f7f\"> 226 </span>│ net.blocks.18.conv1.conv    │ Conv2d            │  147 K │\n",
       "│<span style=\"color: #7f7f7f; text-decoration-color: #7f7f7f\"> 227 </span>│ net.blocks.18.conv2         │ PeriodicConv2D    │  147 K │\n",
       "│<span style=\"color: #7f7f7f; text-decoration-color: #7f7f7f\"> 228 </span>│ net.blocks.18.conv2.padding │ PeriodicPadding2D │      0 │\n",
       "│<span style=\"color: #7f7f7f; text-decoration-color: #7f7f7f\"> 229 </span>│ net.blocks.18.conv2.conv    │ Conv2d            │  147 K │\n",
       "│<span style=\"color: #7f7f7f; text-decoration-color: #7f7f7f\"> 230 </span>│ net.blocks.18.shortcut      │ Identity          │      0 │\n",
       "│<span style=\"color: #7f7f7f; text-decoration-color: #7f7f7f\"> 231 </span>│ net.blocks.18.norm1         │ BatchNorm2d       │    256 │\n",
       "│<span style=\"color: #7f7f7f; text-decoration-color: #7f7f7f\"> 232 </span>│ net.blocks.18.norm2         │ BatchNorm2d       │    256 │\n",
       "│<span style=\"color: #7f7f7f; text-decoration-color: #7f7f7f\"> 233 </span>│ net.blocks.18.drop          │ Dropout           │      0 │\n",
       "│<span style=\"color: #7f7f7f; text-decoration-color: #7f7f7f\"> 234 </span>│ net.norm                    │ BatchNorm2d       │    256 │\n",
       "│<span style=\"color: #7f7f7f; text-decoration-color: #7f7f7f\"> 235 </span>│ net.final                   │ PeriodicConv2D    │ 18.8 K │\n",
       "│<span style=\"color: #7f7f7f; text-decoration-color: #7f7f7f\"> 236 </span>│ net.final.padding           │ PeriodicPadding2D │      0 │\n",
       "│<span style=\"color: #7f7f7f; text-decoration-color: #7f7f7f\"> 237 </span>│ net.final.conv              │ Conv2d            │ 18.8 K │\n",
       "│<span style=\"color: #7f7f7f; text-decoration-color: #7f7f7f\"> 238 </span>│ denormalization             │ Normalize         │      0 │\n",
       "│<span style=\"color: #7f7f7f; text-decoration-color: #7f7f7f\"> 239 </span>│ mean_denormalize            │ Normalize         │      0 │\n",
       "│<span style=\"color: #7f7f7f; text-decoration-color: #7f7f7f\"> 240 </span>│ std_denormalize             │ Normalize         │      0 │\n",
       "└─────┴─────────────────────────────┴───────────────────┴────────┘\n",
       "</pre>\n"
      ],
      "text/plain": [
       "┏━━━━━┳━━━━━━━━━━━━━━━━━━━━━━━━━━━━━┳━━━━━━━━━━━━━━━━━━━┳━━━━━━━━┓\n",
       "┃\u001b[1;35m \u001b[0m\u001b[1;35m   \u001b[0m\u001b[1;35m \u001b[0m┃\u001b[1;35m \u001b[0m\u001b[1;35mName                       \u001b[0m\u001b[1;35m \u001b[0m┃\u001b[1;35m \u001b[0m\u001b[1;35mType             \u001b[0m\u001b[1;35m \u001b[0m┃\u001b[1;35m \u001b[0m\u001b[1;35mParams\u001b[0m\u001b[1;35m \u001b[0m┃\n",
       "┡━━━━━╇━━━━━━━━━━━━━━━━━━━━━━━━━━━━━╇━━━━━━━━━━━━━━━━━━━╇━━━━━━━━┩\n",
       "│\u001b[2m \u001b[0m\u001b[2m0  \u001b[0m\u001b[2m \u001b[0m│ net                         │ ResNet            │  5.7 M │\n",
       "│\u001b[2m \u001b[0m\u001b[2m1  \u001b[0m\u001b[2m \u001b[0m│ net.activation              │ LeakyReLU         │      0 │\n",
       "│\u001b[2m \u001b[0m\u001b[2m2  \u001b[0m\u001b[2m \u001b[0m│ net.image_proj              │ PeriodicConv2D    │ 18.9 K │\n",
       "│\u001b[2m \u001b[0m\u001b[2m3  \u001b[0m\u001b[2m \u001b[0m│ net.image_proj.padding      │ PeriodicPadding2D │      0 │\n",
       "│\u001b[2m \u001b[0m\u001b[2m4  \u001b[0m\u001b[2m \u001b[0m│ net.image_proj.conv         │ Conv2d            │ 18.9 K │\n",
       "│\u001b[2m \u001b[0m\u001b[2m5  \u001b[0m\u001b[2m \u001b[0m│ net.blocks                  │ ModuleList        │  5.6 M │\n",
       "│\u001b[2m \u001b[0m\u001b[2m6  \u001b[0m\u001b[2m \u001b[0m│ net.blocks.0                │ ResidualBlock     │  295 K │\n",
       "│\u001b[2m \u001b[0m\u001b[2m7  \u001b[0m\u001b[2m \u001b[0m│ net.blocks.0.activation     │ LeakyReLU         │      0 │\n",
       "│\u001b[2m \u001b[0m\u001b[2m8  \u001b[0m\u001b[2m \u001b[0m│ net.blocks.0.conv1          │ PeriodicConv2D    │  147 K │\n",
       "│\u001b[2m \u001b[0m\u001b[2m9  \u001b[0m\u001b[2m \u001b[0m│ net.blocks.0.conv1.padding  │ PeriodicPadding2D │      0 │\n",
       "│\u001b[2m \u001b[0m\u001b[2m10 \u001b[0m\u001b[2m \u001b[0m│ net.blocks.0.conv1.conv     │ Conv2d            │  147 K │\n",
       "│\u001b[2m \u001b[0m\u001b[2m11 \u001b[0m\u001b[2m \u001b[0m│ net.blocks.0.conv2          │ PeriodicConv2D    │  147 K │\n",
       "│\u001b[2m \u001b[0m\u001b[2m12 \u001b[0m\u001b[2m \u001b[0m│ net.blocks.0.conv2.padding  │ PeriodicPadding2D │      0 │\n",
       "│\u001b[2m \u001b[0m\u001b[2m13 \u001b[0m\u001b[2m \u001b[0m│ net.blocks.0.conv2.conv     │ Conv2d            │  147 K │\n",
       "│\u001b[2m \u001b[0m\u001b[2m14 \u001b[0m\u001b[2m \u001b[0m│ net.blocks.0.shortcut       │ Identity          │      0 │\n",
       "│\u001b[2m \u001b[0m\u001b[2m15 \u001b[0m\u001b[2m \u001b[0m│ net.blocks.0.norm1          │ BatchNorm2d       │    256 │\n",
       "│\u001b[2m \u001b[0m\u001b[2m16 \u001b[0m\u001b[2m \u001b[0m│ net.blocks.0.norm2          │ BatchNorm2d       │    256 │\n",
       "│\u001b[2m \u001b[0m\u001b[2m17 \u001b[0m\u001b[2m \u001b[0m│ net.blocks.0.drop           │ Dropout           │      0 │\n",
       "│\u001b[2m \u001b[0m\u001b[2m18 \u001b[0m\u001b[2m \u001b[0m│ net.blocks.1                │ ResidualBlock     │  295 K │\n",
       "│\u001b[2m \u001b[0m\u001b[2m19 \u001b[0m\u001b[2m \u001b[0m│ net.blocks.1.activation     │ LeakyReLU         │      0 │\n",
       "│\u001b[2m \u001b[0m\u001b[2m20 \u001b[0m\u001b[2m \u001b[0m│ net.blocks.1.conv1          │ PeriodicConv2D    │  147 K │\n",
       "│\u001b[2m \u001b[0m\u001b[2m21 \u001b[0m\u001b[2m \u001b[0m│ net.blocks.1.conv1.padding  │ PeriodicPadding2D │      0 │\n",
       "│\u001b[2m \u001b[0m\u001b[2m22 \u001b[0m\u001b[2m \u001b[0m│ net.blocks.1.conv1.conv     │ Conv2d            │  147 K │\n",
       "│\u001b[2m \u001b[0m\u001b[2m23 \u001b[0m\u001b[2m \u001b[0m│ net.blocks.1.conv2          │ PeriodicConv2D    │  147 K │\n",
       "│\u001b[2m \u001b[0m\u001b[2m24 \u001b[0m\u001b[2m \u001b[0m│ net.blocks.1.conv2.padding  │ PeriodicPadding2D │      0 │\n",
       "│\u001b[2m \u001b[0m\u001b[2m25 \u001b[0m\u001b[2m \u001b[0m│ net.blocks.1.conv2.conv     │ Conv2d            │  147 K │\n",
       "│\u001b[2m \u001b[0m\u001b[2m26 \u001b[0m\u001b[2m \u001b[0m│ net.blocks.1.shortcut       │ Identity          │      0 │\n",
       "│\u001b[2m \u001b[0m\u001b[2m27 \u001b[0m\u001b[2m \u001b[0m│ net.blocks.1.norm1          │ BatchNorm2d       │    256 │\n",
       "│\u001b[2m \u001b[0m\u001b[2m28 \u001b[0m\u001b[2m \u001b[0m│ net.blocks.1.norm2          │ BatchNorm2d       │    256 │\n",
       "│\u001b[2m \u001b[0m\u001b[2m29 \u001b[0m\u001b[2m \u001b[0m│ net.blocks.1.drop           │ Dropout           │      0 │\n",
       "│\u001b[2m \u001b[0m\u001b[2m30 \u001b[0m\u001b[2m \u001b[0m│ net.blocks.2                │ ResidualBlock     │  295 K │\n",
       "│\u001b[2m \u001b[0m\u001b[2m31 \u001b[0m\u001b[2m \u001b[0m│ net.blocks.2.activation     │ LeakyReLU         │      0 │\n",
       "│\u001b[2m \u001b[0m\u001b[2m32 \u001b[0m\u001b[2m \u001b[0m│ net.blocks.2.conv1          │ PeriodicConv2D    │  147 K │\n",
       "│\u001b[2m \u001b[0m\u001b[2m33 \u001b[0m\u001b[2m \u001b[0m│ net.blocks.2.conv1.padding  │ PeriodicPadding2D │      0 │\n",
       "│\u001b[2m \u001b[0m\u001b[2m34 \u001b[0m\u001b[2m \u001b[0m│ net.blocks.2.conv1.conv     │ Conv2d            │  147 K │\n",
       "│\u001b[2m \u001b[0m\u001b[2m35 \u001b[0m\u001b[2m \u001b[0m│ net.blocks.2.conv2          │ PeriodicConv2D    │  147 K │\n",
       "│\u001b[2m \u001b[0m\u001b[2m36 \u001b[0m\u001b[2m \u001b[0m│ net.blocks.2.conv2.padding  │ PeriodicPadding2D │      0 │\n",
       "│\u001b[2m \u001b[0m\u001b[2m37 \u001b[0m\u001b[2m \u001b[0m│ net.blocks.2.conv2.conv     │ Conv2d            │  147 K │\n",
       "│\u001b[2m \u001b[0m\u001b[2m38 \u001b[0m\u001b[2m \u001b[0m│ net.blocks.2.shortcut       │ Identity          │      0 │\n",
       "│\u001b[2m \u001b[0m\u001b[2m39 \u001b[0m\u001b[2m \u001b[0m│ net.blocks.2.norm1          │ BatchNorm2d       │    256 │\n",
       "│\u001b[2m \u001b[0m\u001b[2m40 \u001b[0m\u001b[2m \u001b[0m│ net.blocks.2.norm2          │ BatchNorm2d       │    256 │\n",
       "│\u001b[2m \u001b[0m\u001b[2m41 \u001b[0m\u001b[2m \u001b[0m│ net.blocks.2.drop           │ Dropout           │      0 │\n",
       "│\u001b[2m \u001b[0m\u001b[2m42 \u001b[0m\u001b[2m \u001b[0m│ net.blocks.3                │ ResidualBlock     │  295 K │\n",
       "│\u001b[2m \u001b[0m\u001b[2m43 \u001b[0m\u001b[2m \u001b[0m│ net.blocks.3.activation     │ LeakyReLU         │      0 │\n",
       "│\u001b[2m \u001b[0m\u001b[2m44 \u001b[0m\u001b[2m \u001b[0m│ net.blocks.3.conv1          │ PeriodicConv2D    │  147 K │\n",
       "│\u001b[2m \u001b[0m\u001b[2m45 \u001b[0m\u001b[2m \u001b[0m│ net.blocks.3.conv1.padding  │ PeriodicPadding2D │      0 │\n",
       "│\u001b[2m \u001b[0m\u001b[2m46 \u001b[0m\u001b[2m \u001b[0m│ net.blocks.3.conv1.conv     │ Conv2d            │  147 K │\n",
       "│\u001b[2m \u001b[0m\u001b[2m47 \u001b[0m\u001b[2m \u001b[0m│ net.blocks.3.conv2          │ PeriodicConv2D    │  147 K │\n",
       "│\u001b[2m \u001b[0m\u001b[2m48 \u001b[0m\u001b[2m \u001b[0m│ net.blocks.3.conv2.padding  │ PeriodicPadding2D │      0 │\n",
       "│\u001b[2m \u001b[0m\u001b[2m49 \u001b[0m\u001b[2m \u001b[0m│ net.blocks.3.conv2.conv     │ Conv2d            │  147 K │\n",
       "│\u001b[2m \u001b[0m\u001b[2m50 \u001b[0m\u001b[2m \u001b[0m│ net.blocks.3.shortcut       │ Identity          │      0 │\n",
       "│\u001b[2m \u001b[0m\u001b[2m51 \u001b[0m\u001b[2m \u001b[0m│ net.blocks.3.norm1          │ BatchNorm2d       │    256 │\n",
       "│\u001b[2m \u001b[0m\u001b[2m52 \u001b[0m\u001b[2m \u001b[0m│ net.blocks.3.norm2          │ BatchNorm2d       │    256 │\n",
       "│\u001b[2m \u001b[0m\u001b[2m53 \u001b[0m\u001b[2m \u001b[0m│ net.blocks.3.drop           │ Dropout           │      0 │\n",
       "│\u001b[2m \u001b[0m\u001b[2m54 \u001b[0m\u001b[2m \u001b[0m│ net.blocks.4                │ ResidualBlock     │  295 K │\n",
       "│\u001b[2m \u001b[0m\u001b[2m55 \u001b[0m\u001b[2m \u001b[0m│ net.blocks.4.activation     │ LeakyReLU         │      0 │\n",
       "│\u001b[2m \u001b[0m\u001b[2m56 \u001b[0m\u001b[2m \u001b[0m│ net.blocks.4.conv1          │ PeriodicConv2D    │  147 K │\n",
       "│\u001b[2m \u001b[0m\u001b[2m57 \u001b[0m\u001b[2m \u001b[0m│ net.blocks.4.conv1.padding  │ PeriodicPadding2D │      0 │\n",
       "│\u001b[2m \u001b[0m\u001b[2m58 \u001b[0m\u001b[2m \u001b[0m│ net.blocks.4.conv1.conv     │ Conv2d            │  147 K │\n",
       "│\u001b[2m \u001b[0m\u001b[2m59 \u001b[0m\u001b[2m \u001b[0m│ net.blocks.4.conv2          │ PeriodicConv2D    │  147 K │\n",
       "│\u001b[2m \u001b[0m\u001b[2m60 \u001b[0m\u001b[2m \u001b[0m│ net.blocks.4.conv2.padding  │ PeriodicPadding2D │      0 │\n",
       "│\u001b[2m \u001b[0m\u001b[2m61 \u001b[0m\u001b[2m \u001b[0m│ net.blocks.4.conv2.conv     │ Conv2d            │  147 K │\n",
       "│\u001b[2m \u001b[0m\u001b[2m62 \u001b[0m\u001b[2m \u001b[0m│ net.blocks.4.shortcut       │ Identity          │      0 │\n",
       "│\u001b[2m \u001b[0m\u001b[2m63 \u001b[0m\u001b[2m \u001b[0m│ net.blocks.4.norm1          │ BatchNorm2d       │    256 │\n",
       "│\u001b[2m \u001b[0m\u001b[2m64 \u001b[0m\u001b[2m \u001b[0m│ net.blocks.4.norm2          │ BatchNorm2d       │    256 │\n",
       "│\u001b[2m \u001b[0m\u001b[2m65 \u001b[0m\u001b[2m \u001b[0m│ net.blocks.4.drop           │ Dropout           │      0 │\n",
       "│\u001b[2m \u001b[0m\u001b[2m66 \u001b[0m\u001b[2m \u001b[0m│ net.blocks.5                │ ResidualBlock     │  295 K │\n",
       "│\u001b[2m \u001b[0m\u001b[2m67 \u001b[0m\u001b[2m \u001b[0m│ net.blocks.5.activation     │ LeakyReLU         │      0 │\n",
       "│\u001b[2m \u001b[0m\u001b[2m68 \u001b[0m\u001b[2m \u001b[0m│ net.blocks.5.conv1          │ PeriodicConv2D    │  147 K │\n",
       "│\u001b[2m \u001b[0m\u001b[2m69 \u001b[0m\u001b[2m \u001b[0m│ net.blocks.5.conv1.padding  │ PeriodicPadding2D │      0 │\n",
       "│\u001b[2m \u001b[0m\u001b[2m70 \u001b[0m\u001b[2m \u001b[0m│ net.blocks.5.conv1.conv     │ Conv2d            │  147 K │\n",
       "│\u001b[2m \u001b[0m\u001b[2m71 \u001b[0m\u001b[2m \u001b[0m│ net.blocks.5.conv2          │ PeriodicConv2D    │  147 K │\n",
       "│\u001b[2m \u001b[0m\u001b[2m72 \u001b[0m\u001b[2m \u001b[0m│ net.blocks.5.conv2.padding  │ PeriodicPadding2D │      0 │\n",
       "│\u001b[2m \u001b[0m\u001b[2m73 \u001b[0m\u001b[2m \u001b[0m│ net.blocks.5.conv2.conv     │ Conv2d            │  147 K │\n",
       "│\u001b[2m \u001b[0m\u001b[2m74 \u001b[0m\u001b[2m \u001b[0m│ net.blocks.5.shortcut       │ Identity          │      0 │\n",
       "│\u001b[2m \u001b[0m\u001b[2m75 \u001b[0m\u001b[2m \u001b[0m│ net.blocks.5.norm1          │ BatchNorm2d       │    256 │\n",
       "│\u001b[2m \u001b[0m\u001b[2m76 \u001b[0m\u001b[2m \u001b[0m│ net.blocks.5.norm2          │ BatchNorm2d       │    256 │\n",
       "│\u001b[2m \u001b[0m\u001b[2m77 \u001b[0m\u001b[2m \u001b[0m│ net.blocks.5.drop           │ Dropout           │      0 │\n",
       "│\u001b[2m \u001b[0m\u001b[2m78 \u001b[0m\u001b[2m \u001b[0m│ net.blocks.6                │ ResidualBlock     │  295 K │\n",
       "│\u001b[2m \u001b[0m\u001b[2m79 \u001b[0m\u001b[2m \u001b[0m│ net.blocks.6.activation     │ LeakyReLU         │      0 │\n",
       "│\u001b[2m \u001b[0m\u001b[2m80 \u001b[0m\u001b[2m \u001b[0m│ net.blocks.6.conv1          │ PeriodicConv2D    │  147 K │\n",
       "│\u001b[2m \u001b[0m\u001b[2m81 \u001b[0m\u001b[2m \u001b[0m│ net.blocks.6.conv1.padding  │ PeriodicPadding2D │      0 │\n",
       "│\u001b[2m \u001b[0m\u001b[2m82 \u001b[0m\u001b[2m \u001b[0m│ net.blocks.6.conv1.conv     │ Conv2d            │  147 K │\n",
       "│\u001b[2m \u001b[0m\u001b[2m83 \u001b[0m\u001b[2m \u001b[0m│ net.blocks.6.conv2          │ PeriodicConv2D    │  147 K │\n",
       "│\u001b[2m \u001b[0m\u001b[2m84 \u001b[0m\u001b[2m \u001b[0m│ net.blocks.6.conv2.padding  │ PeriodicPadding2D │      0 │\n",
       "│\u001b[2m \u001b[0m\u001b[2m85 \u001b[0m\u001b[2m \u001b[0m│ net.blocks.6.conv2.conv     │ Conv2d            │  147 K │\n",
       "│\u001b[2m \u001b[0m\u001b[2m86 \u001b[0m\u001b[2m \u001b[0m│ net.blocks.6.shortcut       │ Identity          │      0 │\n",
       "│\u001b[2m \u001b[0m\u001b[2m87 \u001b[0m\u001b[2m \u001b[0m│ net.blocks.6.norm1          │ BatchNorm2d       │    256 │\n",
       "│\u001b[2m \u001b[0m\u001b[2m88 \u001b[0m\u001b[2m \u001b[0m│ net.blocks.6.norm2          │ BatchNorm2d       │    256 │\n",
       "│\u001b[2m \u001b[0m\u001b[2m89 \u001b[0m\u001b[2m \u001b[0m│ net.blocks.6.drop           │ Dropout           │      0 │\n",
       "│\u001b[2m \u001b[0m\u001b[2m90 \u001b[0m\u001b[2m \u001b[0m│ net.blocks.7                │ ResidualBlock     │  295 K │\n",
       "│\u001b[2m \u001b[0m\u001b[2m91 \u001b[0m\u001b[2m \u001b[0m│ net.blocks.7.activation     │ LeakyReLU         │      0 │\n",
       "│\u001b[2m \u001b[0m\u001b[2m92 \u001b[0m\u001b[2m \u001b[0m│ net.blocks.7.conv1          │ PeriodicConv2D    │  147 K │\n",
       "│\u001b[2m \u001b[0m\u001b[2m93 \u001b[0m\u001b[2m \u001b[0m│ net.blocks.7.conv1.padding  │ PeriodicPadding2D │      0 │\n",
       "│\u001b[2m \u001b[0m\u001b[2m94 \u001b[0m\u001b[2m \u001b[0m│ net.blocks.7.conv1.conv     │ Conv2d            │  147 K │\n",
       "│\u001b[2m \u001b[0m\u001b[2m95 \u001b[0m\u001b[2m \u001b[0m│ net.blocks.7.conv2          │ PeriodicConv2D    │  147 K │\n",
       "│\u001b[2m \u001b[0m\u001b[2m96 \u001b[0m\u001b[2m \u001b[0m│ net.blocks.7.conv2.padding  │ PeriodicPadding2D │      0 │\n",
       "│\u001b[2m \u001b[0m\u001b[2m97 \u001b[0m\u001b[2m \u001b[0m│ net.blocks.7.conv2.conv     │ Conv2d            │  147 K │\n",
       "│\u001b[2m \u001b[0m\u001b[2m98 \u001b[0m\u001b[2m \u001b[0m│ net.blocks.7.shortcut       │ Identity          │      0 │\n",
       "│\u001b[2m \u001b[0m\u001b[2m99 \u001b[0m\u001b[2m \u001b[0m│ net.blocks.7.norm1          │ BatchNorm2d       │    256 │\n",
       "│\u001b[2m \u001b[0m\u001b[2m100\u001b[0m\u001b[2m \u001b[0m│ net.blocks.7.norm2          │ BatchNorm2d       │    256 │\n",
       "│\u001b[2m \u001b[0m\u001b[2m101\u001b[0m\u001b[2m \u001b[0m│ net.blocks.7.drop           │ Dropout           │      0 │\n",
       "│\u001b[2m \u001b[0m\u001b[2m102\u001b[0m\u001b[2m \u001b[0m│ net.blocks.8                │ ResidualBlock     │  295 K │\n",
       "│\u001b[2m \u001b[0m\u001b[2m103\u001b[0m\u001b[2m \u001b[0m│ net.blocks.8.activation     │ LeakyReLU         │      0 │\n",
       "│\u001b[2m \u001b[0m\u001b[2m104\u001b[0m\u001b[2m \u001b[0m│ net.blocks.8.conv1          │ PeriodicConv2D    │  147 K │\n",
       "│\u001b[2m \u001b[0m\u001b[2m105\u001b[0m\u001b[2m \u001b[0m│ net.blocks.8.conv1.padding  │ PeriodicPadding2D │      0 │\n",
       "│\u001b[2m \u001b[0m\u001b[2m106\u001b[0m\u001b[2m \u001b[0m│ net.blocks.8.conv1.conv     │ Conv2d            │  147 K │\n",
       "│\u001b[2m \u001b[0m\u001b[2m107\u001b[0m\u001b[2m \u001b[0m│ net.blocks.8.conv2          │ PeriodicConv2D    │  147 K │\n",
       "│\u001b[2m \u001b[0m\u001b[2m108\u001b[0m\u001b[2m \u001b[0m│ net.blocks.8.conv2.padding  │ PeriodicPadding2D │      0 │\n",
       "│\u001b[2m \u001b[0m\u001b[2m109\u001b[0m\u001b[2m \u001b[0m│ net.blocks.8.conv2.conv     │ Conv2d            │  147 K │\n",
       "│\u001b[2m \u001b[0m\u001b[2m110\u001b[0m\u001b[2m \u001b[0m│ net.blocks.8.shortcut       │ Identity          │      0 │\n",
       "│\u001b[2m \u001b[0m\u001b[2m111\u001b[0m\u001b[2m \u001b[0m│ net.blocks.8.norm1          │ BatchNorm2d       │    256 │\n",
       "│\u001b[2m \u001b[0m\u001b[2m112\u001b[0m\u001b[2m \u001b[0m│ net.blocks.8.norm2          │ BatchNorm2d       │    256 │\n",
       "│\u001b[2m \u001b[0m\u001b[2m113\u001b[0m\u001b[2m \u001b[0m│ net.blocks.8.drop           │ Dropout           │      0 │\n",
       "│\u001b[2m \u001b[0m\u001b[2m114\u001b[0m\u001b[2m \u001b[0m│ net.blocks.9                │ ResidualBlock     │  295 K │\n",
       "│\u001b[2m \u001b[0m\u001b[2m115\u001b[0m\u001b[2m \u001b[0m│ net.blocks.9.activation     │ LeakyReLU         │      0 │\n",
       "│\u001b[2m \u001b[0m\u001b[2m116\u001b[0m\u001b[2m \u001b[0m│ net.blocks.9.conv1          │ PeriodicConv2D    │  147 K │\n",
       "│\u001b[2m \u001b[0m\u001b[2m117\u001b[0m\u001b[2m \u001b[0m│ net.blocks.9.conv1.padding  │ PeriodicPadding2D │      0 │\n",
       "│\u001b[2m \u001b[0m\u001b[2m118\u001b[0m\u001b[2m \u001b[0m│ net.blocks.9.conv1.conv     │ Conv2d            │  147 K │\n",
       "│\u001b[2m \u001b[0m\u001b[2m119\u001b[0m\u001b[2m \u001b[0m│ net.blocks.9.conv2          │ PeriodicConv2D    │  147 K │\n",
       "│\u001b[2m \u001b[0m\u001b[2m120\u001b[0m\u001b[2m \u001b[0m│ net.blocks.9.conv2.padding  │ PeriodicPadding2D │      0 │\n",
       "│\u001b[2m \u001b[0m\u001b[2m121\u001b[0m\u001b[2m \u001b[0m│ net.blocks.9.conv2.conv     │ Conv2d            │  147 K │\n",
       "│\u001b[2m \u001b[0m\u001b[2m122\u001b[0m\u001b[2m \u001b[0m│ net.blocks.9.shortcut       │ Identity          │      0 │\n",
       "│\u001b[2m \u001b[0m\u001b[2m123\u001b[0m\u001b[2m \u001b[0m│ net.blocks.9.norm1          │ BatchNorm2d       │    256 │\n",
       "│\u001b[2m \u001b[0m\u001b[2m124\u001b[0m\u001b[2m \u001b[0m│ net.blocks.9.norm2          │ BatchNorm2d       │    256 │\n",
       "│\u001b[2m \u001b[0m\u001b[2m125\u001b[0m\u001b[2m \u001b[0m│ net.blocks.9.drop           │ Dropout           │      0 │\n",
       "│\u001b[2m \u001b[0m\u001b[2m126\u001b[0m\u001b[2m \u001b[0m│ net.blocks.10               │ ResidualBlock     │  295 K │\n",
       "│\u001b[2m \u001b[0m\u001b[2m127\u001b[0m\u001b[2m \u001b[0m│ net.blocks.10.activation    │ LeakyReLU         │      0 │\n",
       "│\u001b[2m \u001b[0m\u001b[2m128\u001b[0m\u001b[2m \u001b[0m│ net.blocks.10.conv1         │ PeriodicConv2D    │  147 K │\n",
       "│\u001b[2m \u001b[0m\u001b[2m129\u001b[0m\u001b[2m \u001b[0m│ net.blocks.10.conv1.padding │ PeriodicPadding2D │      0 │\n",
       "│\u001b[2m \u001b[0m\u001b[2m130\u001b[0m\u001b[2m \u001b[0m│ net.blocks.10.conv1.conv    │ Conv2d            │  147 K │\n",
       "│\u001b[2m \u001b[0m\u001b[2m131\u001b[0m\u001b[2m \u001b[0m│ net.blocks.10.conv2         │ PeriodicConv2D    │  147 K │\n",
       "│\u001b[2m \u001b[0m\u001b[2m132\u001b[0m\u001b[2m \u001b[0m│ net.blocks.10.conv2.padding │ PeriodicPadding2D │      0 │\n",
       "│\u001b[2m \u001b[0m\u001b[2m133\u001b[0m\u001b[2m \u001b[0m│ net.blocks.10.conv2.conv    │ Conv2d            │  147 K │\n",
       "│\u001b[2m \u001b[0m\u001b[2m134\u001b[0m\u001b[2m \u001b[0m│ net.blocks.10.shortcut      │ Identity          │      0 │\n",
       "│\u001b[2m \u001b[0m\u001b[2m135\u001b[0m\u001b[2m \u001b[0m│ net.blocks.10.norm1         │ BatchNorm2d       │    256 │\n",
       "│\u001b[2m \u001b[0m\u001b[2m136\u001b[0m\u001b[2m \u001b[0m│ net.blocks.10.norm2         │ BatchNorm2d       │    256 │\n",
       "│\u001b[2m \u001b[0m\u001b[2m137\u001b[0m\u001b[2m \u001b[0m│ net.blocks.10.drop          │ Dropout           │      0 │\n",
       "│\u001b[2m \u001b[0m\u001b[2m138\u001b[0m\u001b[2m \u001b[0m│ net.blocks.11               │ ResidualBlock     │  295 K │\n",
       "│\u001b[2m \u001b[0m\u001b[2m139\u001b[0m\u001b[2m \u001b[0m│ net.blocks.11.activation    │ LeakyReLU         │      0 │\n",
       "│\u001b[2m \u001b[0m\u001b[2m140\u001b[0m\u001b[2m \u001b[0m│ net.blocks.11.conv1         │ PeriodicConv2D    │  147 K │\n",
       "│\u001b[2m \u001b[0m\u001b[2m141\u001b[0m\u001b[2m \u001b[0m│ net.blocks.11.conv1.padding │ PeriodicPadding2D │      0 │\n",
       "│\u001b[2m \u001b[0m\u001b[2m142\u001b[0m\u001b[2m \u001b[0m│ net.blocks.11.conv1.conv    │ Conv2d            │  147 K │\n",
       "│\u001b[2m \u001b[0m\u001b[2m143\u001b[0m\u001b[2m \u001b[0m│ net.blocks.11.conv2         │ PeriodicConv2D    │  147 K │\n",
       "│\u001b[2m \u001b[0m\u001b[2m144\u001b[0m\u001b[2m \u001b[0m│ net.blocks.11.conv2.padding │ PeriodicPadding2D │      0 │\n",
       "│\u001b[2m \u001b[0m\u001b[2m145\u001b[0m\u001b[2m \u001b[0m│ net.blocks.11.conv2.conv    │ Conv2d            │  147 K │\n",
       "│\u001b[2m \u001b[0m\u001b[2m146\u001b[0m\u001b[2m \u001b[0m│ net.blocks.11.shortcut      │ Identity          │      0 │\n",
       "│\u001b[2m \u001b[0m\u001b[2m147\u001b[0m\u001b[2m \u001b[0m│ net.blocks.11.norm1         │ BatchNorm2d       │    256 │\n",
       "│\u001b[2m \u001b[0m\u001b[2m148\u001b[0m\u001b[2m \u001b[0m│ net.blocks.11.norm2         │ BatchNorm2d       │    256 │\n",
       "│\u001b[2m \u001b[0m\u001b[2m149\u001b[0m\u001b[2m \u001b[0m│ net.blocks.11.drop          │ Dropout           │      0 │\n",
       "│\u001b[2m \u001b[0m\u001b[2m150\u001b[0m\u001b[2m \u001b[0m│ net.blocks.12               │ ResidualBlock     │  295 K │\n",
       "│\u001b[2m \u001b[0m\u001b[2m151\u001b[0m\u001b[2m \u001b[0m│ net.blocks.12.activation    │ LeakyReLU         │      0 │\n",
       "│\u001b[2m \u001b[0m\u001b[2m152\u001b[0m\u001b[2m \u001b[0m│ net.blocks.12.conv1         │ PeriodicConv2D    │  147 K │\n",
       "│\u001b[2m \u001b[0m\u001b[2m153\u001b[0m\u001b[2m \u001b[0m│ net.blocks.12.conv1.padding │ PeriodicPadding2D │      0 │\n",
       "│\u001b[2m \u001b[0m\u001b[2m154\u001b[0m\u001b[2m \u001b[0m│ net.blocks.12.conv1.conv    │ Conv2d            │  147 K │\n",
       "│\u001b[2m \u001b[0m\u001b[2m155\u001b[0m\u001b[2m \u001b[0m│ net.blocks.12.conv2         │ PeriodicConv2D    │  147 K │\n",
       "│\u001b[2m \u001b[0m\u001b[2m156\u001b[0m\u001b[2m \u001b[0m│ net.blocks.12.conv2.padding │ PeriodicPadding2D │      0 │\n",
       "│\u001b[2m \u001b[0m\u001b[2m157\u001b[0m\u001b[2m \u001b[0m│ net.blocks.12.conv2.conv    │ Conv2d            │  147 K │\n",
       "│\u001b[2m \u001b[0m\u001b[2m158\u001b[0m\u001b[2m \u001b[0m│ net.blocks.12.shortcut      │ Identity          │      0 │\n",
       "│\u001b[2m \u001b[0m\u001b[2m159\u001b[0m\u001b[2m \u001b[0m│ net.blocks.12.norm1         │ BatchNorm2d       │    256 │\n",
       "│\u001b[2m \u001b[0m\u001b[2m160\u001b[0m\u001b[2m \u001b[0m│ net.blocks.12.norm2         │ BatchNorm2d       │    256 │\n",
       "│\u001b[2m \u001b[0m\u001b[2m161\u001b[0m\u001b[2m \u001b[0m│ net.blocks.12.drop          │ Dropout           │      0 │\n",
       "│\u001b[2m \u001b[0m\u001b[2m162\u001b[0m\u001b[2m \u001b[0m│ net.blocks.13               │ ResidualBlock     │  295 K │\n",
       "│\u001b[2m \u001b[0m\u001b[2m163\u001b[0m\u001b[2m \u001b[0m│ net.blocks.13.activation    │ LeakyReLU         │      0 │\n",
       "│\u001b[2m \u001b[0m\u001b[2m164\u001b[0m\u001b[2m \u001b[0m│ net.blocks.13.conv1         │ PeriodicConv2D    │  147 K │\n",
       "│\u001b[2m \u001b[0m\u001b[2m165\u001b[0m\u001b[2m \u001b[0m│ net.blocks.13.conv1.padding │ PeriodicPadding2D │      0 │\n",
       "│\u001b[2m \u001b[0m\u001b[2m166\u001b[0m\u001b[2m \u001b[0m│ net.blocks.13.conv1.conv    │ Conv2d            │  147 K │\n",
       "│\u001b[2m \u001b[0m\u001b[2m167\u001b[0m\u001b[2m \u001b[0m│ net.blocks.13.conv2         │ PeriodicConv2D    │  147 K │\n",
       "│\u001b[2m \u001b[0m\u001b[2m168\u001b[0m\u001b[2m \u001b[0m│ net.blocks.13.conv2.padding │ PeriodicPadding2D │      0 │\n",
       "│\u001b[2m \u001b[0m\u001b[2m169\u001b[0m\u001b[2m \u001b[0m│ net.blocks.13.conv2.conv    │ Conv2d            │  147 K │\n",
       "│\u001b[2m \u001b[0m\u001b[2m170\u001b[0m\u001b[2m \u001b[0m│ net.blocks.13.shortcut      │ Identity          │      0 │\n",
       "│\u001b[2m \u001b[0m\u001b[2m171\u001b[0m\u001b[2m \u001b[0m│ net.blocks.13.norm1         │ BatchNorm2d       │    256 │\n",
       "│\u001b[2m \u001b[0m\u001b[2m172\u001b[0m\u001b[2m \u001b[0m│ net.blocks.13.norm2         │ BatchNorm2d       │    256 │\n",
       "│\u001b[2m \u001b[0m\u001b[2m173\u001b[0m\u001b[2m \u001b[0m│ net.blocks.13.drop          │ Dropout           │      0 │\n",
       "│\u001b[2m \u001b[0m\u001b[2m174\u001b[0m\u001b[2m \u001b[0m│ net.blocks.14               │ ResidualBlock     │  295 K │\n",
       "│\u001b[2m \u001b[0m\u001b[2m175\u001b[0m\u001b[2m \u001b[0m│ net.blocks.14.activation    │ LeakyReLU         │      0 │\n",
       "│\u001b[2m \u001b[0m\u001b[2m176\u001b[0m\u001b[2m \u001b[0m│ net.blocks.14.conv1         │ PeriodicConv2D    │  147 K │\n",
       "│\u001b[2m \u001b[0m\u001b[2m177\u001b[0m\u001b[2m \u001b[0m│ net.blocks.14.conv1.padding │ PeriodicPadding2D │      0 │\n",
       "│\u001b[2m \u001b[0m\u001b[2m178\u001b[0m\u001b[2m \u001b[0m│ net.blocks.14.conv1.conv    │ Conv2d            │  147 K │\n",
       "│\u001b[2m \u001b[0m\u001b[2m179\u001b[0m\u001b[2m \u001b[0m│ net.blocks.14.conv2         │ PeriodicConv2D    │  147 K │\n",
       "│\u001b[2m \u001b[0m\u001b[2m180\u001b[0m\u001b[2m \u001b[0m│ net.blocks.14.conv2.padding │ PeriodicPadding2D │      0 │\n",
       "│\u001b[2m \u001b[0m\u001b[2m181\u001b[0m\u001b[2m \u001b[0m│ net.blocks.14.conv2.conv    │ Conv2d            │  147 K │\n",
       "│\u001b[2m \u001b[0m\u001b[2m182\u001b[0m\u001b[2m \u001b[0m│ net.blocks.14.shortcut      │ Identity          │      0 │\n",
       "│\u001b[2m \u001b[0m\u001b[2m183\u001b[0m\u001b[2m \u001b[0m│ net.blocks.14.norm1         │ BatchNorm2d       │    256 │\n",
       "│\u001b[2m \u001b[0m\u001b[2m184\u001b[0m\u001b[2m \u001b[0m│ net.blocks.14.norm2         │ BatchNorm2d       │    256 │\n",
       "│\u001b[2m \u001b[0m\u001b[2m185\u001b[0m\u001b[2m \u001b[0m│ net.blocks.14.drop          │ Dropout           │      0 │\n",
       "│\u001b[2m \u001b[0m\u001b[2m186\u001b[0m\u001b[2m \u001b[0m│ net.blocks.15               │ ResidualBlock     │  295 K │\n",
       "│\u001b[2m \u001b[0m\u001b[2m187\u001b[0m\u001b[2m \u001b[0m│ net.blocks.15.activation    │ LeakyReLU         │      0 │\n",
       "│\u001b[2m \u001b[0m\u001b[2m188\u001b[0m\u001b[2m \u001b[0m│ net.blocks.15.conv1         │ PeriodicConv2D    │  147 K │\n",
       "│\u001b[2m \u001b[0m\u001b[2m189\u001b[0m\u001b[2m \u001b[0m│ net.blocks.15.conv1.padding │ PeriodicPadding2D │      0 │\n",
       "│\u001b[2m \u001b[0m\u001b[2m190\u001b[0m\u001b[2m \u001b[0m│ net.blocks.15.conv1.conv    │ Conv2d            │  147 K │\n",
       "│\u001b[2m \u001b[0m\u001b[2m191\u001b[0m\u001b[2m \u001b[0m│ net.blocks.15.conv2         │ PeriodicConv2D    │  147 K │\n",
       "│\u001b[2m \u001b[0m\u001b[2m192\u001b[0m\u001b[2m \u001b[0m│ net.blocks.15.conv2.padding │ PeriodicPadding2D │      0 │\n",
       "│\u001b[2m \u001b[0m\u001b[2m193\u001b[0m\u001b[2m \u001b[0m│ net.blocks.15.conv2.conv    │ Conv2d            │  147 K │\n",
       "│\u001b[2m \u001b[0m\u001b[2m194\u001b[0m\u001b[2m \u001b[0m│ net.blocks.15.shortcut      │ Identity          │      0 │\n",
       "│\u001b[2m \u001b[0m\u001b[2m195\u001b[0m\u001b[2m \u001b[0m│ net.blocks.15.norm1         │ BatchNorm2d       │    256 │\n",
       "│\u001b[2m \u001b[0m\u001b[2m196\u001b[0m\u001b[2m \u001b[0m│ net.blocks.15.norm2         │ BatchNorm2d       │    256 │\n",
       "│\u001b[2m \u001b[0m\u001b[2m197\u001b[0m\u001b[2m \u001b[0m│ net.blocks.15.drop          │ Dropout           │      0 │\n",
       "│\u001b[2m \u001b[0m\u001b[2m198\u001b[0m\u001b[2m \u001b[0m│ net.blocks.16               │ ResidualBlock     │  295 K │\n",
       "│\u001b[2m \u001b[0m\u001b[2m199\u001b[0m\u001b[2m \u001b[0m│ net.blocks.16.activation    │ LeakyReLU         │      0 │\n",
       "│\u001b[2m \u001b[0m\u001b[2m200\u001b[0m\u001b[2m \u001b[0m│ net.blocks.16.conv1         │ PeriodicConv2D    │  147 K │\n",
       "│\u001b[2m \u001b[0m\u001b[2m201\u001b[0m\u001b[2m \u001b[0m│ net.blocks.16.conv1.padding │ PeriodicPadding2D │      0 │\n",
       "│\u001b[2m \u001b[0m\u001b[2m202\u001b[0m\u001b[2m \u001b[0m│ net.blocks.16.conv1.conv    │ Conv2d            │  147 K │\n",
       "│\u001b[2m \u001b[0m\u001b[2m203\u001b[0m\u001b[2m \u001b[0m│ net.blocks.16.conv2         │ PeriodicConv2D    │  147 K │\n",
       "│\u001b[2m \u001b[0m\u001b[2m204\u001b[0m\u001b[2m \u001b[0m│ net.blocks.16.conv2.padding │ PeriodicPadding2D │      0 │\n",
       "│\u001b[2m \u001b[0m\u001b[2m205\u001b[0m\u001b[2m \u001b[0m│ net.blocks.16.conv2.conv    │ Conv2d            │  147 K │\n",
       "│\u001b[2m \u001b[0m\u001b[2m206\u001b[0m\u001b[2m \u001b[0m│ net.blocks.16.shortcut      │ Identity          │      0 │\n",
       "│\u001b[2m \u001b[0m\u001b[2m207\u001b[0m\u001b[2m \u001b[0m│ net.blocks.16.norm1         │ BatchNorm2d       │    256 │\n",
       "│\u001b[2m \u001b[0m\u001b[2m208\u001b[0m\u001b[2m \u001b[0m│ net.blocks.16.norm2         │ BatchNorm2d       │    256 │\n",
       "│\u001b[2m \u001b[0m\u001b[2m209\u001b[0m\u001b[2m \u001b[0m│ net.blocks.16.drop          │ Dropout           │      0 │\n",
       "│\u001b[2m \u001b[0m\u001b[2m210\u001b[0m\u001b[2m \u001b[0m│ net.blocks.17               │ ResidualBlock     │  295 K │\n",
       "│\u001b[2m \u001b[0m\u001b[2m211\u001b[0m\u001b[2m \u001b[0m│ net.blocks.17.activation    │ LeakyReLU         │      0 │\n",
       "│\u001b[2m \u001b[0m\u001b[2m212\u001b[0m\u001b[2m \u001b[0m│ net.blocks.17.conv1         │ PeriodicConv2D    │  147 K │\n",
       "│\u001b[2m \u001b[0m\u001b[2m213\u001b[0m\u001b[2m \u001b[0m│ net.blocks.17.conv1.padding │ PeriodicPadding2D │      0 │\n",
       "│\u001b[2m \u001b[0m\u001b[2m214\u001b[0m\u001b[2m \u001b[0m│ net.blocks.17.conv1.conv    │ Conv2d            │  147 K │\n",
       "│\u001b[2m \u001b[0m\u001b[2m215\u001b[0m\u001b[2m \u001b[0m│ net.blocks.17.conv2         │ PeriodicConv2D    │  147 K │\n",
       "│\u001b[2m \u001b[0m\u001b[2m216\u001b[0m\u001b[2m \u001b[0m│ net.blocks.17.conv2.padding │ PeriodicPadding2D │      0 │\n",
       "│\u001b[2m \u001b[0m\u001b[2m217\u001b[0m\u001b[2m \u001b[0m│ net.blocks.17.conv2.conv    │ Conv2d            │  147 K │\n",
       "│\u001b[2m \u001b[0m\u001b[2m218\u001b[0m\u001b[2m \u001b[0m│ net.blocks.17.shortcut      │ Identity          │      0 │\n",
       "│\u001b[2m \u001b[0m\u001b[2m219\u001b[0m\u001b[2m \u001b[0m│ net.blocks.17.norm1         │ BatchNorm2d       │    256 │\n",
       "│\u001b[2m \u001b[0m\u001b[2m220\u001b[0m\u001b[2m \u001b[0m│ net.blocks.17.norm2         │ BatchNorm2d       │    256 │\n",
       "│\u001b[2m \u001b[0m\u001b[2m221\u001b[0m\u001b[2m \u001b[0m│ net.blocks.17.drop          │ Dropout           │      0 │\n",
       "│\u001b[2m \u001b[0m\u001b[2m222\u001b[0m\u001b[2m \u001b[0m│ net.blocks.18               │ ResidualBlock     │  295 K │\n",
       "│\u001b[2m \u001b[0m\u001b[2m223\u001b[0m\u001b[2m \u001b[0m│ net.blocks.18.activation    │ LeakyReLU         │      0 │\n",
       "│\u001b[2m \u001b[0m\u001b[2m224\u001b[0m\u001b[2m \u001b[0m│ net.blocks.18.conv1         │ PeriodicConv2D    │  147 K │\n",
       "│\u001b[2m \u001b[0m\u001b[2m225\u001b[0m\u001b[2m \u001b[0m│ net.blocks.18.conv1.padding │ PeriodicPadding2D │      0 │\n",
       "│\u001b[2m \u001b[0m\u001b[2m226\u001b[0m\u001b[2m \u001b[0m│ net.blocks.18.conv1.conv    │ Conv2d            │  147 K │\n",
       "│\u001b[2m \u001b[0m\u001b[2m227\u001b[0m\u001b[2m \u001b[0m│ net.blocks.18.conv2         │ PeriodicConv2D    │  147 K │\n",
       "│\u001b[2m \u001b[0m\u001b[2m228\u001b[0m\u001b[2m \u001b[0m│ net.blocks.18.conv2.padding │ PeriodicPadding2D │      0 │\n",
       "│\u001b[2m \u001b[0m\u001b[2m229\u001b[0m\u001b[2m \u001b[0m│ net.blocks.18.conv2.conv    │ Conv2d            │  147 K │\n",
       "│\u001b[2m \u001b[0m\u001b[2m230\u001b[0m\u001b[2m \u001b[0m│ net.blocks.18.shortcut      │ Identity          │      0 │\n",
       "│\u001b[2m \u001b[0m\u001b[2m231\u001b[0m\u001b[2m \u001b[0m│ net.blocks.18.norm1         │ BatchNorm2d       │    256 │\n",
       "│\u001b[2m \u001b[0m\u001b[2m232\u001b[0m\u001b[2m \u001b[0m│ net.blocks.18.norm2         │ BatchNorm2d       │    256 │\n",
       "│\u001b[2m \u001b[0m\u001b[2m233\u001b[0m\u001b[2m \u001b[0m│ net.blocks.18.drop          │ Dropout           │      0 │\n",
       "│\u001b[2m \u001b[0m\u001b[2m234\u001b[0m\u001b[2m \u001b[0m│ net.norm                    │ BatchNorm2d       │    256 │\n",
       "│\u001b[2m \u001b[0m\u001b[2m235\u001b[0m\u001b[2m \u001b[0m│ net.final                   │ PeriodicConv2D    │ 18.8 K │\n",
       "│\u001b[2m \u001b[0m\u001b[2m236\u001b[0m\u001b[2m \u001b[0m│ net.final.padding           │ PeriodicPadding2D │      0 │\n",
       "│\u001b[2m \u001b[0m\u001b[2m237\u001b[0m\u001b[2m \u001b[0m│ net.final.conv              │ Conv2d            │ 18.8 K │\n",
       "│\u001b[2m \u001b[0m\u001b[2m238\u001b[0m\u001b[2m \u001b[0m│ denormalization             │ Normalize         │      0 │\n",
       "│\u001b[2m \u001b[0m\u001b[2m239\u001b[0m\u001b[2m \u001b[0m│ mean_denormalize            │ Normalize         │      0 │\n",
       "│\u001b[2m \u001b[0m\u001b[2m240\u001b[0m\u001b[2m \u001b[0m│ std_denormalize             │ Normalize         │      0 │\n",
       "└─────┴─────────────────────────────┴───────────────────┴────────┘\n"
      ]
     },
     "metadata": {},
     "output_type": "display_data"
    },
    {
     "data": {
      "text/html": [
       "<pre style=\"white-space:pre;overflow-x:auto;line-height:normal;font-family:Menlo,'DejaVu Sans Mono',consolas,'Courier New',monospace\"><span style=\"font-weight: bold\">Trainable params</span>: 5.7 M                                                                      \n",
       "<span style=\"font-weight: bold\">Non-trainable params</span>: 0                                                                      \n",
       "<span style=\"font-weight: bold\">Total params</span>: 5.7 M                                                                          \n",
       "<span style=\"font-weight: bold\">Total estimated model params size (MB)</span>: 11                                                   \n",
       "</pre>\n"
      ],
      "text/plain": [
       "\u001b[1mTrainable params\u001b[0m: 5.7 M                                                                      \n",
       "\u001b[1mNon-trainable params\u001b[0m: 0                                                                      \n",
       "\u001b[1mTotal params\u001b[0m: 5.7 M                                                                          \n",
       "\u001b[1mTotal estimated model params size (MB)\u001b[0m: 11                                                   \n"
      ]
     },
     "metadata": {},
     "output_type": "display_data"
    },
    {
     "data": {
      "application/vnd.jupyter.widget-view+json": {
       "model_id": "7a5a790640bc4e3a96942849b79306c8",
       "version_major": 2,
       "version_minor": 0
      },
      "text/plain": [
       "Output()"
      ]
     },
     "metadata": {},
     "output_type": "display_data"
    },
    {
     "data": {
      "text/html": [
       "<pre style=\"white-space:pre;overflow-x:auto;line-height:normal;font-family:Menlo,'DejaVu Sans Mono',consolas,'Courier New',monospace\"></pre>\n"
      ],
      "text/plain": []
     },
     "metadata": {},
     "output_type": "display_data"
    },
    {
     "data": {
      "text/html": [
       "<pre style=\"white-space:pre;overflow-x:auto;line-height:normal;font-family:Menlo,'DejaVu Sans Mono',consolas,'Courier New',monospace\">\n",
       "</pre>\n"
      ],
      "text/plain": [
       "\n"
      ]
     },
     "metadata": {},
     "output_type": "display_data"
    }
   ],
   "source": [
    "era5_trainer.fit(era5_model_module, era5_data_module)"
   ]
  },
  {
   "cell_type": "code",
   "execution_count": 24,
   "id": "f4432e38",
   "metadata": {},
   "outputs": [],
   "source": [
    "fit_lin_reg_baseline(era5_model_module, era5_data_module, reg_hparam=0.0)"
   ]
  },
  {
   "cell_type": "markdown",
   "id": "963d30f8",
   "metadata": {},
   "source": [
    "# Data\n",
    "\n",
    "Days: 5, Var: temp 850, model: resnet\n",
    "\n",
    "train_start_year = 1979 / 1979, val_start_year = 2012, test_start_year = 2013, end_year = 2014"
   ]
  },
  {
   "cell_type": "code",
   "execution_count": 25,
   "id": "9cc67197",
   "metadata": {
    "scrolled": true
   },
   "outputs": [
    {
     "data": {
      "application/vnd.jupyter.widget-view+json": {
       "model_id": "cf79c098483b4115ab94bfc5ce269744",
       "version_major": 2,
       "version_minor": 0
      },
      "text/plain": [
       "Output()"
      ]
     },
     "metadata": {},
     "output_type": "display_data"
    },
    {
     "data": {
      "text/html": [
       "<pre style=\"white-space:pre;overflow-x:auto;line-height:normal;font-family:Menlo,'DejaVu Sans Mono',consolas,'Courier New',monospace\">┏━━━━━━━━━━━━━━━━━━━━━━━━━━━━━━━━━━━━━━━━━━━━━┳━━━━━━━━━━━━━━━━━━━━━━━━━━━━━━━━━━━━━━━━━━━━━┓\n",
       "┃<span style=\"font-weight: bold\">                 Test metric                 </span>┃<span style=\"font-weight: bold\">                DataLoader 0                 </span>┃\n",
       "┡━━━━━━━━━━━━━━━━━━━━━━━━━━━━━━━━━━━━━━━━━━━━━╇━━━━━━━━━━━━━━━━━━━━━━━━━━━━━━━━━━━━━━━━━━━━━┩\n",
       "│<span style=\"color: #008080; text-decoration-color: #008080\">        test/acc_2m_temperature_day_3        </span>│<span style=\"color: #800080; text-decoration-color: #800080\">             0.8107210703657786              </span>│\n",
       "│<span style=\"color: #008080; text-decoration-color: #008080\">       test/acc_geopotential_500_day_3       </span>│<span style=\"color: #800080; text-decoration-color: #800080\">             0.48953478376442333             </span>│\n",
       "│<span style=\"color: #008080; text-decoration-color: #008080\">       test/acc_temperature_850_day_3        </span>│<span style=\"color: #800080; text-decoration-color: #800080\">             0.6107390599467657              </span>│\n",
       "│<span style=\"color: #008080; text-decoration-color: #008080\">      test/w_rmse_2m_temperature_day_3       </span>│<span style=\"color: #800080; text-decoration-color: #800080\">             3.3500194130329586              </span>│\n",
       "│<span style=\"color: #008080; text-decoration-color: #008080\">     test/w_rmse_geopotential_500_day_3      </span>│<span style=\"color: #800080; text-decoration-color: #800080\">             1010.1774194620833              </span>│\n",
       "│<span style=\"color: #008080; text-decoration-color: #008080\">      test/w_rmse_temperature_850_day_3      </span>│<span style=\"color: #800080; text-decoration-color: #800080\">              4.286434214356342              </span>│\n",
       "│<span style=\"color: #008080; text-decoration-color: #008080\"> test_persistence_baseline/w_rmse_2m_temper… </span>│<span style=\"color: #800080; text-decoration-color: #800080\">              4.539468185748448              </span>│\n",
       "│<span style=\"color: #008080; text-decoration-color: #008080\"> test_persistence_baseline/w_rmse_geopotent… </span>│<span style=\"color: #800080; text-decoration-color: #800080\">             1131.7358679580643              </span>│\n",
       "│<span style=\"color: #008080; text-decoration-color: #008080\"> test_persistence_baseline/w_rmse_temperatu… </span>│<span style=\"color: #800080; text-decoration-color: #800080\">              5.110162641210476              </span>│\n",
       "│<span style=\"color: #008080; text-decoration-color: #008080\"> test_ridge_regression_baseline/w_rmse_2m_t… </span>│<span style=\"color: #800080; text-decoration-color: #800080\">              78.45677302864252              </span>│\n",
       "│<span style=\"color: #008080; text-decoration-color: #008080\"> test_ridge_regression_baseline/w_rmse_geop… </span>│<span style=\"color: #800080; text-decoration-color: #800080\">              40249.90188265724              </span>│\n",
       "│<span style=\"color: #008080; text-decoration-color: #008080\"> test_ridge_regression_baseline/w_rmse_temp… </span>│<span style=\"color: #800080; text-decoration-color: #800080\">              65.19058513485234              </span>│\n",
       "└─────────────────────────────────────────────┴─────────────────────────────────────────────┘\n",
       "</pre>\n"
      ],
      "text/plain": [
       "┏━━━━━━━━━━━━━━━━━━━━━━━━━━━━━━━━━━━━━━━━━━━━━┳━━━━━━━━━━━━━━━━━━━━━━━━━━━━━━━━━━━━━━━━━━━━━┓\n",
       "┃\u001b[1m \u001b[0m\u001b[1m                Test metric                \u001b[0m\u001b[1m \u001b[0m┃\u001b[1m \u001b[0m\u001b[1m               DataLoader 0                \u001b[0m\u001b[1m \u001b[0m┃\n",
       "┡━━━━━━━━━━━━━━━━━━━━━━━━━━━━━━━━━━━━━━━━━━━━━╇━━━━━━━━━━━━━━━━━━━━━━━━━━━━━━━━━━━━━━━━━━━━━┩\n",
       "│\u001b[36m \u001b[0m\u001b[36m       test/acc_2m_temperature_day_3       \u001b[0m\u001b[36m \u001b[0m│\u001b[35m \u001b[0m\u001b[35m            0.8107210703657786             \u001b[0m\u001b[35m \u001b[0m│\n",
       "│\u001b[36m \u001b[0m\u001b[36m      test/acc_geopotential_500_day_3      \u001b[0m\u001b[36m \u001b[0m│\u001b[35m \u001b[0m\u001b[35m            0.48953478376442333            \u001b[0m\u001b[35m \u001b[0m│\n",
       "│\u001b[36m \u001b[0m\u001b[36m      test/acc_temperature_850_day_3       \u001b[0m\u001b[36m \u001b[0m│\u001b[35m \u001b[0m\u001b[35m            0.6107390599467657             \u001b[0m\u001b[35m \u001b[0m│\n",
       "│\u001b[36m \u001b[0m\u001b[36m     test/w_rmse_2m_temperature_day_3      \u001b[0m\u001b[36m \u001b[0m│\u001b[35m \u001b[0m\u001b[35m            3.3500194130329586             \u001b[0m\u001b[35m \u001b[0m│\n",
       "│\u001b[36m \u001b[0m\u001b[36m    test/w_rmse_geopotential_500_day_3     \u001b[0m\u001b[36m \u001b[0m│\u001b[35m \u001b[0m\u001b[35m            1010.1774194620833             \u001b[0m\u001b[35m \u001b[0m│\n",
       "│\u001b[36m \u001b[0m\u001b[36m     test/w_rmse_temperature_850_day_3     \u001b[0m\u001b[36m \u001b[0m│\u001b[35m \u001b[0m\u001b[35m             4.286434214356342             \u001b[0m\u001b[35m \u001b[0m│\n",
       "│\u001b[36m \u001b[0m\u001b[36mtest_persistence_baseline/w_rmse_2m_temper…\u001b[0m\u001b[36m \u001b[0m│\u001b[35m \u001b[0m\u001b[35m             4.539468185748448             \u001b[0m\u001b[35m \u001b[0m│\n",
       "│\u001b[36m \u001b[0m\u001b[36mtest_persistence_baseline/w_rmse_geopotent…\u001b[0m\u001b[36m \u001b[0m│\u001b[35m \u001b[0m\u001b[35m            1131.7358679580643             \u001b[0m\u001b[35m \u001b[0m│\n",
       "│\u001b[36m \u001b[0m\u001b[36mtest_persistence_baseline/w_rmse_temperatu…\u001b[0m\u001b[36m \u001b[0m│\u001b[35m \u001b[0m\u001b[35m             5.110162641210476             \u001b[0m\u001b[35m \u001b[0m│\n",
       "│\u001b[36m \u001b[0m\u001b[36mtest_ridge_regression_baseline/w_rmse_2m_t…\u001b[0m\u001b[36m \u001b[0m│\u001b[35m \u001b[0m\u001b[35m             78.45677302864252             \u001b[0m\u001b[35m \u001b[0m│\n",
       "│\u001b[36m \u001b[0m\u001b[36mtest_ridge_regression_baseline/w_rmse_geop…\u001b[0m\u001b[36m \u001b[0m│\u001b[35m \u001b[0m\u001b[35m             40249.90188265724             \u001b[0m\u001b[35m \u001b[0m│\n",
       "│\u001b[36m \u001b[0m\u001b[36mtest_ridge_regression_baseline/w_rmse_temp…\u001b[0m\u001b[36m \u001b[0m│\u001b[35m \u001b[0m\u001b[35m             65.19058513485234             \u001b[0m\u001b[35m \u001b[0m│\n",
       "└─────────────────────────────────────────────┴─────────────────────────────────────────────┘\n"
      ]
     },
     "metadata": {},
     "output_type": "display_data"
    },
    {
     "data": {
      "text/html": [
       "<pre style=\"white-space:pre;overflow-x:auto;line-height:normal;font-family:Menlo,'DejaVu Sans Mono',consolas,'Courier New',monospace\"></pre>\n"
      ],
      "text/plain": []
     },
     "metadata": {},
     "output_type": "display_data"
    },
    {
     "data": {
      "text/html": [
       "<pre style=\"white-space:pre;overflow-x:auto;line-height:normal;font-family:Menlo,'DejaVu Sans Mono',consolas,'Courier New',monospace\">\n",
       "</pre>\n"
      ],
      "text/plain": [
       "\n"
      ]
     },
     "metadata": {},
     "output_type": "display_data"
    }
   ],
   "source": [
    "# cmip -> era\n",
    "cmip_trainer.test(cmip_model_module, era5_data_module)"
   ]
  },
  {
   "cell_type": "code",
   "execution_count": 26,
   "id": "91ca0342",
   "metadata": {
    "scrolled": true
   },
   "outputs": [
    {
     "data": {
      "application/vnd.jupyter.widget-view+json": {
       "model_id": "59255315e15541aea807b296afd45faf",
       "version_major": 2,
       "version_minor": 0
      },
      "text/plain": [
       "Output()"
      ]
     },
     "metadata": {},
     "output_type": "display_data"
    },
    {
     "data": {
      "text/html": [
       "<pre style=\"white-space:pre;overflow-x:auto;line-height:normal;font-family:Menlo,'DejaVu Sans Mono',consolas,'Courier New',monospace\">┏━━━━━━━━━━━━━━━━━━━━━━━━━━━━━━━━━━━━━━━━━━━━━┳━━━━━━━━━━━━━━━━━━━━━━━━━━━━━━━━━━━━━━━━━━━━━┓\n",
       "┃<span style=\"font-weight: bold\">                 Test metric                 </span>┃<span style=\"font-weight: bold\">                DataLoader 0                 </span>┃\n",
       "┡━━━━━━━━━━━━━━━━━━━━━━━━━━━━━━━━━━━━━━━━━━━━━╇━━━━━━━━━━━━━━━━━━━━━━━━━━━━━━━━━━━━━━━━━━━━━┩\n",
       "│<span style=\"color: #008080; text-decoration-color: #008080\">        test/acc_2m_temperature_day_3        </span>│<span style=\"color: #800080; text-decoration-color: #800080\">             0.8381540307283244              </span>│\n",
       "│<span style=\"color: #008080; text-decoration-color: #008080\">       test/acc_geopotential_500_day_3       </span>│<span style=\"color: #800080; text-decoration-color: #800080\">             0.5541038881354717              </span>│\n",
       "│<span style=\"color: #008080; text-decoration-color: #008080\">       test/acc_temperature_850_day_3        </span>│<span style=\"color: #800080; text-decoration-color: #800080\">             0.6749115243032309              </span>│\n",
       "│<span style=\"color: #008080; text-decoration-color: #008080\">      test/w_rmse_2m_temperature_day_3       </span>│<span style=\"color: #800080; text-decoration-color: #800080\">             2.8984720029997706              </span>│\n",
       "│<span style=\"color: #008080; text-decoration-color: #008080\">     test/w_rmse_geopotential_500_day_3      </span>│<span style=\"color: #800080; text-decoration-color: #800080\">              834.6526452506582              </span>│\n",
       "│<span style=\"color: #008080; text-decoration-color: #008080\">      test/w_rmse_temperature_850_day_3      </span>│<span style=\"color: #800080; text-decoration-color: #800080\">             3.5750410151385323              </span>│\n",
       "│<span style=\"color: #008080; text-decoration-color: #008080\"> test_persistence_baseline/w_rmse_2m_temper… </span>│<span style=\"color: #800080; text-decoration-color: #800080\">              4.460446957206656              </span>│\n",
       "│<span style=\"color: #008080; text-decoration-color: #008080\"> test_persistence_baseline/w_rmse_geopotent… </span>│<span style=\"color: #800080; text-decoration-color: #800080\">             1124.7930564391704              </span>│\n",
       "│<span style=\"color: #008080; text-decoration-color: #008080\"> test_persistence_baseline/w_rmse_temperatu… </span>│<span style=\"color: #800080; text-decoration-color: #800080\">              4.957310029289739              </span>│\n",
       "│<span style=\"color: #008080; text-decoration-color: #008080\"> test_ridge_regression_baseline/w_rmse_2m_t… </span>│<span style=\"color: #800080; text-decoration-color: #800080\">             15.429813134100284              </span>│\n",
       "│<span style=\"color: #008080; text-decoration-color: #008080\"> test_ridge_regression_baseline/w_rmse_geop… </span>│<span style=\"color: #800080; text-decoration-color: #800080\">             2070.8682377607124              </span>│\n",
       "│<span style=\"color: #008080; text-decoration-color: #008080\"> test_ridge_regression_baseline/w_rmse_temp… </span>│<span style=\"color: #800080; text-decoration-color: #800080\">             13.505711190012667              </span>│\n",
       "└─────────────────────────────────────────────┴─────────────────────────────────────────────┘\n",
       "</pre>\n"
      ],
      "text/plain": [
       "┏━━━━━━━━━━━━━━━━━━━━━━━━━━━━━━━━━━━━━━━━━━━━━┳━━━━━━━━━━━━━━━━━━━━━━━━━━━━━━━━━━━━━━━━━━━━━┓\n",
       "┃\u001b[1m \u001b[0m\u001b[1m                Test metric                \u001b[0m\u001b[1m \u001b[0m┃\u001b[1m \u001b[0m\u001b[1m               DataLoader 0                \u001b[0m\u001b[1m \u001b[0m┃\n",
       "┡━━━━━━━━━━━━━━━━━━━━━━━━━━━━━━━━━━━━━━━━━━━━━╇━━━━━━━━━━━━━━━━━━━━━━━━━━━━━━━━━━━━━━━━━━━━━┩\n",
       "│\u001b[36m \u001b[0m\u001b[36m       test/acc_2m_temperature_day_3       \u001b[0m\u001b[36m \u001b[0m│\u001b[35m \u001b[0m\u001b[35m            0.8381540307283244             \u001b[0m\u001b[35m \u001b[0m│\n",
       "│\u001b[36m \u001b[0m\u001b[36m      test/acc_geopotential_500_day_3      \u001b[0m\u001b[36m \u001b[0m│\u001b[35m \u001b[0m\u001b[35m            0.5541038881354717             \u001b[0m\u001b[35m \u001b[0m│\n",
       "│\u001b[36m \u001b[0m\u001b[36m      test/acc_temperature_850_day_3       \u001b[0m\u001b[36m \u001b[0m│\u001b[35m \u001b[0m\u001b[35m            0.6749115243032309             \u001b[0m\u001b[35m \u001b[0m│\n",
       "│\u001b[36m \u001b[0m\u001b[36m     test/w_rmse_2m_temperature_day_3      \u001b[0m\u001b[36m \u001b[0m│\u001b[35m \u001b[0m\u001b[35m            2.8984720029997706             \u001b[0m\u001b[35m \u001b[0m│\n",
       "│\u001b[36m \u001b[0m\u001b[36m    test/w_rmse_geopotential_500_day_3     \u001b[0m\u001b[36m \u001b[0m│\u001b[35m \u001b[0m\u001b[35m             834.6526452506582             \u001b[0m\u001b[35m \u001b[0m│\n",
       "│\u001b[36m \u001b[0m\u001b[36m     test/w_rmse_temperature_850_day_3     \u001b[0m\u001b[36m \u001b[0m│\u001b[35m \u001b[0m\u001b[35m            3.5750410151385323             \u001b[0m\u001b[35m \u001b[0m│\n",
       "│\u001b[36m \u001b[0m\u001b[36mtest_persistence_baseline/w_rmse_2m_temper…\u001b[0m\u001b[36m \u001b[0m│\u001b[35m \u001b[0m\u001b[35m             4.460446957206656             \u001b[0m\u001b[35m \u001b[0m│\n",
       "│\u001b[36m \u001b[0m\u001b[36mtest_persistence_baseline/w_rmse_geopotent…\u001b[0m\u001b[36m \u001b[0m│\u001b[35m \u001b[0m\u001b[35m            1124.7930564391704             \u001b[0m\u001b[35m \u001b[0m│\n",
       "│\u001b[36m \u001b[0m\u001b[36mtest_persistence_baseline/w_rmse_temperatu…\u001b[0m\u001b[36m \u001b[0m│\u001b[35m \u001b[0m\u001b[35m             4.957310029289739             \u001b[0m\u001b[35m \u001b[0m│\n",
       "│\u001b[36m \u001b[0m\u001b[36mtest_ridge_regression_baseline/w_rmse_2m_t…\u001b[0m\u001b[36m \u001b[0m│\u001b[35m \u001b[0m\u001b[35m            15.429813134100284             \u001b[0m\u001b[35m \u001b[0m│\n",
       "│\u001b[36m \u001b[0m\u001b[36mtest_ridge_regression_baseline/w_rmse_geop…\u001b[0m\u001b[36m \u001b[0m│\u001b[35m \u001b[0m\u001b[35m            2070.8682377607124             \u001b[0m\u001b[35m \u001b[0m│\n",
       "│\u001b[36m \u001b[0m\u001b[36mtest_ridge_regression_baseline/w_rmse_temp…\u001b[0m\u001b[36m \u001b[0m│\u001b[35m \u001b[0m\u001b[35m            13.505711190012667             \u001b[0m\u001b[35m \u001b[0m│\n",
       "└─────────────────────────────────────────────┴─────────────────────────────────────────────┘\n"
      ]
     },
     "metadata": {},
     "output_type": "display_data"
    },
    {
     "data": {
      "text/html": [
       "<pre style=\"white-space:pre;overflow-x:auto;line-height:normal;font-family:Menlo,'DejaVu Sans Mono',consolas,'Courier New',monospace\"></pre>\n"
      ],
      "text/plain": []
     },
     "metadata": {},
     "output_type": "display_data"
    },
    {
     "data": {
      "text/html": [
       "<pre style=\"white-space:pre;overflow-x:auto;line-height:normal;font-family:Menlo,'DejaVu Sans Mono',consolas,'Courier New',monospace\">\n",
       "</pre>\n"
      ],
      "text/plain": [
       "\n"
      ]
     },
     "metadata": {},
     "output_type": "display_data"
    }
   ],
   "source": [
    "# era -> era\n",
    "era5_trainer.test(era5_model_module, era5_data_module)"
   ]
  },
  {
   "cell_type": "code",
   "execution_count": 22,
   "id": "f8736d24",
   "metadata": {},
   "outputs": [
    {
     "data": {
      "application/vnd.jupyter.widget-view+json": {
       "model_id": "73151b32c6104111847096b376402127",
       "version_major": 2,
       "version_minor": 0
      },
      "text/plain": [
       "Output()"
      ]
     },
     "metadata": {},
     "output_type": "display_data"
    },
    {
     "data": {
      "text/html": [
       "<pre style=\"white-space:pre;overflow-x:auto;line-height:normal;font-family:Menlo,'DejaVu Sans Mono',consolas,'Courier New',monospace\">┏━━━━━━━━━━━━━━━━━━━━━━━━━━━━━━━━━━━━━━━━━━━━━┳━━━━━━━━━━━━━━━━━━━━━━━━━━━━━━━━━━━━━━━━━━━━━┓\n",
       "┃<span style=\"font-weight: bold\">                 Test metric                 </span>┃<span style=\"font-weight: bold\">                DataLoader 0                 </span>┃\n",
       "┡━━━━━━━━━━━━━━━━━━━━━━━━━━━━━━━━━━━━━━━━━━━━━╇━━━━━━━━━━━━━━━━━━━━━━━━━━━━━━━━━━━━━━━━━━━━━┩\n",
       "│<span style=\"color: #008080; text-decoration-color: #008080\">       test/acc_air_temperature_day_3        </span>│<span style=\"color: #800080; text-decoration-color: #800080\">              0.943422429245578              </span>│\n",
       "│<span style=\"color: #008080; text-decoration-color: #008080\">       test/acc_geopotential_500_day_3       </span>│<span style=\"color: #800080; text-decoration-color: #800080\">             0.9640222720595856              </span>│\n",
       "│<span style=\"color: #008080; text-decoration-color: #008080\">       test/acc_temperature_850_day_3        </span>│<span style=\"color: #800080; text-decoration-color: #800080\">             0.9384346455672873              </span>│\n",
       "│<span style=\"color: #008080; text-decoration-color: #008080\">      test/w_rmse_air_temperature_day_3      </span>│<span style=\"color: #800080; text-decoration-color: #800080\">              1.723953769153641              </span>│\n",
       "│<span style=\"color: #008080; text-decoration-color: #008080\">     test/w_rmse_geopotential_500_day_3      </span>│<span style=\"color: #800080; text-decoration-color: #800080\">             312.54694089968086              </span>│\n",
       "│<span style=\"color: #008080; text-decoration-color: #008080\">      test/w_rmse_temperature_850_day_3      </span>│<span style=\"color: #800080; text-decoration-color: #800080\">             1.8014642702876726              </span>│\n",
       "│<span style=\"color: #008080; text-decoration-color: #008080\"> test_persistence_baseline/w_rmse_air_tempe… </span>│<span style=\"color: #800080; text-decoration-color: #800080\">              4.250243936938531              </span>│\n",
       "│<span style=\"color: #008080; text-decoration-color: #008080\"> test_persistence_baseline/w_rmse_geopotent… </span>│<span style=\"color: #800080; text-decoration-color: #800080\">             1220.3341714837843              </span>│\n",
       "│<span style=\"color: #008080; text-decoration-color: #008080\"> test_persistence_baseline/w_rmse_temperatu… </span>│<span style=\"color: #800080; text-decoration-color: #800080\">              5.010411231265007              </span>│\n",
       "│<span style=\"color: #008080; text-decoration-color: #008080\"> test_ridge_regression_baseline/w_rmse_air_… </span>│<span style=\"color: #800080; text-decoration-color: #800080\">              78.53497865903158              </span>│\n",
       "│<span style=\"color: #008080; text-decoration-color: #008080\"> test_ridge_regression_baseline/w_rmse_geop… </span>│<span style=\"color: #800080; text-decoration-color: #800080\">             40276.621985431484              </span>│\n",
       "│<span style=\"color: #008080; text-decoration-color: #008080\"> test_ridge_regression_baseline/w_rmse_temp… </span>│<span style=\"color: #800080; text-decoration-color: #800080\">              65.27743891915748              </span>│\n",
       "└─────────────────────────────────────────────┴─────────────────────────────────────────────┘\n",
       "</pre>\n"
      ],
      "text/plain": [
       "┏━━━━━━━━━━━━━━━━━━━━━━━━━━━━━━━━━━━━━━━━━━━━━┳━━━━━━━━━━━━━━━━━━━━━━━━━━━━━━━━━━━━━━━━━━━━━┓\n",
       "┃\u001b[1m \u001b[0m\u001b[1m                Test metric                \u001b[0m\u001b[1m \u001b[0m┃\u001b[1m \u001b[0m\u001b[1m               DataLoader 0                \u001b[0m\u001b[1m \u001b[0m┃\n",
       "┡━━━━━━━━━━━━━━━━━━━━━━━━━━━━━━━━━━━━━━━━━━━━━╇━━━━━━━━━━━━━━━━━━━━━━━━━━━━━━━━━━━━━━━━━━━━━┩\n",
       "│\u001b[36m \u001b[0m\u001b[36m      test/acc_air_temperature_day_3       \u001b[0m\u001b[36m \u001b[0m│\u001b[35m \u001b[0m\u001b[35m             0.943422429245578             \u001b[0m\u001b[35m \u001b[0m│\n",
       "│\u001b[36m \u001b[0m\u001b[36m      test/acc_geopotential_500_day_3      \u001b[0m\u001b[36m \u001b[0m│\u001b[35m \u001b[0m\u001b[35m            0.9640222720595856             \u001b[0m\u001b[35m \u001b[0m│\n",
       "│\u001b[36m \u001b[0m\u001b[36m      test/acc_temperature_850_day_3       \u001b[0m\u001b[36m \u001b[0m│\u001b[35m \u001b[0m\u001b[35m            0.9384346455672873             \u001b[0m\u001b[35m \u001b[0m│\n",
       "│\u001b[36m \u001b[0m\u001b[36m     test/w_rmse_air_temperature_day_3     \u001b[0m\u001b[36m \u001b[0m│\u001b[35m \u001b[0m\u001b[35m             1.723953769153641             \u001b[0m\u001b[35m \u001b[0m│\n",
       "│\u001b[36m \u001b[0m\u001b[36m    test/w_rmse_geopotential_500_day_3     \u001b[0m\u001b[36m \u001b[0m│\u001b[35m \u001b[0m\u001b[35m            312.54694089968086             \u001b[0m\u001b[35m \u001b[0m│\n",
       "│\u001b[36m \u001b[0m\u001b[36m     test/w_rmse_temperature_850_day_3     \u001b[0m\u001b[36m \u001b[0m│\u001b[35m \u001b[0m\u001b[35m            1.8014642702876726             \u001b[0m\u001b[35m \u001b[0m│\n",
       "│\u001b[36m \u001b[0m\u001b[36mtest_persistence_baseline/w_rmse_air_tempe…\u001b[0m\u001b[36m \u001b[0m│\u001b[35m \u001b[0m\u001b[35m             4.250243936938531             \u001b[0m\u001b[35m \u001b[0m│\n",
       "│\u001b[36m \u001b[0m\u001b[36mtest_persistence_baseline/w_rmse_geopotent…\u001b[0m\u001b[36m \u001b[0m│\u001b[35m \u001b[0m\u001b[35m            1220.3341714837843             \u001b[0m\u001b[35m \u001b[0m│\n",
       "│\u001b[36m \u001b[0m\u001b[36mtest_persistence_baseline/w_rmse_temperatu…\u001b[0m\u001b[36m \u001b[0m│\u001b[35m \u001b[0m\u001b[35m             5.010411231265007             \u001b[0m\u001b[35m \u001b[0m│\n",
       "│\u001b[36m \u001b[0m\u001b[36mtest_ridge_regression_baseline/w_rmse_air_…\u001b[0m\u001b[36m \u001b[0m│\u001b[35m \u001b[0m\u001b[35m             78.53497865903158             \u001b[0m\u001b[35m \u001b[0m│\n",
       "│\u001b[36m \u001b[0m\u001b[36mtest_ridge_regression_baseline/w_rmse_geop…\u001b[0m\u001b[36m \u001b[0m│\u001b[35m \u001b[0m\u001b[35m            40276.621985431484             \u001b[0m\u001b[35m \u001b[0m│\n",
       "│\u001b[36m \u001b[0m\u001b[36mtest_ridge_regression_baseline/w_rmse_temp…\u001b[0m\u001b[36m \u001b[0m│\u001b[35m \u001b[0m\u001b[35m             65.27743891915748             \u001b[0m\u001b[35m \u001b[0m│\n",
       "└─────────────────────────────────────────────┴─────────────────────────────────────────────┘\n"
      ]
     },
     "metadata": {},
     "output_type": "display_data"
    },
    {
     "data": {
      "text/html": [
       "<pre style=\"white-space:pre;overflow-x:auto;line-height:normal;font-family:Menlo,'DejaVu Sans Mono',consolas,'Courier New',monospace\"></pre>\n"
      ],
      "text/plain": []
     },
     "metadata": {},
     "output_type": "display_data"
    },
    {
     "data": {
      "text/html": [
       "<pre style=\"white-space:pre;overflow-x:auto;line-height:normal;font-family:Menlo,'DejaVu Sans Mono',consolas,'Courier New',monospace\">\n",
       "</pre>\n"
      ],
      "text/plain": [
       "\n"
      ]
     },
     "metadata": {},
     "output_type": "display_data"
    }
   ],
   "source": [
    "# cmip -> cmip\n",
    "cmip_trainer.test(cmip_model_module, cmip6_data_module)"
   ]
  },
  {
   "cell_type": "code",
   "execution_count": 27,
   "id": "766acc56",
   "metadata": {},
   "outputs": [
    {
     "data": {
      "application/vnd.jupyter.widget-view+json": {
       "model_id": "6ce130a014f046e18fe798d508bde8cf",
       "version_major": 2,
       "version_minor": 0
      },
      "text/plain": [
       "Output()"
      ]
     },
     "metadata": {},
     "output_type": "display_data"
    },
    {
     "data": {
      "text/html": [
       "<pre style=\"white-space:pre;overflow-x:auto;line-height:normal;font-family:Menlo,'DejaVu Sans Mono',consolas,'Courier New',monospace\">┏━━━━━━━━━━━━━━━━━━━━━━━━━━━━━━━━━━━━━━━━━━━━━┳━━━━━━━━━━━━━━━━━━━━━━━━━━━━━━━━━━━━━━━━━━━━━┓\n",
       "┃<span style=\"font-weight: bold\">                 Test metric                 </span>┃<span style=\"font-weight: bold\">                DataLoader 0                 </span>┃\n",
       "┡━━━━━━━━━━━━━━━━━━━━━━━━━━━━━━━━━━━━━━━━━━━━━╇━━━━━━━━━━━━━━━━━━━━━━━━━━━━━━━━━━━━━━━━━━━━━┩\n",
       "│<span style=\"color: #008080; text-decoration-color: #008080\">       test/acc_air_temperature_day_3        </span>│<span style=\"color: #800080; text-decoration-color: #800080\">             0.8316408819007174              </span>│\n",
       "│<span style=\"color: #008080; text-decoration-color: #008080\">       test/acc_geopotential_500_day_3       </span>│<span style=\"color: #800080; text-decoration-color: #800080\">             0.5522263061352618              </span>│\n",
       "│<span style=\"color: #008080; text-decoration-color: #008080\">       test/acc_temperature_850_day_3        </span>│<span style=\"color: #800080; text-decoration-color: #800080\">              0.693716597671046              </span>│\n",
       "│<span style=\"color: #008080; text-decoration-color: #008080\">      test/w_rmse_air_temperature_day_3      </span>│<span style=\"color: #800080; text-decoration-color: #800080\">              3.03910333647438               </span>│\n",
       "│<span style=\"color: #008080; text-decoration-color: #008080\">     test/w_rmse_geopotential_500_day_3      </span>│<span style=\"color: #800080; text-decoration-color: #800080\">              919.0756713192048              </span>│\n",
       "│<span style=\"color: #008080; text-decoration-color: #008080\">      test/w_rmse_temperature_850_day_3      </span>│<span style=\"color: #800080; text-decoration-color: #800080\">              3.637307642947853              </span>│\n",
       "│<span style=\"color: #008080; text-decoration-color: #008080\"> test_persistence_baseline/w_rmse_air_tempe… </span>│<span style=\"color: #800080; text-decoration-color: #800080\">              4.176257752189843              </span>│\n",
       "│<span style=\"color: #008080; text-decoration-color: #008080\"> test_persistence_baseline/w_rmse_geopotent… </span>│<span style=\"color: #800080; text-decoration-color: #800080\">              1212.847953716597              </span>│\n",
       "│<span style=\"color: #008080; text-decoration-color: #008080\"> test_persistence_baseline/w_rmse_temperatu… </span>│<span style=\"color: #800080; text-decoration-color: #800080\">              4.860542384032741              </span>│\n",
       "│<span style=\"color: #008080; text-decoration-color: #008080\"> test_ridge_regression_baseline/w_rmse_air_… </span>│<span style=\"color: #800080; text-decoration-color: #800080\">             15.377150814108784              </span>│\n",
       "│<span style=\"color: #008080; text-decoration-color: #008080\"> test_ridge_regression_baseline/w_rmse_geop… </span>│<span style=\"color: #800080; text-decoration-color: #800080\">             2116.8605641188215              </span>│\n",
       "│<span style=\"color: #008080; text-decoration-color: #008080\"> test_ridge_regression_baseline/w_rmse_temp… </span>│<span style=\"color: #800080; text-decoration-color: #800080\">              13.48245629237431              </span>│\n",
       "└─────────────────────────────────────────────┴─────────────────────────────────────────────┘\n",
       "</pre>\n"
      ],
      "text/plain": [
       "┏━━━━━━━━━━━━━━━━━━━━━━━━━━━━━━━━━━━━━━━━━━━━━┳━━━━━━━━━━━━━━━━━━━━━━━━━━━━━━━━━━━━━━━━━━━━━┓\n",
       "┃\u001b[1m \u001b[0m\u001b[1m                Test metric                \u001b[0m\u001b[1m \u001b[0m┃\u001b[1m \u001b[0m\u001b[1m               DataLoader 0                \u001b[0m\u001b[1m \u001b[0m┃\n",
       "┡━━━━━━━━━━━━━━━━━━━━━━━━━━━━━━━━━━━━━━━━━━━━━╇━━━━━━━━━━━━━━━━━━━━━━━━━━━━━━━━━━━━━━━━━━━━━┩\n",
       "│\u001b[36m \u001b[0m\u001b[36m      test/acc_air_temperature_day_3       \u001b[0m\u001b[36m \u001b[0m│\u001b[35m \u001b[0m\u001b[35m            0.8316408819007174             \u001b[0m\u001b[35m \u001b[0m│\n",
       "│\u001b[36m \u001b[0m\u001b[36m      test/acc_geopotential_500_day_3      \u001b[0m\u001b[36m \u001b[0m│\u001b[35m \u001b[0m\u001b[35m            0.5522263061352618             \u001b[0m\u001b[35m \u001b[0m│\n",
       "│\u001b[36m \u001b[0m\u001b[36m      test/acc_temperature_850_day_3       \u001b[0m\u001b[36m \u001b[0m│\u001b[35m \u001b[0m\u001b[35m             0.693716597671046             \u001b[0m\u001b[35m \u001b[0m│\n",
       "│\u001b[36m \u001b[0m\u001b[36m     test/w_rmse_air_temperature_day_3     \u001b[0m\u001b[36m \u001b[0m│\u001b[35m \u001b[0m\u001b[35m             3.03910333647438              \u001b[0m\u001b[35m \u001b[0m│\n",
       "│\u001b[36m \u001b[0m\u001b[36m    test/w_rmse_geopotential_500_day_3     \u001b[0m\u001b[36m \u001b[0m│\u001b[35m \u001b[0m\u001b[35m             919.0756713192048             \u001b[0m\u001b[35m \u001b[0m│\n",
       "│\u001b[36m \u001b[0m\u001b[36m     test/w_rmse_temperature_850_day_3     \u001b[0m\u001b[36m \u001b[0m│\u001b[35m \u001b[0m\u001b[35m             3.637307642947853             \u001b[0m\u001b[35m \u001b[0m│\n",
       "│\u001b[36m \u001b[0m\u001b[36mtest_persistence_baseline/w_rmse_air_tempe…\u001b[0m\u001b[36m \u001b[0m│\u001b[35m \u001b[0m\u001b[35m             4.176257752189843             \u001b[0m\u001b[35m \u001b[0m│\n",
       "│\u001b[36m \u001b[0m\u001b[36mtest_persistence_baseline/w_rmse_geopotent…\u001b[0m\u001b[36m \u001b[0m│\u001b[35m \u001b[0m\u001b[35m             1212.847953716597             \u001b[0m\u001b[35m \u001b[0m│\n",
       "│\u001b[36m \u001b[0m\u001b[36mtest_persistence_baseline/w_rmse_temperatu…\u001b[0m\u001b[36m \u001b[0m│\u001b[35m \u001b[0m\u001b[35m             4.860542384032741             \u001b[0m\u001b[35m \u001b[0m│\n",
       "│\u001b[36m \u001b[0m\u001b[36mtest_ridge_regression_baseline/w_rmse_air_…\u001b[0m\u001b[36m \u001b[0m│\u001b[35m \u001b[0m\u001b[35m            15.377150814108784             \u001b[0m\u001b[35m \u001b[0m│\n",
       "│\u001b[36m \u001b[0m\u001b[36mtest_ridge_regression_baseline/w_rmse_geop…\u001b[0m\u001b[36m \u001b[0m│\u001b[35m \u001b[0m\u001b[35m            2116.8605641188215             \u001b[0m\u001b[35m \u001b[0m│\n",
       "│\u001b[36m \u001b[0m\u001b[36mtest_ridge_regression_baseline/w_rmse_temp…\u001b[0m\u001b[36m \u001b[0m│\u001b[35m \u001b[0m\u001b[35m             13.48245629237431             \u001b[0m\u001b[35m \u001b[0m│\n",
       "└─────────────────────────────────────────────┴─────────────────────────────────────────────┘\n"
      ]
     },
     "metadata": {},
     "output_type": "display_data"
    },
    {
     "data": {
      "text/html": [
       "<pre style=\"white-space:pre;overflow-x:auto;line-height:normal;font-family:Menlo,'DejaVu Sans Mono',consolas,'Courier New',monospace\"></pre>\n"
      ],
      "text/plain": []
     },
     "metadata": {},
     "output_type": "display_data"
    },
    {
     "data": {
      "text/html": [
       "<pre style=\"white-space:pre;overflow-x:auto;line-height:normal;font-family:Menlo,'DejaVu Sans Mono',consolas,'Courier New',monospace\">\n",
       "</pre>\n"
      ],
      "text/plain": [
       "\n"
      ]
     },
     "metadata": {},
     "output_type": "display_data"
    }
   ],
   "source": [
    "# era -> cmip\n",
    "era5_trainer.test(era5_model_module, cmip6_data_module)"
   ]
  }
 ],
 "metadata": {
  "kernelspec": {
   "display_name": "Python 3 (ipykernel)",
   "language": "python",
   "name": "python3"
  },
  "language_info": {
   "codemirror_mode": {
    "name": "ipython",
    "version": 3
   },
   "file_extension": ".py",
   "mimetype": "text/x-python",
   "name": "python",
   "nbconvert_exporter": "python",
   "pygments_lexer": "ipython3",
   "version": "3.8.13"
  }
 },
 "nbformat": 4,
 "nbformat_minor": 5
}
